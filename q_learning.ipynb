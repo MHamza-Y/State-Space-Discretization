{
 "cells": [
  {
   "cell_type": "code",
   "execution_count": 1,
   "metadata": {
    "collapsed": true
   },
   "outputs": [],
   "source": [
    "import torch\n",
    "from dynamic_model.model import DynamicsLookAheadModel\n",
    "from dynamic_model.transforms import NormalizeTransform\n",
    "from envs.IBGym_mod_envs import IBGymModded, IBGymQ\n",
    "import numpy as np\n",
    "import random\n",
    "from IPython.display import clear_output\n",
    "import matplotlib.pyplot as plt"
   ]
  },
  {
   "cell_type": "markdown",
   "source": [
    "## Init Model and env"
   ],
   "metadata": {
    "collapsed": false
   }
  },
  {
   "cell_type": "code",
   "execution_count": 2,
   "outputs": [
    {
     "name": "stdout",
     "output_type": "stream",
     "text": [
      "{'save_path': 'NormalizeInputConfigs', 'mean': tensor([[[ 70.0000,  50.5296,  50.2879,  49.8275,  40.0748, 226.5551]]],\n",
      "       device='cuda:0'), 'std': tensor([[[  0.0000,  17.5729,  31.5998,  30.0910,  37.5688, 232.3885]]],\n",
      "       device='cuda:0')}\n"
     ]
    },
    {
     "name": "stderr",
     "output_type": "stream",
     "text": [
      "/home/hamza/PycharmProjects/StateCompression/venv/lib/python3.8/site-packages/gym/spaces/box.py:73: UserWarning: \u001B[33mWARN: Box bound precision lowered by casting to float32\u001B[0m\n",
      "  logger.warn(\n"
     ]
    }
   ],
   "source": [
    "device = 'cuda'\n",
    "\n",
    "\n",
    "model_path = 'dynamic_model/model'\n",
    "# num_of_features = 6\n",
    "# seq_len = 30\n",
    "# hidden_size = 8\n",
    "# out_size = 2\n",
    "# look_ahead = 0\n",
    "# n_layers = 1\n",
    "# dropout_p = 0.2\n",
    "#\n",
    "#\n",
    "# model = DynamicsLookAheadModel(features=num_of_features, hidden_size=hidden_size, out_size=out_size,\n",
    "#                                batch_size=1, seq_len=seq_len, n_layers=n_layers, dropout_p=dropout_p,\n",
    "#                                look_ahead=look_ahead).to(device)\n",
    "model = torch.load(model_path).to(device)\n",
    "model.eval()\n",
    "model.look_ahead = 0\n",
    "#model.load_state_dict(torch.load(model_path))\n",
    "normalize_dataset = NormalizeTransform.load('dynamic_model/NormalizeInputConfigs.pkl')\n",
    "normalize_dataset.to(device)\n",
    "print(normalize_dataset.__dict__)\n",
    "env = IBGymQ(q_model=model,device=device, setpoint=70, reward_type='classic', action_type='discrete', observation_type='include_past',\n",
    "             reset_after_timesteps=1000, n_past_timesteps=model.seq_len, normalize_transformer=normalize_dataset)"
   ],
   "metadata": {
    "collapsed": false
   }
  },
  {
   "cell_type": "code",
   "execution_count": 3,
   "outputs": [
    {
     "data": {
      "text/plain": "27"
     },
     "execution_count": 3,
     "metadata": {},
     "output_type": "execute_result"
    }
   ],
   "source": [
    "env.reset()\n",
    "env.action_space.n"
   ],
   "metadata": {
    "collapsed": false
   }
  },
  {
   "cell_type": "code",
   "execution_count": 4,
   "outputs": [],
   "source": [
    "#np.zeros([env.observation_space.n, env.action_space.n])\n"
   ],
   "metadata": {
    "collapsed": false
   }
  },
  {
   "cell_type": "code",
   "execution_count": 5,
   "outputs": [],
   "source": [
    "def add_new_state(state, q_table):\n",
    "    if not state in q_table:\n",
    "        q_table[state] = np.zeros(env.action_space.n)\n",
    "\n"
   ],
   "metadata": {
    "collapsed": false
   }
  },
  {
   "cell_type": "code",
   "execution_count": 6,
   "outputs": [],
   "source": [
    "alpha = 0.001\n",
    "gamma = 0.9\n",
    "epsilon = 0.01\n",
    "q_table = {}\n",
    "# For plotting metrics\n",
    "all_epochs = []\n",
    "all_penalties = []\n",
    "mean_reward_per_epoch = []\n",
    "state_space_size = []"
   ],
   "metadata": {
    "collapsed": false
   }
  },
  {
   "cell_type": "code",
   "execution_count": 7,
   "outputs": [
    {
     "name": "stdout",
     "output_type": "stream",
     "text": [
      "Mean Reward: -484.26564470847154\n",
      "Total States: 2102\n",
      "Episode: 1199\n",
      "Training finished.\n",
      "\n"
     ]
    }
   ],
   "source": [
    "\n",
    "\n",
    "for i in range(1, 1200):\n",
    "    state = env.reset()\n",
    "    add_new_state(state,q_table)\n",
    "    epochs, penalties, reward, = 0, 0, 0\n",
    "    done = False\n",
    "    total_reward=0\n",
    "    while not done:\n",
    "\n",
    "        if random.uniform(0, 1) < epsilon:\n",
    "            action = env.action_space.sample() # Explore action space\n",
    "        else:\n",
    "            action = np.argmax(q_table[state]) # Exploit learned values\n",
    "\n",
    "        next_state, reward, done, info = env.step(action)\n",
    "        total_reward +=reward\n",
    "\n",
    "        add_new_state(next_state,q_table)\n",
    "        old_value = q_table[state][action]\n",
    "        next_max = np.max(q_table[next_state])\n",
    "\n",
    "        new_value = (1 - alpha) * old_value + alpha * (reward + gamma * next_max)\n",
    "        q_table[state][action] = new_value\n",
    "\n",
    "        state = next_state\n",
    "        epochs += 1\n",
    "\n",
    "    if i % 1 == 0:\n",
    "\n",
    "        clear_output(wait=True)\n",
    "        mean_reward_per_epoch.append(total_reward/env.reset_after_timesteps)\n",
    "        state_space_size.append(len(q_table.keys()))\n",
    "        print(f'Mean Reward: {mean_reward_per_epoch[-1]}')\n",
    "        print(f'Total States: {state_space_size[-1]}')\n",
    "        print(f\"Episode: {i}\")\n",
    "\n",
    "print(\"Training finished.\\n\")"
   ],
   "metadata": {
    "collapsed": false
   }
  },
  {
   "cell_type": "code",
   "execution_count": 8,
   "outputs": [
    {
     "data": {
      "text/plain": "[<matplotlib.lines.Line2D at 0x7fe055b65880>]"
     },
     "execution_count": 8,
     "metadata": {},
     "output_type": "execute_result"
    },
    {
     "data": {
      "text/plain": "<Figure size 432x288 with 1 Axes>",
      "image/png": "[encoded data removed]"
     },
     "metadata": {
      "needs_background": "light"
     },
     "output_type": "display_data"
    }
   ],
   "source": [
    "plt.plot(mean_reward_per_epoch)"
   ],
   "metadata": {
    "collapsed": false
   }
  },
  {
   "cell_type": "code",
   "execution_count": 9,
   "outputs": [
    {
     "data": {
      "text/plain": "[<matplotlib.lines.Line2D at 0x7fe0559fe2b0>]"
     },
     "execution_count": 9,
     "metadata": {},
     "output_type": "execute_result"
    },
    {
     "data": {
      "text/plain": "<Figure size 432x288 with 1 Axes>",
      "image/png": "[encoded data removed]"
     },
     "metadata": {
      "needs_background": "light"
     },
     "output_type": "display_data"
    }
   ],
   "source": [
    "plt.plot(state_space_size)\n"
   ],
   "metadata": {
    "collapsed": false
   }
  },
  {
   "cell_type": "code",
   "execution_count": 10,
   "outputs": [
    {
     "name": "stdout",
     "output_type": "stream",
     "text": [
      "-506.92058338613595\n",
      "-498.2232376490155\n",
      "-370.7213246524124\n",
      "-602.5909416731057\n",
      "-420.6179181513799\n",
      "-464.8275559304652\n",
      "-382.38309615520274\n",
      "-408.11929273259585\n",
      "-360.0894509563777\n",
      "-448.1453044120384\n",
      "Results after 10 episodes:\n",
      "Average timesteps per episode: 1000.0\n",
      "Average Reward per episode: -446.26387056987295\n"
     ]
    }
   ],
   "source": [
    "total_epochs = 0\n",
    "episodes = 10\n",
    "avg_ep_reward = 0\n",
    "for _ in range(episodes):\n",
    "    state = env.reset()\n",
    "    epochs, penalties, reward = 0, 0, 0\n",
    "\n",
    "    done = False\n",
    "    total_rewards = 0\n",
    "    while not done:\n",
    "        add_new_state(state,q_table)\n",
    "        action = np.argmax(q_table[state])\n",
    "        state, reward, done, info = env.step(action)\n",
    "\n",
    "\n",
    "        epochs += 1\n",
    "\n",
    "        total_rewards += reward\n",
    "    print((total_rewards/env.reset_after_timesteps))\n",
    "    avg_ep_reward += (total_rewards/env.reset_after_timesteps)\n",
    "    total_epochs += epochs\n",
    "\n",
    "print(f\"Results after {episodes} episodes:\")\n",
    "print(f\"Average timesteps per episode: {total_epochs / episodes}\")\n",
    "print(f\"Average Reward per episode: {avg_ep_reward / episodes}\")"
   ],
   "metadata": {
    "collapsed": false
   }
  },
  {
   "cell_type": "code",
   "execution_count": 11,
   "outputs": [
    {
     "name": "stdout",
     "output_type": "stream",
     "text": [
      "dict_keys([69148, 69276, 68764, 199836, 197788, 201884, 70808, 69848, 266456, 266328, 331992, 790616, 790648, 790649, 790617, 823897, 823929, 561785, 569977, 569913, 586297, 586265, 586269, 586271, 588319, 588311, 588343, 588341, 588405, 588413, 588349, 586365, 586361, 569401, 536761, 536729, 536601, 537145, 537241, 553529, 619193, 619161, 651803, 586267, 586301, 653885, 588351, 588345, 653881, 653981, 588317, 588309, 588409, 585849, 561273, 36921, 4120, 266392, 266396, 266397, 266909, 791197, 529053, 561725, 561721, 569885, 569887, 586303, 651837, 588373, 577657, 36984, 4312, 4248, 4184, 528540, 528413, 790557, 528541, 790685, 528925, 561693, 569917, 654013, 569433, 569369, 585785, 585881, 585753, 570009, 840217, 561821, 570013, 537245, 586429, 654015, 653877, 586425, 5272, 12376, 12312, 13368, 132284, 203932, 204444, 202396, 69784, 12440, 798873, 537113, 553497, 200348, 77468, 77340, 76892, 76884, 207956, 208340, 470484, 470356, 470292, 470932, 208788, 208660, 225044, 225052, 216860, 216732, 220888, 220376, 219352, 823417, 569465, 553017, 545337, 578105, 578169, 621113, 553657, 588401, 585817, 12505, 45145, 12441, 45081, 307225, 307865, 307869, 45725, 569881, 577625, 20505, 36889, 12953, 570041, 586393, 553625, 588477, 654009, 651961, 586397, 653855, 64057, 129721, 621241, 653977, 653853, 653845, 68636, 85020, 71324, 70748, 5208, 66648, 17496, 85016, 216728, 216216, 220312, 201944, 200920, 790744, 528473, 528505, 790584, 790712, 528568, 528537, 528633, 528504, 528600, 528472, 4216, 5304, 790681, 791065, 545305, 537273, 529081, 529049, 528953, 545465, 4252, 4125, 4253, 544825, 544889, 53337, 21592, 76828, 76956, 208284, 220572, 466844, 466588, 463516, 70296, 528536, 536633, 528441, 588381, 578233, 579257, 579225, 54937, 63129, 95897, 94873, 208212, 470420, 208796, 93468, 224540, 216476, 478620, 479132, 460444, 464604, 463576, 856280, 790776, 790553, 791069, 528601, 536665, 36953, 266268, 331933, 561689, 544953, 561272, 4152, 331932, 332445, 537117, 561177, 266393, 266905, 651833, 651801, 653847, 553049, 12313, 61465, 61977, 62105, 651933, 588465, 588337, 585913, 4249, 569529, 553113, 69132, 77596, 208668, 200604, 70812, 70684, 70744, 69832, 70872, 798777, 790585, 536697, 536696, 4280, 790680, 569981, 588473, 555577, 577593, 561305, 577721, 553145, 651805, 37017, 832153, 832025, 77140, 208148, 208276, 77404, 332828, 331996, 856284, 790620, 790748, 790652, 790552, 578077, 586333, 561849, 561337, 528569, 651965, 545433, 200476, 216988, 73372, 71384, 69720, 20568, 21624, 89144, 220696, 220824, 807033, 790745, 528440, 544857, 577656, 528409, 528921, 561209, 4761, 4633, 653887, 577561, 45209, 798905, 397497, 399000, 4760, 70297, 610969, 611001, 53401, 77588, 85532, 93212, 204440, 20600, 89112, 217304, 86232, 331864, 807000, 807001, 578073, 577785, 36985, 36888, 4156, 4124, 651929, 577689, 544921, 307353, 619065, 798745, 77652, 77396, 198300, 69788, 69660, 528476, 528444, 4284, 528508, 528632, 823837, 791225, 619069, 53368, 53336, 4188, 5276, 7196, 561241, 12377, 832057, 553081, 12473, 135352, 397976, 69404, 68700, 77724, 208092, 470486, 470358, 470422, 77332, 225180, 220828, 219288, 266360, 791097, 544888, 397468, 463004, 528412, 528604, 528477, 528509, 585945, 61529, 61593, 45593, 588441, 587449, 799385, 69212, 93972, 208852, 67228, 71196, 5212, 1116, 208540, 199708, 4316, 266492, 4220, 545341, 545309, 578109, 20632, 5148, 3100, 790621, 798749, 823389, 823869, 791101, 528957, 561276, 790684, 790556, 528445, 528573, 790589, 36952, 4185, 4121, 85660, 67100, 66588, 66716, 69816, 266296, 331928, 53369, 529017, 528985, 561213, 20633, 36920, 135320, 136344, 136348, 200860, 790777, 70680, 74904, 205980, 224412, 478364, 466332, 463512, 987288, 856216, 544985, 806937, 536760, 136376, 201880, 200856, 66584, 76824, 224668, 77084, 466076, 466108, 70796, 70668, 73244, 69724, 266332, 331868, 282744, 332888, 464088, 463064, 823416, 266269, 4765, 569497, 561401, 45721, 5336, 13336, 13468, 144540, 201372, 201368, 552985, 29337, 37081, 4313, 545017, 21528, 17560, 93724, 216092, 216220, 266424, 463000, 28760, 790653, 823357, 561789, 135324, 569945, 12957, 791193, 37080, 529080, 529048, 200888, 85144, 200344, 202392, 20569, 66712, 197784, 214168, 136380, 201916, 464028, 332440, 225108, 225236, 4172, 1052, 266300, 790780, 528636, 790588, 37048, 53464, 20696, 1112, 199832, 5273, 5785, 13977, 77076, 93524, 225172, 224924, 85528, 85592, 89176, 88152, 23672, 220184, 482520, 348376, 348248, 282712, 87192, 14424, 10328, 11352, 93268, 208084, 5196, 331804, 72732, 72860, 7260, 70844, 594108, 807032, 479448, 85080, 93208, 208156, 204504, 69880, 839801, 807129, 528408, 398520, 17432, 17464, 83000, 85148, 200092, 70300, 76820, 70732, 66572, 69196, 77384, 93272, 93720, 216600, 68760, 5144, 332956, 266364, 3164, 594076, 529021, 69260, 67084, 224596, 224724, 93980, 72796, 72792, 69208, 68696, 19576, 69272, 73432, 5176, 82968, 83096, 85656, 67224, 807128, 21656, 921816, 132248, 464024, 987352, 807160, 6236, 470804, 216604, 856156, 69852, 8216, 476312, 464536, 807161, 70840, 594140, 790713, 77148, 486740, 486868, 208278, 486804, 487316, 470805, 470933, 85560, 89656, 350296, 93852, 208412, 208028, 4344, 20504, 224660, 201912, 397496, 463032, 87132, 87068, 87064, 86104, 87128, 88280, 24664, 93340, 202456, 266488, 25688, 77020, 93788, 71180, 72780, 7244, 77716, 71708, 6172, 266265, 848537, 37049, 1176, 203964, 68684, 77660, 21560, 200220, 208724, 5132, 69772, 71308, 66632, 77212, 487188, 69708, 70876, 5180, 594136, 480408, 349208, 76888, 93464, 220728, 89208, 203992, 208732, 94036, 80980, 339028, 469462, 469334, 403798, 404822, 474582, 474518, 473494, 407958, 408983, 409495, 405397, 143125, 225181, 225212, 93276, 94108, 404886, 404759, 405269, 93784, 89624, 8280, 9304, 27736, 225176, 481496, 872664, 856152, 16472, 224532, 266316, 94044, 5724, 3676, 89244, 72920, 348184, 86040, 87256, 79960, 14416, 276560, 272464, 273488, 470228, 404885, 89720, 282840, 10320, 288848, 486480, 470224, 470421, 224796, 220188, 220316, 88284, 86108, 89116, 89240, 85788, 224664, 89752, 83160, 83032, 71244, 69644, 89688, 88184, 216088, 203928, 77912, 224404, 790600, 93596, 218268, 266312, 544856, 4348, 66652, 470100, 486484, 473558, 486742, 208342, 486676, 69656, 71320, 528460, 224340, 69532, 856220, 69836, 67212, 72856, 74840, 19544, 85084, 93780, 407894, 408982, 404887, 225173, 66636, 73228, 93716, 470294, 208220, 89756, 66700, 68620, 85596, 22616, 88216, 348312, 23640, 97368, 76880, 75856, 27728, 93520, 224592, 225168, 216984, 5240, 93848, 80988, 487317, 93460, 86168, 88088, 30808, 224920, 96344, 92248, 26712, 350424, 89304, 85720, 486608, 408022, 408918, 409046, 11356, 486870, 224852, 207188, 404758, 404757, 224792, 31832, 266460, 4204, 83100, 220856, 207900, 407830, 225045, 21720, 348252, 4108, 490966, 490964, 474454, 470293, 208789, 349212, 86172, 479384, 93264, 93392, 224464, 93400, 224860, 212436, 87196, 69704, 6232, 71768, 481432, 201432, 208476, 224280, 1003736, 68632, 77204, 332952, 198296, 15452, 208468, 73292, 70728, 5192, 73816, 218264, 7256, 224472, 5660, 77016, 11344, 225104, 93904, 93776, 94032, 93968, 93976, 224408, 68824, 208080, 224468, 487189, 69144, 7756, 85208, 225040, 93912, 4168, 331960, 1048, 7240, 77008, 338000, 470482, 487324, 214680, 25624, 93240, 938200, 21688, 3612, 486806, 77528, 216636, 152728, 69192, 85576, 73304, 69336, 332892, 267356, 208020, 85516, 77012, 71772, 487380, 212308, 473428, 77400, 470934, 208790, 470423, 474580, 212438, 594008, 17528, 85048, 18520, 80984, 486612, 207964, 76876, 88156, 89180, 216348, 218328, 225048, 486736, 486672, 208860, 71192, 216120, 482456, 87580, 82972, 72776, 23624, 85064, 75864, 71260, 66776, 3160, 68680, 19528, 220248, 85068, 93588, 486805, 87096, 94100, 407959, 407831, 409493, 89628, 89692, 469200, 490902, 218168, 89160, 77392, 89816, 348380, 266264, 486684, 208604, 404820, 3148, 485846, 486812, 72716, 469332, 11348, 208214, 225232, 224976, 224336, 224720, 872536, 93204, 480412, 349340, 217240, 224984, 424406, 425430, 491412, 212884, 212948, 486677, 79952, 272720, 487184, 207952, 199964, 398492, 474516, 404821, 421141, 75860, 289872, 932246, 474452, 338004, 342100, 276822, 475029, 208661, 356180, 79964, 79956, 14420, 276564, 272724, 489942, 73308, 93404, 96336, 272722, 408018, 403862, 88600, 339024, 207316, 485716, 485460, 216124, 77388, 97364, 211284, 473430, 403734, 88092, 469398, 470295, 276566, 933270, 407895, 408917, 274197, 421653, 26704, 207056, 469330, 404816, 486864, 355668, 284760, 90200, 92240, 469072, 470480, 224536, 397528, 85004, 69128, 15448, 88, 86044, 224662, 84056, 470096, 224980, 419920, 485712, 97880, 348316, 5340, 987320, 93916, 473300, 342230, 276950, 930262, 930134, 403735, 15444, 77324, 85580, 93772, 93768, 87704, 421200, 487248, 93840, 97372, 407632, 470868, 339284, 339796, 93708, 487252, 348188, 89612, 89100, 354384, 207318, 404756, 425366, 425428, 490900, 71752, 93456, 403536, 267292, 214040, 93200, 485584, 469456, 469458, 94296, 208272, 224476, 421268, 212372, 424278, 469460, 97876, 290128, 331800, 77464, 93336, 469076, 69692, 331964, 790749, 823421, 561277, 266781, 856733, 594589, 470230, 404566, 224988, 489878, 490838, 355408, 211414, 30800, 420048, 212052, 473174, 75862, 272468, 419924, 469268, 93712, 485456, 485840, 224348, 486741, 86236, 208348, 470935, 342358, 425364, 10324, 73368, 921848, 408855, 89164, 355664, 80976, 339156, 85512, 469328, 94160, 489814, 403926, 403794, 225244, 85644, 408854, 7708, 409044, 421269, 473556, 7772, 421270, 470352, 486800, 487312, 338262, 87116, 208532, 421781, 81500, 801174, 930198, 930199, 92760, 96856, 338260, 470996, 208404, 485844, 490836, 338256, 273744, 290641, 224912, 3660, 403922, 223440, 469074, 272466, 288850, 80972, 404950, 65624, 76948, 76116, 20572, 70860, 342102, 80212, 932310, 932182, 93396, 349272, 331852, 5708, 3144, 3672, 97360, 424342, 229268, 211286, 276821, 273749, 421717, 216632, 216760, 77336, 407638, 425302, 403796, 68808, 459932, 267448, 69820, 76952, 74776, 216248, 282777, 283801, 22169, 594585, 839833, 38553, 46745, 407892, 421205, 5308, 69688, 208596, 487196, 66568, 73240, 224284, 228820, 88664, 475028, 70328, 4856, 421271, 97620, 81236, 421204, 87052, 342096, 473554, 408020, 420176, 356176, 70716, 856092, 806969, 807097, 83484, 206932, 13400, 403792, 407888, 473424, 474576, 474578, 403799, 421780, 211412, 1080, 68664, 75984, 474519, 73356, 9240, 425877, 229141, 19484, 593980, 856124, 528637, 528572, 473168, 473298, 407634, 83608, 485718, 1144, 212692, 272726, 208336, 425237, 475092, 342356, 404884, 289108, 355412, 70856, 208536, 85052, 27740, 91160, 355536, 403863, 420944, 404818, 212374, 420182, 421334, 71896, 93844, 87260, 70712, 343124, 409365, 97884, 94104, 420180, 932247, 403538, 932119, 932118, 491413, 229269, 350360, 93256, 229332, 424404, 228692, 408853, 424276, 404823, 407954, 425301, 425300, 491476, 276818, 272721, 273745, 473296, 421332, 475030, 487253, 464540, 93260, 212180, 276562, 405399, 407890, 224916, 276690, 404948, 92752, 273748, 89676, 276694, 799062, 72728, 469078, 290133, 218136, 469202, 342226, 96340, 92244, 408981, 73288, 96852, 350300, 332824, 333020, 17592, 333016, 413912, 81492, 276946, 799190, 338128, 342224, 93973, 94037, 224528, 212820, 218140, 528488, 4200, 14428, 351256, 82008, 930071, 276823, 92368, 408916, 356116, 229076, 80214, 403733, 228948, 421140, 339732, 801110, 930070, 87708, 267288, 593948, 791224, 529144, 37405, 594104, 725144, 545401, 274514, 798802, 798994, 798995, 933271, 409494, 405398, 81748, 80724, 290132, 80468, 485842, 938232, 403920, 349336, 267352, 93908, 94172, 425749, 489808, 489552, 358480, 342352, 272594, 474324, 342228, 421716, 491348, 801238, 798999, 799127, 930710, 932758, 932759, 930711, 930583, 931735, 931734, 933782, 933783, 159509, 338002, 207190, 933143, 27732, 28244, 65752, 339220, 801047, 409367, 163733, 92764, 490960, 489936, 473552, 473170, 807065, 594072, 932306, 932242, 405268, 224344, 405332, 65692, 77980, 206928, 338132, 343252, 77524, 97304, 224604, 491285, 473172, 801175, 933334, 405460, 229204, 14422, 276819, 403793, 404817, 421649, 5644, 487376, 292944, 421206, 272470, 407762, 403797, 223572, 282716, 79958, 338006, 21596, 224656, 790781, 823420, 823325, 470357, 419926, 81876, 289104, 356112, 96348, 97816, 405396, 80084, 274774, 801046, 93781, 801234, 930194, 421652, 288852, 274898, 799058, 425879, 408980, 21532, 81052, 7192, 219292, 489940, 486807, 224400, 473302, 407766, 343573, 32277, 28240, 404564, 801170, 799126, 267324, 333500, 201464, 20601, 225116, 339280, 15440, 475031, 474196, 77380, 91224, 351320, 223312, 425365, 408919, 338130, 88220, 20604, 23580, 80924, 561181, 489812, 801239, 930135, 94168, 289876, 931222, 470428, 480472, 94096, 1100, 96848, 1036, 208088, 207312, 290644, 798998, 229140, 98132, 355920, 489680, 358608, 342098, 276882, 409047, 409429, 225109, 409042, 6216, 214172, 68748, 228756, 480280, 28248, 224312, 1628, 342484, 424272, 490832, 202428, 200952, 217020, 11340, 425876, 14678, 21576, 799186, 799187, 276544, 798786, 933206, 274260, 355540, 408016, 76872, 921784, 790604, 218200, 272592, 403664, 397464, 480440, 87100, 332024, 856312, 930195, 474964, 473426, 228816, 96464, 342354, 97488, 354640, 276816, 293200, 421648, 290388, 409492, 403924, 425367, 342486, 92500, 272465, 290389, 28501, 89740, 799122, 799123, 425431, 227536, 67148, 404944, 290384, 932178, 409040, 801106, 98069, 799063, 19548, 790632, 403795, 404881, 807577, 588445, 578201, 461980, 276758, 354388, 92756, 404560, 94164, 931223, 405271, 70392, 15388, 74968, 276820, 225084, 71756, 11292, 77532, 212564, 350232, 93332, 220216, 211924, 276817, 1240, 224828, 77136, 208208, 486680, 276688, 425940, 14421, 27733, 28245, 482460, 67164, 420310, 212756, 28500, 89272, 202424, 77589, 211796, 479388, 425239, 96596, 7288, 799059, 202968, 11868, 404946, 404880, 470288, 420308, 220700, 4153, 37016, 152600, 930258, 224848, 290640, 227796, 343380, 528605, 7752, 69756, 331896, 856188, 1564, 594012, 403542, 3656, 486486, 339152, 70904, 480284, 220220, 421844, 97108, 358484, 358740, 92252, 72760, 87160, 93532, 421328, 71800, 69752, 338772, 799639, 930695, 926599, 927623, 919431, 984975, 919439, 923535, 923551, 933791, 409503, 147357, 163732, 81684, 80404, 80412, 354644, 928214, 929110, 98000, 473366, 342422, 276886, 931719, 147348, 27216, 356181, 405333, 97872, 218296, 220344, 151768, 75868, 79000, 9368, 80080, 7292, 19480, 23576, 23704, 13464, 407636, 409556, 409428, 98133, 545016, 7324, 205976, 70776, 801687, 929687, 276754, 799511, 85916, 29784, 83004, 266428, 561245, 355924, 349400, 798806, 799046, 343892, 475094, 276550, 214044, 211024, 223696, 332988, 201784, 800854, 931718, 405462, 147284, 349276, 282776, 199868, 462492, 791192, 332444, 342482, 328860, 216764, 273492, 71836, 274770, 932183, 801042, 923527, 474900, 98068, 929671, 929686, 217244, 354512, 425878, 197660, 585977, 4281, 933655, 83036, 40028, 81749, 227792, 26708, 474006, 276759, 799623, 147222, 16212, 470102, 470812, 267320, 928082, 404752, 405392, 351260, 338258, 290129, 933846, 409558, 212950, 801111, 96860, 12952, 277781, 404753, 984974, 984967, 799495, 930567, 799175, 926023, 926982, 929542, 10332, 228436, 68668, 199740, 218300, 69884, 407893, 66620, 97877, 273620, 474070, 544793, 228564, 332984, 408784, 81108, 220860, 204476, 217176, 225240, 22648, 72924, 78936, 85640, 89672, 92496, 27729, 277845, 278293, 290581, 408912, 358736, 424343, 561817, 930263, 800850, 84184, 290645, 587897, 80726, 355156, 294480, 1096, 211350, 274261, 331900, 83480, 23644, 212885, 272727, 276692, 856248, 152760, 470998, 12116, 470226, 421712, 420304, 71256, 7768, 421207, 163605, 420178, 212886, 220760, 77520, 85112, 470940, 98260, 359760, 82956, 421264, 360276, 132280, 266344, 36988, 791196, 403540, 420948, 403731, 425424, 208726, 212822, 405328, 96592, 4300, 15432, 403666, 81685, 67160, 529145, 276887, 223568, 272725, 211926, 77452, 27672, 69180, 73400, 20536, 856252, 212757, 77072, 355604, 276546, 21657, 274834, 210076, 216252, 220280, 474320, 790716, 594172, 80968, 350236, 88668, 89096, 224597, 93525, 276630, 81496, 80470, 10322, 97820, 404692, 97812, 274902, 405910, 274642, 278357, 159573, 143255, 798784, 929559, 96796, 930055, 931094, 930183, 930119, 931158, 932166, 928086, 403732, 360020, 277716, 31824, 45144, 276626, 491414, 229270, 794950, 798023, 929623, 405265, 272596, 274838, 479320, 77916, 486424])\n"
     ]
    }
   ],
   "source": [
    "print(q_table.keys())"
   ],
   "metadata": {
    "collapsed": false
   }
  },
  {
   "cell_type": "code",
   "execution_count": 11,
   "outputs": [],
   "source": [],
   "metadata": {
    "collapsed": false
   }
  }
 ],
 "metadata": {
  "kernelspec": {
   "display_name": "Python 3",
   "language": "python",
   "name": "python3"
  },
  "language_info": {
   "codemirror_mode": {
    "name": "ipython",
    "version": 2
   },
   "file_extension": ".py",
   "mimetype": "text/x-python",
   "name": "python",
   "nbconvert_exporter": "python",
   "pygments_lexer": "ipython2",
   "version": "2.7.6"
  }
 },
 "nbformat": 4,
 "nbformat_minor": 0
}
