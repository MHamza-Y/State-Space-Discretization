{
 "cells": [
  {
   "cell_type": "code",
   "execution_count": 1,
   "outputs": [],
   "source": [
    "from ray.rllib.agents.ppo import PPOTrainer\n",
    "import numpy as np\n",
    "\n",
    "import industrial_benchmarks_train as ibt\n",
    "import pandas as pd\n",
    "import matplotlib.pyplot as plt\n",
    "from ppo.policy import LSTMPPOPolicy"
   ],
   "metadata": {
    "collapsed": false
   }
  },
  {
   "cell_type": "markdown",
   "source": [
    "# Create Agent"
   ],
   "metadata": {
    "collapsed": false
   }
  },
  {
   "cell_type": "code",
   "execution_count": 2,
   "outputs": [
    {
     "name": "stderr",
     "output_type": "stream",
     "text": [
      "/home/hamza/PycharmProjects/StateCompression/venv/lib/python3.8/site-packages/gym/spaces/box.py:73: UserWarning: \u001B[33mWARN: Box bound precision lowered by casting to float32\u001B[0m\n",
      "  logger.warn(\n"
     ]
    }
   ],
   "source": [
    "from envs.IBGym_mod_envs import IBGymModded\n",
    "\n",
    "ibt.config[\"num_workers\"] = 1\n",
    "# agent = PPOTrainer(config=ibt.config, env=None)\n",
    "# agent.restore(\n",
    "#     \"tmp/ray_exp_logs/industrial_benchmark/PPOTrainer_IBGym-v1_247b0_00000_0_2022-10-14_10-06-44/checkpoint_000150/checkpoint-150\")\n",
    "env = IBGymModded(70, reward_type='classic', action_type='discrete', reset_after_timesteps=1000,\n",
    "                       observation_type='include_past', n_past_timesteps=30)\n",
    "save_path = 'ppo/lstm_ppo_policy.pkl'\n",
    "policy = LSTMPPOPolicy.load(save_path)"
   ],
   "metadata": {
    "collapsed": false
   }
  },
  {
   "cell_type": "markdown",
   "source": [
    "# Test Function"
   ],
   "metadata": {
    "collapsed": false
   }
  },
  {
   "cell_type": "code",
   "execution_count": 3,
   "outputs": [],
   "source": [
    "def test(time_steps= 1000):\n",
    "    inference_data = {\"gain\": [], \"velocity\": [], \"shift\": [], \"actions\": []}\n",
    "    episode_reward = 0\n",
    "    done = False\n",
    "    obs = env.reset()\n",
    "\n",
    "    state = []\n",
    "    use_lstm = True#ibt.config[\"model\"][\"use_lstm\"]\n",
    "    use_attention = False#ibt.config[\"model\"][\"use_attention\"]\n",
    "    # if use_lstm:\n",
    "    #     cell_size = ibt.config[\"model\"][\"lstm_cell_size\"]\n",
    "    #     state = [np.zeros(cell_size, np.float32),\n",
    "    #              np.zeros(cell_size, np.float32)]\n",
    "    # if use_attention:\n",
    "    #     num_transformers = ibt.config[\"model\"][\"attention_num_transformer_units\"]\n",
    "    #     attention_dim = ibt.config[\"model\"][\"attention_dim\"]\n",
    "    #     memory = 50  # ibt.config[\"model\"][\"attention_memory_inference\"]\n",
    "    #     state = [\n",
    "    #         np.zeros([memory, attention_dim], np.float32)\n",
    "    #         for _ in range(num_transformers)\n",
    "    #     ]\n",
    "    i=0\n",
    "\n",
    "    while i < time_steps:\n",
    "        # inference_data[\"obs\"].extend(obs)\n",
    "        inference_data[\"gain\"].append(obs[2])\n",
    "        inference_data[\"velocity\"].append(obs[1])\n",
    "        inference_data[\"shift\"].append(obs[3])\n",
    "\n",
    "        action = policy.get_action(obs)\n",
    "\n",
    "        inference_data['actions'].append(action)\n",
    "\n",
    "        obs, reward, done, info = env.step(action)\n",
    "        print(obs)\n",
    "        print(reward)\n",
    "        # inference_data[\"action\"].extend(action)\n",
    "        # inference_data[\"reward\"].append(reward)\n",
    "        episode_reward += reward\n",
    "\n",
    "        # if use_attention:\n",
    "        #     state = [\n",
    "        #         np.concatenate([state[i], [state_out[i]]], axis=0)[1:]\n",
    "        #         for i in range(num_transformers)\n",
    "        #     ]\n",
    "        i=i+1\n",
    "\n",
    "    print(f\"Average Reward: {episode_reward/time_steps}\")\n",
    "    return inference_data"
   ],
   "metadata": {
    "collapsed": false
   }
  },
  {
   "cell_type": "markdown",
   "source": [
    "# Plot Function"
   ],
   "metadata": {
    "collapsed": false
   }
  },
  {
   "cell_type": "code",
   "execution_count": 4,
   "outputs": [],
   "source": [
    "def plot_inf_data(inference_data):\n",
    "    df = pd.DataFrame(inference_data)\n",
    "    plt.plot(df['actions'])\n",
    "    plt.legend(\"actions\")\n",
    "    plt.figure(figsize = (20, 8), dpi = 800)\n",
    "    plt.plot(df['gain'])\n",
    "    plt.legend(\"gain\")\n",
    "    plt.figure(figsize = (20, 8), dpi = 800)\n",
    "    plt.show()\n",
    "    plt.plot(df['velocity'])\n",
    "    plt.legend(\"velocity\")\n",
    "    plt.figure(figsize = (20, 8), dpi = 800)\n",
    "    plt.show()\n",
    "    plt.plot(df['shift'])\n",
    "    plt.legend(\"shift\")\n",
    "    plt.figure(figsize = (20, 8), dpi = 800)\n",
    "\n",
    "    plt.show()"
   ],
   "metadata": {
    "collapsed": false
   }
  },
  {
   "cell_type": "markdown",
   "source": [
    "# Create test data and plot"
   ],
   "metadata": {
    "collapsed": false
   }
  },
  {
   "cell_type": "code",
   "execution_count": null,
   "outputs": [
    {
     "name": "stderr",
     "output_type": "stream",
     "text": [
      "2022-10-14 15:28:08,630\tWARNING trainer.py:2540 -- You have specified 3 evaluation workers, but your `evaluation_interval` is None! Therefore, evaluation will not occur automatically with each call to `Trainer.train()`. Instead, you will have to call `Trainer.evaluate()` manually in order to trigger an evaluation run.\n"
     ]
    }
   ],
   "source": [
    "inference_data = test(1000)\n",
    "\n",
    "plot_inf_data(inference_data)"
   ],
   "metadata": {
    "collapsed": false
   }
  },
  {
   "cell_type": "code",
   "execution_count": null,
   "outputs": [],
   "source": [],
   "metadata": {
    "collapsed": false
   }
  }
 ],
 "metadata": {
  "kernelspec": {
   "display_name": "Python 3",
   "language": "python",
   "name": "python3"
  },
  "language_info": {
   "codemirror_mode": {
    "name": "ipython",
    "version": 2
   },
   "file_extension": ".py",
   "mimetype": "text/x-python",
   "name": "python",
   "nbconvert_exporter": "python",
   "pygments_lexer": "ipython2",
   "version": "2.7.6"
  }
 },
 "nbformat": 4,
 "nbformat_minor": 0
}
