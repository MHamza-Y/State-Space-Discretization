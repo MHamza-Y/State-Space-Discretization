{
 "cells": [
  {
   "cell_type": "code",
   "execution_count": 1,
   "metadata": {
    "collapsed": true
   },
   "outputs": [],
   "source": [
    "import os\n",
    "import shutil\n",
    "import time\n",
    "\n",
    "import torch\n",
    "\n",
    "from envs.IBGym_mod_envs import IBGymQ\n",
    "from offline.convert_datset import create_lstm_dataset, create_look_ahead_lstm_dataset\n",
    "from offline.dataset_creater import GymEnvSampler\n",
    "from state_quantization.transforms import NormalizeTransform\n",
    "from offline.convert_datset import merge_rllib_out, save_numpy\n",
    "import multiprocessing as mp"
   ]
  },
  {
   "cell_type": "markdown",
   "source": [
    "# Env Creator"
   ],
   "metadata": {
    "collapsed": false
   }
  },
  {
   "cell_type": "code",
   "execution_count": 2,
   "outputs": [],
   "source": [
    "\n",
    "\n",
    "device = 'cuda'\n",
    "\n",
    "\n",
    "model_path = 'dynamic_model/model'\n",
    "\n",
    "model = torch.load(model_path).to(device)\n",
    "model.eval()\n",
    "model.look_ahead = 0\n",
    "\n",
    "normalize_dataset = NormalizeTransform.load('dynamic_model/NormalizeInputConfigs.pkl')\n",
    "normalize_dataset.to(device)\n",
    "\n",
    "def env_creator(steps_per_episode=1000):\n",
    "    return IBGymQ(q_model=model,device='cuda', setpoint=70, reward_type='classic', action_type='discrete', observation_type='include_past',\n",
    "             reset_after_timesteps=steps_per_episode, n_past_timesteps=model.seq_len, normalize_transformer=normalize_dataset)"
   ],
   "metadata": {
    "collapsed": false
   }
  },
  {
   "cell_type": "markdown",
   "source": [
    "# Generate Episodes data"
   ],
   "metadata": {
    "collapsed": false
   }
  },
  {
   "cell_type": "code",
   "execution_count": 3,
   "outputs": [],
   "source": [
    "episodes = 100\n",
    "steps_per_episode = 1000"
   ],
   "metadata": {
    "collapsed": false
   }
  },
  {
   "cell_type": "code",
   "execution_count": 4,
   "outputs": [
    {
     "name": "stderr",
     "output_type": "stream",
     "text": [
      "/home/hamza/PycharmProjects/StateCompression/venv/lib/python3.8/site-packages/gym/spaces/box.py:73: UserWarning: \u001B[33mWARN: Box bound precision lowered by casting to float32\u001B[0m\n",
      "  logger.warn(\n",
      "2022-09-29 21:47:40,892\tWARNING deprecation.py:46 -- DeprecationWarning: `SampleBatchBuilder` has been deprecated. Use `a child class of `SampleCollector`` instead. This will raise an error in the future!\n"
     ]
    },
    {
     "name": "stdout",
     "output_type": "stream",
     "text": [
      "Episode: 0\n",
      "Episode: 1\n",
      "Episode: 2\n",
      "Episode: 3\n",
      "Episode: 4\n",
      "Episode: 5\n",
      "Episode: 6\n",
      "Episode: 7\n",
      "Episode: 8\n",
      "Episode: 9\n",
      "Episode: 10\n",
      "Episode: 11\n",
      "Episode: 12\n",
      "Episode: 13\n",
      "Episode: 14\n",
      "Episode: 15\n",
      "Episode: 16\n",
      "Episode: 17\n",
      "Episode: 18\n",
      "Episode: 19\n",
      "Episode: 20\n",
      "Episode: 21\n",
      "Episode: 22\n",
      "Episode: 23\n",
      "Episode: 24\n",
      "Episode: 25\n",
      "Episode: 26\n",
      "Episode: 27\n",
      "Episode: 28\n",
      "Episode: 29\n",
      "Episode: 30\n",
      "Episode: 31\n",
      "Episode: 32\n",
      "Episode: 33\n",
      "Episode: 34\n",
      "Episode: 35\n",
      "Episode: 36\n",
      "Episode: 37\n",
      "Episode: 38\n",
      "Episode: 39\n",
      "Episode: 40\n",
      "Episode: 41\n",
      "Episode: 42\n",
      "Episode: 43\n",
      "Episode: 44\n",
      "Episode: 45\n",
      "Episode: 46\n",
      "Episode: 47\n",
      "Episode: 48\n",
      "Episode: 49\n",
      "Episode: 50\n",
      "Episode: 51\n",
      "Episode: 52\n",
      "Episode: 53\n",
      "Episode: 54\n",
      "Episode: 55\n",
      "Episode: 56\n",
      "Episode: 57\n",
      "Episode: 58\n",
      "Episode: 59\n",
      "Episode: 60\n",
      "Episode: 61\n",
      "Episode: 62\n",
      "Episode: 63\n",
      "Episode: 64\n",
      "Episode: 65\n",
      "Episode: 66\n",
      "Episode: 67\n",
      "Episode: 68\n",
      "Episode: 69\n",
      "Episode: 70\n",
      "Episode: 71\n",
      "Episode: 72\n",
      "Episode: 73\n",
      "Episode: 74\n",
      "Episode: 75\n",
      "Episode: 76\n",
      "Episode: 77\n",
      "Episode: 78\n",
      "Episode: 79\n",
      "Episode: 80\n",
      "Episode: 81\n",
      "Episode: 82\n",
      "Episode: 83\n",
      "Episode: 84\n",
      "Episode: 85\n",
      "Episode: 86\n",
      "Episode: 87\n",
      "Episode: 88\n",
      "Episode: 89\n",
      "Episode: 90\n",
      "Episode: 91\n",
      "Episode: 92\n",
      "Episode: 93\n",
      "Episode: 94\n",
      "Episode: 95\n",
      "Episode: 96\n",
      "Episode: 97\n",
      "Episode: 98\n",
      "Episode: 99\n",
      "375.54221749305725\n"
     ]
    }
   ],
   "source": [
    "writer_path = os.path.join(\"tmp\", \"ibq-out\")\n",
    "if os.path.exists(writer_path) and os.path.isdir(writer_path):\n",
    "    shutil.rmtree(writer_path)\n",
    "start = time.time()\n",
    "env = env_creator(steps_per_episode)\n",
    "env_sampler = GymEnvSampler(env, writer_path, episodes=episodes)\n",
    "env_sampler.create_dataset()\n",
    "end = time.time()\n",
    "print(end-start)"
   ],
   "metadata": {
    "collapsed": false
   }
  },
  {
   "cell_type": "code",
   "execution_count": 4,
   "outputs": [],
   "source": [],
   "metadata": {
    "collapsed": false
   }
  },
  {
   "cell_type": "code",
   "execution_count": 5,
   "outputs": [],
   "source": [
    "\n",
    "\n",
    "data_path = os.path.join(\"tmp\", \"ibq-out/*.json\")\n",
    "merged_data = merge_rllib_out(data_path)\n",
    "save_path = os.path.join(\"tmp\", \"ibq-out/ibq_samples.npy\")\n",
    "save_numpy(save_path,merged_data)"
   ],
   "metadata": {
    "collapsed": false
   }
  },
  {
   "cell_type": "code",
   "execution_count": 5,
   "outputs": [],
   "source": [],
   "metadata": {
    "collapsed": false
   }
  }
 ],
 "metadata": {
  "kernelspec": {
   "display_name": "Python 3",
   "language": "python",
   "name": "python3"
  },
  "language_info": {
   "codemirror_mode": {
    "name": "ipython",
    "version": 2
   },
   "file_extension": ".py",
   "mimetype": "text/x-python",
   "name": "python",
   "nbconvert_exporter": "python",
   "pygments_lexer": "ipython2",
   "version": "2.7.6"
  }
 },
 "nbformat": 4,
 "nbformat_minor": 0
}
