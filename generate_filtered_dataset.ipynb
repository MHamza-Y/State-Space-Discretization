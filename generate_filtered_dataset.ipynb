{
 "cells": [
  {
   "cell_type": "code",
   "execution_count": null,
   "metadata": {
    "collapsed": true
   },
   "outputs": [],
   "source": [
    "import os\n",
    "import shutil\n",
    "import time\n",
    "\n",
    "from offline_dataset.dataset_creater import GymParallelSampler\n",
    "\n",
    "from envs.env_creator import ibgym_env_creator, env_creator, IBGymModelQ_creator\n",
    "from state_quantization.transforms import quantize_transform_creator\n",
    "from q_learning.algorithm import QLPolicy\n",
    "from ppo.policy import LSTMPPOPolicy"
   ]
  },
  {
   "cell_type": "code",
   "execution_count": null,
   "outputs": [],
   "source": [
    "episodes = 1000\n",
    "steps_per_episode = 1000\n",
    "workers = 8\n",
    "\n",
    "writer_path = os.path.join(\"tmp\", \"ibqf-out\")\n",
    "policy_save_path = 'tmp/q_learning/mb_q_policy_best_model_aeq-16bits_203871.pkl'\n",
    "\n",
    "quant_model = 'model_h_c-20bits3'\n",
    "model_path = f'tmp/state_quantization/{quant_model}'\n",
    "q_transform_kwargs = {'device': 'cpu', 'keys': ['obs', 'new_obs'], 'reshape': (steps_per_episode, -1, 6),\n",
    "                      'model_path': model_path}\n",
    "use_policy = False"
   ],
   "metadata": {
    "collapsed": false
   }
  },
  {
   "cell_type": "code",
   "execution_count": null,
   "outputs": [],
   "source": [
    "if os.path.exists(writer_path) and os.path.isdir(writer_path):\n",
    "    shutil.rmtree(writer_path)"
   ],
   "metadata": {
    "collapsed": false
   }
  },
  {
   "cell_type": "code",
   "execution_count": null,
   "outputs": [],
   "source": [
    "\n",
    "\n",
    "start = time.time()\n",
    "if use_policy:\n",
    "    policy = QLPolicy.load(policy_save_path)\n",
    "    env_kwargs = {'steps_per_episode': steps_per_episode,'model_path':model_path}\n",
    "    parallel_sampler = GymParallelSampler(env_creator=env_creator, path=writer_path, episodes=episodes,\n",
    "                                      workers=workers, env_kwargs=env_kwargs, reward_threshold=None,\n",
    "                                      policy=policy)\n",
    "else:\n",
    "    env_kwargs = {'steps_per_episode': steps_per_episode}\n",
    "    parallel_sampler = GymParallelSampler(env_creator=ibgym_env_creator, path=writer_path, episodes=episodes,\n",
    "                                      workers=workers, env_kwargs=env_kwargs, reward_threshold=None,\n",
    "                                      buffer_transform=quantize_transform_creator,\n",
    "                                      buffer_transform_kwargs=q_transform_kwargs,\n",
    "                                      policy=None)"
   ],
   "metadata": {
    "collapsed": false
   }
  },
  {
   "cell_type": "code",
   "execution_count": null,
   "outputs": [],
   "source": [
    "parallel_sampler.sample()\n",
    "end = time.time()\n",
    "print(end - start)"
   ],
   "metadata": {
    "collapsed": false
   }
  },
  {
   "cell_type": "code",
   "execution_count": null,
   "outputs": [],
   "source": [
    "save_path = os.path.join(\"tmp\", \"offline_rl_trajectories\",quant_model,f\"{episodes}\",\"rl_dataset.npy\")\n",
    "parallel_sampler.create_merged_dataset(save_path=save_path)"
   ],
   "metadata": {
    "collapsed": false
   }
  },
  {
   "cell_type": "code",
   "execution_count": null,
   "outputs": [],
   "source": [],
   "metadata": {
    "collapsed": false
   }
  }
 ],
 "metadata": {
  "kernelspec": {
   "display_name": "Python 3",
   "language": "python",
   "name": "python3"
  },
  "language_info": {
   "codemirror_mode": {
    "name": "ipython",
    "version": 2
   },
   "file_extension": ".py",
   "mimetype": "text/x-python",
   "name": "python",
   "nbconvert_exporter": "python",
   "pygments_lexer": "ipython2",
   "version": "2.7.6"
  }
 },
 "nbformat": 4,
 "nbformat_minor": 0
}
