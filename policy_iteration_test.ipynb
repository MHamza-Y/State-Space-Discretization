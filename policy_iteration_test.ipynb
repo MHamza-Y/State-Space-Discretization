{
 "cells": [
  {
   "cell_type": "code",
   "execution_count": 1,
   "outputs": [],
   "source": [
    "import numpy as np\n",
    "import torch\n",
    "\n",
    "from envs.IBGym_mod_envs import IBGymQ\n",
    "from state_quantization.transforms import NormalizeTransform\n",
    "from dynamic_programming.mdp_model import DPPolicy\n",
    "import matplotlib.pyplot as plt\n",
    "from envs.env_creator import env_creator"
   ],
   "metadata": {
    "collapsed": false
   }
  },
  {
   "cell_type": "code",
   "execution_count": 2,
   "metadata": {
    "collapsed": true
   },
   "outputs": [
    {
     "name": "stdout",
     "output_type": "stream",
     "text": [
      "<class 'state_quantization.quantization_models.ForcastingDiscFinalState'>\n"
     ]
    },
    {
     "name": "stderr",
     "output_type": "stream",
     "text": [
      "/home/hamza/PycharmProjects/StateCompression/venv/lib/python3.8/site-packages/gym/spaces/box.py:73: UserWarning: \u001B[33mWARN: Box bound precision lowered by casting to float32\u001B[0m\n",
      "  logger.warn(\n"
     ]
    }
   ],
   "source": [
    "\n",
    "\n",
    "device = 'cpu'\n",
    "\n",
    "\n",
    "env = env_creator(config=None,)\n",
    "\n",
    "policy_save_path = 'dynamic_programming/ib_policy.pkl'\n",
    "policy = DPPolicy.load(policy_save_path)"
   ]
  },
  {
   "cell_type": "code",
   "execution_count": 3,
   "outputs": [
    {
     "data": {
      "text/plain": "array([ 0,  0, 19, 17,  1,  8, 19, 10,  0,  7,  5,  6, 22, 17, 26, 12, 25,\n       26, 12, 24,  0,  6, 16, 18,  7, 15,  5,  1,  0,  3,  6,  8,  3, 14,\n        1,  1,  7, 11, 18, 17, 11, 23, 16,  0, 25, 12, 16, 23, 13, 16,  1,\n       24, 17, 23, 24, 14, 24,  4, 17, 24, 23, 12, 21, 24,  7,  8,  3, 17,\n        8, 21, 16, 19, 25,  6,  6,  3, 23, 14,  5,  8, 25,  4, 11,  7, 26,\n       24, 26, 26, 19, 16, 24,  8, 26, 24,  5,  6, 22, 24, 15, 26,  5,  3,\n       26,  6, 26, 26, 24, 12, 25, 22, 15, 11, 19,  0,  9,  9, 22,  0,  0,\n       18,  0,  0,  0,  1,  0,  0, 18,  9, 23,  0, 25,  4, 15,  5,  5,  7,\n        1,  0,  0,  9,  0, 10,  1,  2,  1,  7, 16, 24,  0, 18,  9, 23,  1,\n        7, 25, 26,  9,  3, 25, 26,  6, 18, 12, 10,  7,  6, 16, 17, 25,  4,\n       11,  7, 22, 25, 26, 24,  8, 11, 14,  9, 10,  5,  5,  0,  2, 23, 16,\n        6, 24,  0,  9,  0,  5, 17, 25, 26, 25, 23,  2,  1, 25, 26, 20,  7,\n        5,  0,  1,  8,  7,  3, 23,  8,  6, 24,  2,  1,  4, 24, 24, 25, 26,\n       25,  4, 24, 25, 15, 24,  5, 25,  1,  2, 15, 25, 26, 24, 16, 25, 12,\n       13,  7, 24, 23, 12,  6, 25,  6, 15,  5, 10,  3,  8,  9, 15, 25, 16,\n       24,  8, 12,  3, 23,  6, 25, 26, 24, 24, 15, 16,  8, 10, 21,  8,  8,\n       24,  4, 17, 26, 24,  7, 15,  1, 18, 22, 25, 24, 25, 25, 24, 10, 25,\n       15, 18, 24, 26, 24,  7, 17,  8,  1, 14,  0,  1,  2,  2,  0,  0, 10,\n       19, 17, 24, 13,  2,  0, 12, 21,  6,  3, 18, 22,  9, 26,  9, 10, 26,\n        7,  7, 25,  1, 15,  9, 18, 12, 17,  9,  1, 24, 16, 24,  5, 25, 15,\n       24, 17, 26,  2,  1, 21, 16,  1, 19,  0,  0, 26,  7, 13,  1,  2,  0,\n        1,  0,  0,  7,  1,  0, 10,  1, 18, 11,  9, 23,  9,  1, 18, 16,  0,\n       20, 15,  4,  9,  9, 10, 11,  0, 10,  6,  5, 23, 22,  6,  9, 15,  7,\n        9,  7,  0,  0,  3, 23, 24, 16,  6,  1, 24, 24, 18,  8, 25,  8, 26,\n       24,  1, 23,  9, 17,  6, 18,  6,  0,  4, 25, 13, 21, 24, 24,  7, 26,\n       10,  6, 23, 16,  1,  6, 16, 22, 20, 11,  2,  4, 14,  4,  1,  2, 13,\n       25, 13, 15,  5, 19,  9, 14,  5,  5, 13,  1,  2, 11,  1,  6, 21, 13,\n       21, 23,  8,  8,  5, 13, 13, 19,  1,  7,  6, 17,  8,  8, 17,  1, 10,\n       26,  8, 25, 20, 17, 15,  8, 25, 11, 16,  5, 25, 26,  6, 26, 25, 15,\n       26, 26, 24,  9,  0,  0,  0,  6, 17,  0,  4, 23,  0,  7, 19,  6, 15,\n        0, 10,  2,  2,  7,  6, 16,  5, 10,  3,  2, 20,  5, 20, 15,  8,  7,\n       12,  7, 17, 21,  3,  0, 12, 16, 25, 24, 17,  0,  1, 24,  0,  3,  3,\n       18, 12, 17, 24, 26, 10, 24, 10, 21, 23,  7, 15,  5,  4,  6, 25,  7,\n       26,  4, 16,  8, 24, 25, 25, 26,  9,  6,  8, 26,  8, 16, 10,  0, 13,\n       22, 25,  6, 11,  6, 24,  6, 18, 24, 16,  6, 24, 11, 10,  2, 16, 23,\n       15,  6,  0,  6, 24, 15, 24,  4, 19,  9, 19,  5,  3, 10, 17, 11, 10,\n        2, 26,  6,  0,  2, 21, 23,  0, 10, 10,  2, 17,  9,  1,  0, 23,  0,\n       18,  0,  0, 21, 10,  2,  3,  1,  0,  0,  1,  2,  0, 14,  2,  5, 14,\n        5, 20,  5,  2, 10,  1,  2,  1,  4, 11,  5,  4,  2,  1,  1,  2,  2,\n        0,  0, 12,  2,  1,  1,  3, 22,  9, 14,  0,  0, 12, 14,  0,  3,  7,\n       11, 13,  5, 26, 18,  9, 25,  0,  2,  6, 11, 14, 25,  0,  2,  9, 19,\n       22, 18, 10,  2,  2, 19,  0,  1,  1, 18,  9,  0,  0, 11,  5,  6, 14,\n       17,  1,  4,  2,  6, 19, 20,  7,  6, 18,  0,  8,  0,  0,  0,  9,  0,\n        1,  1,  1, 23,  0,  5, 12, 18, 10,  2,  4, 21, 26, 10, 25,  4,  2,\n        0,  2, 18,  0,  1,  5,  7, 23, 11, 25, 21, 19,  5, 17, 15,  8,  0,\n        7, 21,  0,  4, 21, 24, 22,  1, 19,  0, 10,  2,  0,  1,  5, 24,  2,\n        9, 22, 12, 15, 15, 12, 17, 15, 17,  6, 26, 25,  2, 25,  4,  7, 16,\n        7])"
     },
     "execution_count": 3,
     "metadata": {},
     "output_type": "execute_result"
    }
   ],
   "source": [
    "policy.policy_table"
   ],
   "metadata": {
    "collapsed": false
   }
  },
  {
   "cell_type": "code",
   "execution_count": null,
   "outputs": [
    {
     "name": "stdout",
     "output_type": "stream",
     "text": [
      "Episode: 0\n",
      "-222.20144542303464\n",
      "States this episode: 8\n",
      "Episode: 1\n",
      "-222.26005112720406\n",
      "States this episode: 8\n",
      "Episode: 2\n",
      "-222.01259670672863\n",
      "States this episode: 7\n",
      "Episode: 3\n",
      "-221.9438806830762\n",
      "States this episode: 7\n",
      "Episode: 4\n",
      "-222.08005911035312\n",
      "States this episode: 7\n",
      "Episode: 5\n",
      "-222.3863280557885\n",
      "States this episode: 10\n",
      "Episode: 6\n",
      "-221.7510941686463\n",
      "States this episode: 6\n",
      "Episode: 7\n",
      "-222.8336325545699\n",
      "States this episode: 7\n",
      "Episode: 8\n",
      "-221.85132572500402\n",
      "States this episode: 7\n",
      "Episode: 9\n"
     ]
    }
   ],
   "source": [
    "total_epochs = 0\n",
    "episodes = 25\n",
    "avg_ep_reward = 0\n",
    "\n",
    "without_random_action_rewards = []\n",
    "with_random_action_rewards = []\n",
    "states_each_ep = []\n",
    "actions_each_ep = []\n",
    "\n",
    "for i in range(episodes):\n",
    "    print(f'Episode: {i}')\n",
    "    state = env.reset()\n",
    "    epochs, penalties, reward = 0, 0, 0\n",
    "\n",
    "    done = False\n",
    "    total_rewards = 0\n",
    "    random_action = False\n",
    "\n",
    "    #states_enc = set()\n",
    "    states = []\n",
    "    actions = []\n",
    "    while not done:\n",
    "        states.append(state)\n",
    "        if state in policy.state_to_index:\n",
    "            action = policy.get_action(state)\n",
    "        else:\n",
    "            action = env.action_space.sample()\n",
    "            random_action = True\n",
    "        actions.append(action)\n",
    "        state, reward, done, info = env.step(action)\n",
    "\n",
    "\n",
    "        epochs += 1\n",
    "\n",
    "        total_rewards += reward\n",
    "    if random_action:\n",
    "        with_random_action_rewards.append(total_rewards/env.reset_after_timesteps)\n",
    "        print('random action taken')\n",
    "    else:\n",
    "        without_random_action_rewards.append(total_rewards/env.reset_after_timesteps)\n",
    "    states_each_ep.append(states)\n",
    "    print((total_rewards/env.reset_after_timesteps))\n",
    "    avg_ep_reward += (total_rewards/env.reset_after_timesteps)\n",
    "    total_epochs += epochs\n",
    "    print(f'States this episode: {np.unique(states_each_ep[-1]).size}')\n",
    "\n",
    "print(f\"Results after {episodes} episodes:\")\n",
    "print(f\"Average timesteps per episode: {total_epochs / episodes}\")\n",
    "print(f\"Average Reward per episode: {avg_ep_reward / episodes}\")\n"
   ],
   "metadata": {
    "collapsed": false
   }
  },
  {
   "cell_type": "code",
   "execution_count": null,
   "outputs": [],
   "source": [
    "#print(f'Average Reward with random actions {sum(with_random_action_rewards)/len(with_random_action_rewards)}')\n",
    "print(f'Average Reward without random actions {sum(without_random_action_rewards)/len(without_random_action_rewards)}')"
   ],
   "metadata": {
    "collapsed": false
   }
  },
  {
   "cell_type": "code",
   "execution_count": null,
   "outputs": [],
   "source": [
    "without_random_action_rewards"
   ],
   "metadata": {
    "collapsed": false
   }
  },
  {
   "cell_type": "code",
   "execution_count": null,
   "outputs": [],
   "source": [
    "un, inv = np.unique(states_each_ep,return_inverse=True)\n",
    "inv = np.array(np.split(inv, len(states_each_ep)))"
   ],
   "metadata": {
    "collapsed": false
   }
  },
  {
   "cell_type": "code",
   "execution_count": null,
   "outputs": [],
   "source": [
    "un.size"
   ],
   "metadata": {
    "collapsed": false
   }
  },
  {
   "cell_type": "code",
   "execution_count": null,
   "outputs": [],
   "source": [
    "for ep in inv:\n",
    "    plt.plot(ep)\n",
    "plt.show()"
   ],
   "metadata": {
    "collapsed": false
   }
  },
  {
   "cell_type": "code",
   "execution_count": null,
   "outputs": [],
   "source": [
    "for ep in inv:\n",
    "    plt.plot(actions)\n",
    "plt.show()"
   ],
   "metadata": {
    "collapsed": false
   }
  },
  {
   "cell_type": "code",
   "execution_count": null,
   "outputs": [],
   "source": [
    "np.unique(actions).size"
   ],
   "metadata": {
    "collapsed": false
   }
  },
  {
   "cell_type": "code",
   "execution_count": null,
   "outputs": [],
   "source": [],
   "metadata": {
    "collapsed": false
   }
  }
 ],
 "metadata": {
  "kernelspec": {
   "display_name": "Python 3",
   "language": "python",
   "name": "python3"
  },
  "language_info": {
   "codemirror_mode": {
    "name": "ipython",
    "version": 2
   },
   "file_extension": ".py",
   "mimetype": "text/x-python",
   "name": "python",
   "nbconvert_exporter": "python",
   "pygments_lexer": "ipython2",
   "version": "2.7.6"
  }
 },
 "nbformat": 4,
 "nbformat_minor": 0
}
