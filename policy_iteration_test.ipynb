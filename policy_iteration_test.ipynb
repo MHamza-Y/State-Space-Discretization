{
 "cells": [
  {
   "cell_type": "code",
   "execution_count": 1,
   "outputs": [],
   "source": [
    "import numpy as np\n",
    "import torch\n",
    "\n",
    "from envs.IBGym_mod_envs import IBGymQ\n",
    "from state_quantization.transforms import NormalizeTransform\n",
    "from dynamic_programming.mdp_model import DPPolicy\n",
    "import matplotlib.pyplot as plt"
   ],
   "metadata": {
    "collapsed": false
   }
  },
  {
   "cell_type": "code",
   "execution_count": 2,
   "metadata": {
    "collapsed": true
   },
   "outputs": [
    {
     "name": "stdout",
     "output_type": "stream",
     "text": [
      "10\n"
     ]
    },
    {
     "name": "stderr",
     "output_type": "stream",
     "text": [
      "/home/hamza/PycharmProjects/StateCompression/venv/lib/python3.8/site-packages/gym/spaces/box.py:73: UserWarning: \u001B[33mWARN: Box bound precision lowered by casting to float32\u001B[0m\n",
      "  logger.warn(\n"
     ]
    }
   ],
   "source": [
    "device = 'cpu'\n",
    "\n",
    "\n",
    "model_path = 'state_quantization/model'\n",
    "\n",
    "model = torch.load(model_path).to(device)\n",
    "model.eval()\n",
    "model.look_ahead = 0\n",
    "print(model.hidden_size)\n",
    "normalize_dataset = NormalizeTransform.load('state_quantization/NormalizeInputConfigs.pkl')\n",
    "normalize_dataset.to(device)\n",
    "\n",
    "env = IBGymQ(q_model=model,device=device, setpoint=70, reward_type='classic', action_type='discrete', observation_type='include_past',\n",
    "             reset_after_timesteps=1000, n_past_timesteps=model.seq_len, normalize_transformer=normalize_dataset)\n",
    "\n",
    "policy_save_path = 'dynamic_programming/ib_policy.pkl'\n",
    "policy = DPPolicy.load(policy_save_path)"
   ]
  },
  {
   "cell_type": "code",
   "execution_count": 3,
   "outputs": [
    {
     "data": {
      "text/plain": "array([2, 0, 1])"
     },
     "execution_count": 3,
     "metadata": {},
     "output_type": "execute_result"
    }
   ],
   "source": [
    "policy.policy_table"
   ],
   "metadata": {
    "collapsed": false
   }
  },
  {
   "cell_type": "code",
   "execution_count": 4,
   "outputs": [
    {
     "name": "stdout",
     "output_type": "stream",
     "text": [
      "Episode: 0\n",
      "-235.92137662906805\n",
      "States this episode: 3\n",
      "Episode: 1\n",
      "-235.12415789878816\n",
      "States this episode: 3\n",
      "Episode: 2\n",
      "-237.1382161969939\n",
      "States this episode: 3\n",
      "Episode: 3\n",
      "-236.0724342076397\n",
      "States this episode: 3\n",
      "Episode: 4\n",
      "-235.13323910434093\n",
      "States this episode: 3\n",
      "Episode: 5\n",
      "-236.14906110840136\n",
      "States this episode: 3\n",
      "Episode: 6\n",
      "-235.50312222855516\n",
      "States this episode: 3\n",
      "Episode: 7\n",
      "-235.78552872599255\n",
      "States this episode: 3\n",
      "Episode: 8\n",
      "-235.4544937618111\n",
      "States this episode: 3\n",
      "Episode: 9\n",
      "-235.52990032585598\n",
      "States this episode: 3\n",
      "Episode: 10\n",
      "-235.7924632562586\n",
      "States this episode: 3\n",
      "Episode: 11\n",
      "-235.80764679234704\n",
      "States this episode: 3\n",
      "Episode: 12\n",
      "-237.06160650319546\n",
      "States this episode: 3\n",
      "Episode: 13\n",
      "-235.36894389757936\n",
      "States this episode: 3\n",
      "Episode: 14\n",
      "-235.29248688714046\n",
      "States this episode: 3\n",
      "Episode: 15\n",
      "-236.05711616622662\n",
      "States this episode: 3\n",
      "Episode: 16\n",
      "-235.12849449161388\n",
      "States this episode: 3\n",
      "Episode: 17\n",
      "-236.98255254631738\n",
      "States this episode: 3\n",
      "Episode: 18\n",
      "-235.89474082181468\n",
      "States this episode: 3\n",
      "Episode: 19\n",
      "-237.062938735555\n",
      "States this episode: 3\n",
      "Episode: 20\n",
      "-235.32544036531215\n",
      "States this episode: 3\n",
      "Episode: 21\n",
      "-235.92572890543448\n",
      "States this episode: 3\n",
      "Episode: 22\n",
      "-236.99126319929033\n",
      "States this episode: 3\n",
      "Episode: 23\n",
      "-235.3076387304207\n",
      "States this episode: 3\n",
      "Episode: 24\n",
      "-237.34387657103218\n",
      "States this episode: 3\n",
      "Results after 25 episodes:\n",
      "Average timesteps per episode: 1000.0\n",
      "Average Reward per episode: -235.9661787222794\n"
     ]
    }
   ],
   "source": [
    "total_epochs = 0\n",
    "episodes = 25\n",
    "avg_ep_reward = 0\n",
    "\n",
    "without_random_action_rewards = []\n",
    "with_random_action_rewards = []\n",
    "states_each_ep = []\n",
    "for i in range(episodes):\n",
    "    print(f'Episode: {i}')\n",
    "    state = env.reset()\n",
    "    epochs, penalties, reward = 0, 0, 0\n",
    "\n",
    "    done = False\n",
    "    total_rewards = 0\n",
    "    random_action = False\n",
    "\n",
    "    #states_enc = set()\n",
    "    states = []\n",
    "    while not done:\n",
    "        states.append(state)\n",
    "        if state in policy.state_to_index:\n",
    "            action = policy.get_action(state)\n",
    "        else:\n",
    "            action = env.action_space.sample()\n",
    "            random_action = True\n",
    "        state, reward, done, info = env.step(action)\n",
    "\n",
    "\n",
    "        epochs += 1\n",
    "\n",
    "        total_rewards += reward\n",
    "    if random_action:\n",
    "        with_random_action_rewards.append(total_rewards/env.reset_after_timesteps)\n",
    "        print('random action taken')\n",
    "    else:\n",
    "        without_random_action_rewards.append(total_rewards/env.reset_after_timesteps)\n",
    "    states_each_ep.append(states)\n",
    "    print((total_rewards/env.reset_after_timesteps))\n",
    "    avg_ep_reward += (total_rewards/env.reset_after_timesteps)\n",
    "    total_epochs += epochs\n",
    "    print(f'States this episode: {np.unique(states_each_ep[-1]).size}')\n",
    "\n",
    "print(f\"Results after {episodes} episodes:\")\n",
    "print(f\"Average timesteps per episode: {total_epochs / episodes}\")\n",
    "print(f\"Average Reward per episode: {avg_ep_reward / episodes}\")\n"
   ],
   "metadata": {
    "collapsed": false
   }
  },
  {
   "cell_type": "code",
   "execution_count": 5,
   "outputs": [
    {
     "ename": "ZeroDivisionError",
     "evalue": "division by zero",
     "output_type": "error",
     "traceback": [
      "\u001B[0;31m---------------------------------------------------------------------------\u001B[0m",
      "\u001B[0;31mZeroDivisionError\u001B[0m                         Traceback (most recent call last)",
      "Input \u001B[0;32mIn [5]\u001B[0m, in \u001B[0;36m<cell line: 1>\u001B[0;34m()\u001B[0m\n\u001B[0;32m----> 1\u001B[0m \u001B[38;5;28mprint\u001B[39m(\u001B[38;5;124mf\u001B[39m\u001B[38;5;124m'\u001B[39m\u001B[38;5;124mAverage Reward with random actions \u001B[39m\u001B[38;5;132;01m{\u001B[39;00m\u001B[38;5;28msum\u001B[39m(with_random_action_rewards)\u001B[38;5;241m/\u001B[39m\u001B[38;5;28mlen\u001B[39m(with_random_action_rewards)\u001B[38;5;132;01m}\u001B[39;00m\u001B[38;5;124m'\u001B[39m)\n\u001B[1;32m      2\u001B[0m \u001B[38;5;28mprint\u001B[39m(\u001B[38;5;124mf\u001B[39m\u001B[38;5;124m'\u001B[39m\u001B[38;5;124mAverage Reward without random actions \u001B[39m\u001B[38;5;132;01m{\u001B[39;00m\u001B[38;5;28msum\u001B[39m(without_random_action_rewards)\u001B[38;5;241m/\u001B[39m\u001B[38;5;28mlen\u001B[39m(without_random_action_rewards)\u001B[38;5;132;01m}\u001B[39;00m\u001B[38;5;124m'\u001B[39m)\n",
      "\u001B[0;31mZeroDivisionError\u001B[0m: division by zero"
     ]
    }
   ],
   "source": [
    "print(f'Average Reward with random actions {sum(with_random_action_rewards)/len(with_random_action_rewards)}')\n",
    "print(f'Average Reward without random actions {sum(without_random_action_rewards)/len(without_random_action_rewards)}')"
   ],
   "metadata": {
    "collapsed": false
   }
  },
  {
   "cell_type": "code",
   "execution_count": null,
   "outputs": [],
   "source": [
    "without_random_action_rewards"
   ],
   "metadata": {
    "collapsed": false
   }
  },
  {
   "cell_type": "code",
   "execution_count": 11,
   "outputs": [],
   "source": [
    "un, inv = np.unique(states_each_ep,return_inverse=True)\n",
    "inv = np.array(np.split(inv, len(states_each_ep)))"
   ],
   "metadata": {
    "collapsed": false
   }
  },
  {
   "cell_type": "code",
   "execution_count": 12,
   "outputs": [
    {
     "data": {
      "text/plain": "<Figure size 432x288 with 1 Axes>",
      "image/png": "[encoded data removed]"
     },
     "metadata": {
      "needs_background": "light"
     },
     "output_type": "display_data"
    }
   ],
   "source": [
    "for ep in inv:\n",
    "    plt.plot(ep)\n",
    "plt.show()"
   ],
   "metadata": {
    "collapsed": false
   }
  },
  {
   "cell_type": "code",
   "execution_count": null,
   "outputs": [],
   "source": [],
   "metadata": {
    "collapsed": false
   }
  }
 ],
 "metadata": {
  "kernelspec": {
   "display_name": "Python 3",
   "language": "python",
   "name": "python3"
  },
  "language_info": {
   "codemirror_mode": {
    "name": "ipython",
    "version": 2
   },
   "file_extension": ".py",
   "mimetype": "text/x-python",
   "name": "python",
   "nbconvert_exporter": "python",
   "pygments_lexer": "ipython2",
   "version": "2.7.6"
  }
 },
 "nbformat": 4,
 "nbformat_minor": 0
}
