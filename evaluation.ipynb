{
 "cells": [
  {
   "cell_type": "code",
   "execution_count": 1,
   "metadata": {
    "collapsed": true
   },
   "outputs": [],
   "source": [
    "import os.path\n",
    "from glob import glob\n",
    "\n",
    "import numpy as np\n",
    "import pandas as pd\n",
    "\n",
    "from base_rl.eval_policy import EvalDiscreteStatePolicy\n",
    "from benchmarks.policy_benchmarks import PolicyBenchmarksParallel\n",
    "from envs.env_creator import env_creator\n",
    "from experiments.eval_configs import ExperimentsEvaluationConfigs"
   ]
  },
  {
   "cell_type": "code",
   "execution_count": 2,
   "outputs": [],
   "source": [
    "device = 'cpu'\n",
    "steps_per_episode = 1000\n"
   ],
   "metadata": {
    "collapsed": false
   }
  },
  {
   "cell_type": "markdown",
   "source": [
    "# Load All Polices\n",
    "load all the saved polices from the experiment folder"
   ],
   "metadata": {
    "collapsed": false
   }
  },
  {
   "cell_type": "code",
   "execution_count": 3,
   "outputs": [
    {
     "data": {
      "text/plain": "168"
     },
     "execution_count": 3,
     "metadata": {},
     "output_type": "execute_result"
    }
   ],
   "source": [
    "policy_files = glob(f'tmp/experiments/**/*policy.pkl', recursive=True)\n",
    "len(policy_files)"
   ],
   "metadata": {
    "collapsed": false
   }
  },
  {
   "cell_type": "markdown",
   "source": [
    "# Build Configs\n",
    "The configs object contains the metadata to test a policy. Which contains experiment id, model used to generate the policy, model path and policy path."
   ],
   "metadata": {
    "collapsed": false
   }
  },
  {
   "cell_type": "code",
   "execution_count": 4,
   "outputs": [],
   "source": [
    "\n",
    "\n",
    "eval_configs = []\n",
    "for policy_path in policy_files:\n",
    "    trimmed_path = policy_path.split('tmp/experiments/')[-1]\n",
    "    exp_id = trimmed_path.split('/')[0]\n",
    "    model_name = trimmed_path.split('/')[2]\n",
    "    model_path = os.path.join('tmp', 'experiments', exp_id, 'state_quantization', model_name)\n",
    "    eval_config = ExperimentsEvaluationConfigs(experiment_id=exp_id, model_name=model_name, model_path=model_path,\n",
    "                                               policy_path=policy_path)\n",
    "    eval_configs.append(eval_config)"
   ],
   "metadata": {
    "collapsed": false
   }
  },
  {
   "cell_type": "markdown",
   "source": [
    "# Benchmark all policies\n",
    "This step build the evaluator objects and benchmark the policies in parallel"
   ],
   "metadata": {
    "collapsed": false
   }
  },
  {
   "cell_type": "code",
   "execution_count": null,
   "outputs": [
    {
     "name": "stderr",
     "output_type": "stream",
     "text": [
      "  0%|          | 0/168 [00:00<?, ?it/s]/home/hamza/PycharmProjects/State-Space-Discretization/venv/lib/python3.10/site-packages/gym/spaces/box.py:73: UserWarning: \u001B[33mWARN: Box bound precision lowered by casting to float32\u001B[0m\n",
      "  logger.warn(\n",
      "/home/hamza/PycharmProjects/State-Space-Discretization/venv/lib/python3.10/site-packages/gym/spaces/box.py:73: UserWarning: \u001B[33mWARN: Box bound precision lowered by casting to float32\u001B[0m\n",
      "  logger.warn(\n",
      "/home/hamza/PycharmProjects/State-Space-Discretization/venv/lib/python3.10/site-packages/gym/spaces/box.py:73: UserWarning: \u001B[33mWARN: Box bound precision lowered by casting to float32\u001B[0m\n",
      "  logger.warn(\n",
      "/home/hamza/PycharmProjects/State-Space-Discretization/venv/lib/python3.10/site-packages/gym/spaces/box.py:73: UserWarning: \u001B[33mWARN: Box bound precision lowered by casting to float32\u001B[0m\n",
      "  logger.warn(\n",
      "  8%|▊         | 14/168 [03:39<44:15, 17.25s/it]  "
     ]
    }
   ],
   "source": [
    "\n",
    "\n",
    "benchmarks = {}\n",
    "evaluators = []\n",
    "for eval_config in eval_configs:\n",
    "    env_kwargs = {'steps_per_episode': steps_per_episode, 'device': device,\n",
    "                  'model_path': eval_config.model_path}\n",
    "    evaluator = EvalDiscreteStatePolicy(policy=eval_config.get_policy(), env_creator=env_creator, env_kwargs=env_kwargs,\n",
    "                                        tag=eval_config.policy_path)\n",
    "    evaluators.append(evaluator)\n",
    "\n",
    "policy_benchmarks = PolicyBenchmarksParallel(evaluators=evaluators, epochs=10, pool_size=4)\n",
    "policy_benchmarks.benchmark()"
   ],
   "metadata": {
    "collapsed": false
   }
  },
  {
   "cell_type": "code",
   "execution_count": null,
   "outputs": [],
   "source": [
    "\n",
    "from tbparse import SummaryReader\n",
    "\n",
    "results = []\n",
    "offline_algos = ['rmin', 'policy_iteration']\n",
    "scalars = SummaryReader('tmp/experiments', event_types={'scalars'}, extra_columns={'dir_name'}).scalars"
   ],
   "metadata": {
    "collapsed": false
   }
  },
  {
   "cell_type": "markdown",
   "source": [
    "# Build and Save Results Dataframe"
   ],
   "metadata": {
    "collapsed": false
   }
  },
  {
   "cell_type": "code",
   "execution_count": null,
   "outputs": [],
   "source": [
    "from tensorboard_utils.scalar import get_last_scalar, get_first_scalar\n",
    "\n",
    "\n",
    "df_save_path = 'tmp/evaluation_results'\n",
    "\n",
    "for evaluator in policy_benchmarks.evaluated_evaluators:\n",
    "    trimmed_path = evaluator.tag.split('tmp/experiments/')[-1]\n",
    "    exp_id = trimmed_path.split('/')[0]\n",
    "    model_name = trimmed_path.split('/')[2]\n",
    "    algo = trimmed_path.split('/')[1]\n",
    "    dataset_size = int(trimmed_path.split('/')[3]) if algo in offline_algos else None\n",
    "    save_type = None if algo in offline_algos else trimmed_path.split('/')[-1].split('_policy')[0]\n",
    "    trained_model = False if 'untrained' in model_name else True\n",
    "    model_path = os.path.join('tmp', 'experiments', exp_id, 'state_quantization', model_name)\n",
    "    model_loss = get_first_scalar(\n",
    "        scalars=scalars,\n",
    "        exp_id=exp_id,\n",
    "        exp_type='forecasting_models',\n",
    "        model=model_name.split('untrained_')[-1],\n",
    "        scalar_tag='Forecasting/Eval/loss'\n",
    "    ) if 'untrained' in model_name else \\\n",
    "        get_last_scalar(\n",
    "            scalars=scalars,\n",
    "            exp_id=exp_id,\n",
    "            exp_type='forecasting_models',\n",
    "            model=model_name,\n",
    "            scalar_tag='Forecasting/Eval/loss')\n",
    "\n",
    "    total_states = evaluator.policy.policy_table.size if algo in offline_algos else len(evaluator.policy.q_table)\n",
    "    results.extend([\n",
    "        {\n",
    "            'exp_id': exp_id,\n",
    "            'rewards': epoch_reward,\n",
    "            'model_name': model_name,\n",
    "            'algo': algo,\n",
    "            'dataset_size': dataset_size,\n",
    "            'save_type': save_type,\n",
    "            'trained_model': trained_model,\n",
    "            'unique_obs': np.unique(traj).size,\n",
    "            'model_path': model_path,\n",
    "            'model_loss': model_loss,\n",
    "            'total_states': total_states\n",
    "        } for epoch_reward, traj in zip(evaluator.eval_rewards_per_epoch, evaluator.eval_trajectories)]\n",
    "    )\n",
    "\n",
    "results_df = pd.DataFrame(results)\n",
    "results_df = results_df[(results_df['save_type'] == 'x_interval') | (results_df['save_type'].isna())]\n",
    "results_df.to_pickle(df_save_path)\n",
    "results_df"
   ],
   "metadata": {
    "collapsed": false
   }
  },
  {
   "cell_type": "code",
   "execution_count": null,
   "outputs": [],
   "source": [],
   "metadata": {
    "collapsed": false
   }
  }
 ],
 "metadata": {
  "kernelspec": {
   "display_name": "Python 3",
   "language": "python",
   "name": "python3"
  },
  "language_info": {
   "codemirror_mode": {
    "name": "ipython",
    "version": 2
   },
   "file_extension": ".py",
   "mimetype": "text/x-python",
   "name": "python",
   "nbconvert_exporter": "python",
   "pygments_lexer": "ipython2",
   "version": "2.7.6"
  }
 },
 "nbformat": 4,
 "nbformat_minor": 0
}
