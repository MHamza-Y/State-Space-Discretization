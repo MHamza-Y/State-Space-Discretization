{
 "cells": [
  {
   "cell_type": "code",
   "execution_count": 1,
   "metadata": {
    "collapsed": true
   },
   "outputs": [
    {
     "name": "stderr",
     "output_type": "stream",
     "text": [
      "/home/hamza/PycharmProjects/StateCompression/q_learning/algorithm.py:111: SyntaxWarning: \"is\" with a literal. Did you mean \"==\"?\n",
      "  if show_reward_type is 'mean':\n",
      "/home/hamza/PycharmProjects/StateCompression/q_learning/algorithm.py:155: SyntaxWarning: \"is\" with a literal. Did you mean \"==\"?\n",
      "  if show_reward_type is 'mean':\n"
     ]
    }
   ],
   "source": [
    "import os\n",
    "import shutil\n",
    "import time\n",
    "\n",
    "from offline.dataset_creater import GymParallelSampler\n",
    "\n",
    "from dynamic_programming.mdp_model import DPPolicy\n",
    "from envs.env_creator import ibgym_env_creator, env_creator\n",
    "from state_quantization.transforms import quantize_transform_creator\n",
    "from q_learning.algorithm import QLPolicy\n",
    "from ppo.policy import LSTMPPOPolicy"
   ]
  },
  {
   "cell_type": "code",
   "execution_count": 2,
   "outputs": [],
   "source": [
    "episodes = 200\n",
    "steps_per_episode = 1000\n",
    "workers = 8\n",
    "#env_kwargs = {'steps_per_episode': steps_per_episode, 'device':'cpu'}\n",
    "env_kwargs = {'steps_per_episode': steps_per_episode}\n",
    "writer_path = os.path.join(\"tmp\", \"ibqf-out\")\n",
    "#policy_save_path = 'dynamic_programming/ib_policy.pkl'\n",
    "#policy = DPPolicy.load(policy_save_path)\n",
    "policy_save_path = 'q_learning/q_policy.pkl'\n",
    "policy = QLPolicy.load(policy_save_path)\n",
    "#policy_save_path = 'ppo/lstm_ppo_policy.pkl'\n",
    "#policy = LSTMPPOPolicy.load(policy_save_path)\n",
    "q_transform_kwargs = {'device': 'cpu', 'keys': ['obs', 'new_obs'], 'reshape': (steps_per_episode, -1, 6)}"
   ],
   "metadata": {
    "collapsed": false
   }
  },
  {
   "cell_type": "code",
   "execution_count": 3,
   "outputs": [],
   "source": [
    "if os.path.exists(writer_path) and os.path.isdir(writer_path):\n",
    "    shutil.rmtree(writer_path)"
   ],
   "metadata": {
    "collapsed": false
   }
  },
  {
   "cell_type": "code",
   "execution_count": 4,
   "outputs": [
    {
     "name": "stderr",
     "output_type": "stream",
     "text": [
      "2022-10-15 17:10:39,334\tWARNING deprecation.py:46 -- DeprecationWarning: `SampleBatchBuilder` has been deprecated. Use `a child class of `SampleCollector`` instead. This will raise an error in the future!\n"
     ]
    }
   ],
   "source": [
    "\n",
    "\n",
    "start = time.time()\n",
    "parallel_sampler = GymParallelSampler(env_creator=env_creator, path=writer_path, episodes=episodes,\n",
    "                                      workers=workers, env_kwargs=env_kwargs, reward_threshold=None,\n",
    "                                      #buffer_transform=quantize_transform_creator,\n",
    "                                      #buffer_transform_kwargs=q_transform_kwargs,\n",
    "                                      policy=policy)"
   ],
   "metadata": {
    "collapsed": false
   }
  },
  {
   "cell_type": "code",
   "execution_count": 5,
   "outputs": [
    {
     "name": "stdout",
     "output_type": "stream",
     "text": [
      "Episodes Sampled: 42\n",
      "Episodes Sampled: 42\n",
      "Episodes Sampled: 46\n",
      "Episodes Sampled: 50\n",
      "Episodes Sampled: 51\n",
      "Episodes Sampled: 55\n",
      "Episodes Sampled: 58\n",
      "Episodes Sampled: 59\n",
      "Episodes Sampled: 63\n",
      "Episodes Sampled: 65\n",
      "Episodes Sampled: 66\n",
      "Episodes Sampled: 70\n",
      "Episodes Sampled: 73\n",
      "Episodes Sampled: 74\n",
      "Episodes Sampled: 79\n",
      "Episodes Sampled: 81\n",
      "Episodes Sampled: 82\n",
      "Episodes Sampled: 87\n",
      "Episodes Sampled: 88\n",
      "Episodes Sampled: 92\n",
      "Episodes Sampled: 94\n",
      "Episodes Sampled: 96\n",
      "Episodes Sampled: 100\n",
      "Episodes Sampled: 101\n",
      "Episodes Sampled: 103\n",
      "Episodes Sampled: 104\n",
      "Episodes Sampled: 108\n",
      "Episodes Sampled: 112\n",
      "Episodes Sampled: 113\n",
      "Episodes Sampled: 115\n",
      "Episodes Sampled: 120\n",
      "Episodes Sampled: 121\n",
      "Episodes Sampled: 123\n",
      "Episodes Sampled: 128\n",
      "Episodes Sampled: 129\n",
      "Episodes Sampled: 131\n",
      "Episodes Sampled: 136\n",
      "Episodes Sampled: 137\n",
      "Episodes Sampled: 139\n",
      "Episodes Sampled: 142\n",
      "Episodes Sampled: 145\n",
      "Episodes Sampled: 147\n",
      "Episodes Sampled: 150\n",
      "Episodes Sampled: 153\n"
     ]
    },
    {
     "name": "stderr",
     "output_type": "stream",
     "text": [
      "/home/hamza/PycharmProjects/StateCompression/venv/lib/python3.8/site-packages/gym/spaces/box.py:73: UserWarning: \u001B[33mWARN: Box bound precision lowered by casting to float32\u001B[0m\n",
      "  logger.warn(\n"
     ]
    },
    {
     "name": "stdout",
     "output_type": "stream",
     "text": [
      "<class 'state_quantization.forcasting_quantization_models.ForcastingQuant'>\n",
      "Episodes Sampled: 155\n",
      "Episodes Sampled: 158\n",
      "Episodes Sampled: 161\n",
      "Episodes Sampled: 162\n",
      "<class 'state_quantization.forcasting_quantization_models.ForcastingQuant'>\n"
     ]
    },
    {
     "name": "stderr",
     "output_type": "stream",
     "text": [
      "/home/hamza/PycharmProjects/StateCompression/venv/lib/python3.8/site-packages/gym/spaces/box.py:73: UserWarning: \u001B[33mWARN: Box bound precision lowered by casting to float32\u001B[0m\n",
      "  logger.warn(\n"
     ]
    },
    {
     "name": "stdout",
     "output_type": "stream",
     "text": [
      "Episodes Sampled: 165\n",
      "Episodes Sampled: 167\n",
      "<class 'state_quantization.forcasting_quantization_models.ForcastingQuant'>\n"
     ]
    },
    {
     "name": "stderr",
     "output_type": "stream",
     "text": [
      "/home/hamza/PycharmProjects/StateCompression/venv/lib/python3.8/site-packages/gym/spaces/box.py:73: UserWarning: \u001B[33mWARN: Box bound precision lowered by casting to float32\u001B[0m\n",
      "  logger.warn(\n"
     ]
    },
    {
     "name": "stdout",
     "output_type": "stream",
     "text": [
      "Episodes Sampled: 169\n",
      "Episodes Sampled: 172\n",
      "Episodes Sampled: 174\n",
      "Episodes Sampled: 176\n",
      "Episodes Sampled: 177\n",
      "Episodes Sampled: 180\n",
      "Episodes Sampled: 182\n",
      "Episodes Sampled: 184\n",
      "<class 'state_quantization.forcasting_quantization_models.ForcastingQuant'>\n",
      "Episodes Sampled: 186\n"
     ]
    },
    {
     "name": "stderr",
     "output_type": "stream",
     "text": [
      "/home/hamza/PycharmProjects/StateCompression/venv/lib/python3.8/site-packages/gym/spaces/box.py:73: UserWarning: \u001B[33mWARN: Box bound precision lowered by casting to float32\u001B[0m\n",
      "  logger.warn(\n"
     ]
    },
    {
     "name": "stdout",
     "output_type": "stream",
     "text": [
      "Episodes Sampled: 187\n",
      "<class 'state_quantization.forcasting_quantization_models.ForcastingQuant'>\n"
     ]
    },
    {
     "name": "stderr",
     "output_type": "stream",
     "text": [
      "/home/hamza/PycharmProjects/StateCompression/venv/lib/python3.8/site-packages/gym/spaces/box.py:73: UserWarning: \u001B[33mWARN: Box bound precision lowered by casting to float32\u001B[0m\n",
      "  logger.warn(\n"
     ]
    },
    {
     "name": "stdout",
     "output_type": "stream",
     "text": [
      "Episodes Sampled: 190\n",
      "Episodes Sampled: 191\n",
      "Episodes Sampled: 192\n",
      "<class 'state_quantization.forcasting_quantization_models.ForcastingQuant'>\n"
     ]
    },
    {
     "name": "stderr",
     "output_type": "stream",
     "text": [
      "/home/hamza/PycharmProjects/StateCompression/venv/lib/python3.8/site-packages/gym/spaces/box.py:73: UserWarning: \u001B[33mWARN: Box bound precision lowered by casting to float32\u001B[0m\n",
      "  logger.warn(\n"
     ]
    },
    {
     "name": "stdout",
     "output_type": "stream",
     "text": [
      "Episodes Sampled: 193\n",
      "Episodes Sampled: 194\n",
      "Episodes Sampled: 195\n",
      "Episodes Sampled: 196\n",
      "Episodes Sampled: 197\n",
      "Episodes Sampled: 198\n",
      "Episodes Sampled: 198\n",
      "<class 'state_quantization.forcasting_quantization_models.ForcastingQuant'>\n"
     ]
    },
    {
     "name": "stderr",
     "output_type": "stream",
     "text": [
      "/home/hamza/PycharmProjects/StateCompression/venv/lib/python3.8/site-packages/gym/spaces/box.py:73: UserWarning: \u001B[33mWARN: Box bound precision lowered by casting to float32\u001B[0m\n",
      "  logger.warn(\n"
     ]
    },
    {
     "name": "stdout",
     "output_type": "stream",
     "text": [
      "<class 'state_quantization.forcasting_quantization_models.ForcastingQuant'>\n",
      "Episodes Sampled: 200\n"
     ]
    },
    {
     "name": "stderr",
     "output_type": "stream",
     "text": [
      "/home/hamza/PycharmProjects/StateCompression/venv/lib/python3.8/site-packages/gym/spaces/box.py:73: UserWarning: \u001B[33mWARN: Box bound precision lowered by casting to float32\u001B[0m\n",
      "  logger.warn(\n"
     ]
    },
    {
     "name": "stdout",
     "output_type": "stream",
     "text": [
      "Episodes Sampled: 200\n",
      "Sampling Finished\n",
      "101.49107098579407\n"
     ]
    }
   ],
   "source": [
    "parallel_sampler.sample()\n",
    "end = time.time()\n",
    "print(end - start)"
   ],
   "metadata": {
    "collapsed": false
   }
  },
  {
   "cell_type": "code",
   "execution_count": 6,
   "outputs": [
    {
     "name": "stdout",
     "output_type": "stream",
     "text": [
      "tmp/ibqf-out/ibq_samples.npy\n"
     ]
    },
    {
     "data": {
      "text/plain": "{'obs': array([ 30378.,  29866., 554154., ..., 226986., 226986., 750762.]),\n 'actions': array([ 1, 11, 15, ..., 14, 14, 21]),\n 'rewards': array([-225.90858459, -219.26731873, -199.97799683, ..., -188.86810303,\n        -192.26860046, -178.67967224]),\n 'dones': array([False, False, False, ..., False, False,  True]),\n 'new_obs': array([ 29866., 554154., 554154., ..., 226986., 750762., 750762.]),\n 'unroll_id': array([ 0,  0,  0, ..., 24, 24, 24])}"
     },
     "execution_count": 6,
     "metadata": {},
     "output_type": "execute_result"
    }
   ],
   "source": [
    "save_path = os.path.join(\"tmp\", \"ibqf-out/ibq_samples.npy\")\n",
    "parallel_sampler.create_merged_dataset(save_path=save_path)"
   ],
   "metadata": {
    "collapsed": false
   }
  },
  {
   "cell_type": "code",
   "execution_count": 6,
   "outputs": [],
   "source": [],
   "metadata": {
    "collapsed": false
   }
  }
 ],
 "metadata": {
  "kernelspec": {
   "display_name": "Python 3",
   "language": "python",
   "name": "python3"
  },
  "language_info": {
   "codemirror_mode": {
    "name": "ipython",
    "version": 2
   },
   "file_extension": ".py",
   "mimetype": "text/x-python",
   "name": "python",
   "nbconvert_exporter": "python",
   "pygments_lexer": "ipython2",
   "version": "2.7.6"
  }
 },
 "nbformat": 4,
 "nbformat_minor": 0
}
