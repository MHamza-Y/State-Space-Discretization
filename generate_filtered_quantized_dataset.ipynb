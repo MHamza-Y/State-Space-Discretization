{
 "cells": [
  {
   "cell_type": "code",
   "execution_count": 1,
   "metadata": {
    "collapsed": true
   },
   "outputs": [],
   "source": [
    "import os\n",
    "import shutil\n",
    "import time\n",
    "\n",
    "from offline_dataset.dataset_creater import GymParallelSampler\n",
    "\n",
    "from envs.env_creator import ibgym_env_creator, env_creator, IBGymModelQ_creator\n",
    "from state_quantization.transforms import quantize_transform_creator\n",
    "from q_learning.algorithm import QLPolicy\n",
    "from ppo.policy import LSTMPPOPolicy"
   ]
  },
  {
   "cell_type": "code",
   "execution_count": 2,
   "outputs": [],
   "source": [
    "episodes = 1000\n",
    "steps_per_episode = 1000\n",
    "workers = 8\n",
    "\n",
    "writer_path = os.path.join(\"tmp\", \"ibqf-out\")\n",
    "policy_save_path = 'tmp/q_learning/mb_q_policy_best_model_aeq-16bits_203871.pkl'\n",
    "\n",
    "quant_model = 'model_h_c-20bits3'\n",
    "model_path = f'tmp/state_quantization/{quant_model}'\n",
    "q_transform_kwargs = {'device': 'cpu', 'keys': ['obs', 'new_obs'], 'reshape': (steps_per_episode, -1, 6),\n",
    "                      'model_path': model_path}\n",
    "use_policy = False"
   ],
   "metadata": {
    "collapsed": false
   }
  },
  {
   "cell_type": "code",
   "execution_count": 3,
   "outputs": [],
   "source": [
    "if os.path.exists(writer_path) and os.path.isdir(writer_path):\n",
    "    shutil.rmtree(writer_path)"
   ],
   "metadata": {
    "collapsed": false
   }
  },
  {
   "cell_type": "code",
   "execution_count": 4,
   "outputs": [
    {
     "name": "stderr",
     "output_type": "stream",
     "text": [
      "2022-11-23 22:15:37,852\tWARNING deprecation.py:46 -- DeprecationWarning: `SampleBatchBuilder` has been deprecated. Use `a child class of `SampleCollector`` instead. This will raise an error in the future!\n"
     ]
    }
   ],
   "source": [
    "\n",
    "\n",
    "start = time.time()\n",
    "if use_policy:\n",
    "    policy = QLPolicy.load(policy_save_path)\n",
    "    env_kwargs = {'steps_per_episode': steps_per_episode,'model_path':model_path}\n",
    "    parallel_sampler = GymParallelSampler(env_creator=env_creator, path=writer_path, episodes=episodes,\n",
    "                                      workers=workers, env_kwargs=env_kwargs, reward_threshold=None,\n",
    "                                      policy=policy)\n",
    "else:\n",
    "    env_kwargs = {'steps_per_episode': steps_per_episode}\n",
    "    parallel_sampler = GymParallelSampler(env_creator=ibgym_env_creator, path=writer_path, episodes=episodes,\n",
    "                                      workers=workers, env_kwargs=env_kwargs, reward_threshold=None,\n",
    "                                      buffer_transform=quantize_transform_creator,\n",
    "                                      buffer_transform_kwargs=q_transform_kwargs,\n",
    "                                      policy=None)"
   ],
   "metadata": {
    "collapsed": false
   }
  },
  {
   "cell_type": "code",
   "execution_count": 5,
   "outputs": [
    {
     "name": "stdout",
     "output_type": "stream",
     "text": [
      "Episodes Sampled: 0\n",
      "Episodes Sampled: 0\n",
      "Episodes Sampled: 0\n",
      "Episodes Sampled: 0\n",
      "Episodes Sampled: 0\n",
      "Episodes Sampled: 0\n",
      "Episodes Sampled: 21\n",
      "Episodes Sampled: 50\n",
      "Episodes Sampled: 78\n",
      "Episodes Sampled: 105\n",
      "Episodes Sampled: 132\n",
      "Episodes Sampled: 161\n",
      "Episodes Sampled: 187\n",
      "Episodes Sampled: 214\n",
      "Episodes Sampled: 242\n",
      "Episodes Sampled: 269\n",
      "Episodes Sampled: 294\n",
      "Episodes Sampled: 323\n",
      "Episodes Sampled: 350\n",
      "Episodes Sampled: 377\n",
      "Episodes Sampled: 405\n",
      "Episodes Sampled: 433\n",
      "Episodes Sampled: 460\n",
      "Episodes Sampled: 487\n",
      "Episodes Sampled: 515\n",
      "Episodes Sampled: 541\n",
      "Episodes Sampled: 569\n",
      "Episodes Sampled: 597\n",
      "Episodes Sampled: 624\n",
      "Episodes Sampled: 653\n",
      "Episodes Sampled: 678\n",
      "Episodes Sampled: 703\n",
      "Episodes Sampled: 726\n",
      "Episodes Sampled: 751\n",
      "Episodes Sampled: 775\n",
      "Episodes Sampled: 799\n",
      "Episodes Sampled: 823\n",
      "Episodes Sampled: 847\n",
      "Episodes Sampled: 871\n",
      "Episodes Sampled: 895\n",
      "Episodes Sampled: 919\n",
      "Episodes Sampled: 940\n",
      "Episodes Sampled: 964\n"
     ]
    },
    {
     "name": "stderr",
     "output_type": "stream",
     "text": [
      "/home/hamza/PycharmProjects/StateCompression/venv/lib/python3.8/site-packages/gym/spaces/box.py:73: UserWarning: \u001B[33mWARN: Box bound precision lowered by casting to float32\u001B[0m\n",
      "  logger.warn(\n",
      "/home/hamza/PycharmProjects/StateCompression/venv/lib/python3.8/site-packages/gym/spaces/box.py:73: UserWarning: \u001B[33mWARN: Box bound precision lowered by casting to float32\u001B[0m\n",
      "  logger.warn(\n",
      "/home/hamza/PycharmProjects/StateCompression/venv/lib/python3.8/site-packages/gym/spaces/box.py:73: UserWarning: \u001B[33mWARN: Box bound precision lowered by casting to float32\u001B[0m\n",
      "  logger.warn(\n"
     ]
    },
    {
     "name": "stdout",
     "output_type": "stream",
     "text": [
      "Episodes Sampled: 986\n"
     ]
    },
    {
     "name": "stderr",
     "output_type": "stream",
     "text": [
      "/home/hamza/PycharmProjects/StateCompression/venv/lib/python3.8/site-packages/gym/spaces/box.py:73: UserWarning: \u001B[33mWARN: Box bound precision lowered by casting to float32\u001B[0m\n",
      "  logger.warn(\n",
      "/home/hamza/PycharmProjects/StateCompression/venv/lib/python3.8/site-packages/gym/spaces/box.py:73: UserWarning: \u001B[33mWARN: Box bound precision lowered by casting to float32\u001B[0m\n",
      "  logger.warn(\n",
      "/home/hamza/PycharmProjects/StateCompression/venv/lib/python3.8/site-packages/gym/spaces/box.py:73: UserWarning: \u001B[33mWARN: Box bound precision lowered by casting to float32\u001B[0m\n",
      "  logger.warn(\n",
      "/home/hamza/PycharmProjects/StateCompression/venv/lib/python3.8/site-packages/gym/spaces/box.py:73: UserWarning: \u001B[33mWARN: Box bound precision lowered by casting to float32\u001B[0m\n",
      "  logger.warn(\n"
     ]
    },
    {
     "name": "stdout",
     "output_type": "stream",
     "text": [
      "Episodes Sampled: 999\n"
     ]
    },
    {
     "name": "stderr",
     "output_type": "stream",
     "text": [
      "/home/hamza/PycharmProjects/StateCompression/venv/lib/python3.8/site-packages/gym/spaces/box.py:73: UserWarning: \u001B[33mWARN: Box bound precision lowered by casting to float32\u001B[0m\n",
      "  logger.warn(\n"
     ]
    },
    {
     "name": "stdout",
     "output_type": "stream",
     "text": [
      "Episodes Sampled: 1000\n",
      "Episodes Sampled: 1000\n",
      "Sampling Finished\n",
      "47.15958046913147\n"
     ]
    }
   ],
   "source": [
    "parallel_sampler.sample()\n",
    "end = time.time()\n",
    "print(end - start)"
   ],
   "metadata": {
    "collapsed": false
   }
  },
  {
   "cell_type": "code",
   "execution_count": 6,
   "outputs": [
    {
     "name": "stdout",
     "output_type": "stream",
     "text": [
      "tmp/offline_rl_trajectories/trajectory_ep1000_model_h_c-20bits3.npy\n"
     ]
    },
    {
     "data": {
      "text/plain": "{'obs': array([6.86331331e+11, 6.86331331e+11, 6.77741396e+11, ...,\n        6.40135250e+10, 6.40135250e+10, 1.32733067e+11]),\n 'actions': array([17, 16, 20, ...,  8, 24, 17]),\n 'rewards': array([-197.52677917, -168.32380676, -177.52828979, ..., -515.60119629,\n        -452.42816162, -392.27337646]),\n 'dones': array([False, False, False, ..., False, False,  True]),\n 'new_obs': array([6.86331331e+11, 6.77741396e+11, 6.86331331e+11, ...,\n        6.40135250e+10, 1.32733067e+11, 1.37028035e+11]),\n 'unroll_id': array([  0,   0,   0, ..., 124, 124, 124])}"
     },
     "execution_count": 6,
     "metadata": {},
     "output_type": "execute_result"
    }
   ],
   "source": [
    "save_path = os.path.join(\"tmp\", \"offline_rl_trajectories\",f\"trajectory_ep{episodes}_{quant_model}.npy\")\n",
    "parallel_sampler.create_merged_dataset(save_path=save_path)"
   ],
   "metadata": {
    "collapsed": false
   }
  },
  {
   "cell_type": "code",
   "execution_count": 6,
   "outputs": [],
   "source": [],
   "metadata": {
    "collapsed": false
   }
  }
 ],
 "metadata": {
  "kernelspec": {
   "display_name": "Python 3",
   "language": "python",
   "name": "python3"
  },
  "language_info": {
   "codemirror_mode": {
    "name": "ipython",
    "version": 2
   },
   "file_extension": ".py",
   "mimetype": "text/x-python",
   "name": "python",
   "nbconvert_exporter": "python",
   "pygments_lexer": "ipython2",
   "version": "2.7.6"
  }
 },
 "nbformat": 4,
 "nbformat_minor": 0
}
