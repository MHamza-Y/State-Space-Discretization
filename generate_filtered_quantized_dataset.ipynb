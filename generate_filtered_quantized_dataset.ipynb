{
 "cells": [
  {
   "cell_type": "code",
   "execution_count": 7,
   "metadata": {
    "collapsed": true
   },
   "outputs": [],
   "source": [
    "import os\n",
    "import shutil\n",
    "import time\n",
    "\n",
    "from offline_dataset.dataset_creater import GymParallelSampler\n",
    "\n",
    "from envs.env_creator import ibgym_env_creator, env_creator\n",
    "from state_quantization.transforms import quantize_transform_creator\n",
    "from q_learning.algorithm import QLPolicy\n",
    "from ppo.policy import LSTMPPOPolicy"
   ]
  },
  {
   "cell_type": "code",
   "execution_count": 8,
   "outputs": [],
   "source": [
    "episodes = 100\n",
    "steps_per_episode = 1000\n",
    "workers = 8\n",
    "#env_kwargs = {'steps_per_episode': steps_per_episode, 'device':'cpu'}\n",
    "env_kwargs = {'steps_per_episode': steps_per_episode}\n",
    "writer_path = os.path.join(\"tmp\", \"ibqf-out\")\n",
    "#policy_save_path = 'dynamic_programming/ib_policy.pkl'\n",
    "#policy = DPPolicy.load(policy_save_path)\n",
    "policy_save_path = 'q_learning/q_policy.pkl'\n",
    "policy = QLPolicy.load(policy_save_path)\n",
    "#policy_save_path = 'ppo/lstm_ppo_policy.pkl'\n",
    "#policy = LSTMPPOPolicy.load(policy_save_path)\n",
    "q_transform_kwargs = {'device': 'cpu', 'keys': ['obs', 'new_obs'], 'reshape': (steps_per_episode, -1, 6)}"
   ],
   "metadata": {
    "collapsed": false
   }
  },
  {
   "cell_type": "code",
   "execution_count": 9,
   "outputs": [],
   "source": [
    "if os.path.exists(writer_path) and os.path.isdir(writer_path):\n",
    "    shutil.rmtree(writer_path)"
   ],
   "metadata": {
    "collapsed": false
   }
  },
  {
   "cell_type": "code",
   "execution_count": 10,
   "outputs": [],
   "source": [
    "\n",
    "\n",
    "start = time.time()\n",
    "parallel_sampler = GymParallelSampler(env_creator=env_creator, path=writer_path, episodes=episodes,\n",
    "                                      workers=workers, env_kwargs=env_kwargs, reward_threshold=None,\n",
    "                                      #buffer_transform=quantize_transform_creator,\n",
    "                                      #buffer_transform_kwargs=q_transform_kwargs,\n",
    "                                      policy=policy)"
   ],
   "metadata": {
    "collapsed": false
   }
  },
  {
   "cell_type": "code",
   "execution_count": 11,
   "outputs": [
    {
     "name": "stdout",
     "output_type": "stream",
     "text": [
      "Episodes Sampled: 33\n",
      "Episodes Sampled: 35\n",
      "Episodes Sampled: 37\n",
      "Episodes Sampled: 40\n",
      "Episodes Sampled: 43\n",
      "Episodes Sampled: 45\n",
      "Episodes Sampled: 46\n",
      "Episodes Sampled: 48\n",
      "Episodes Sampled: 52\n",
      "Episodes Sampled: 54\n",
      "Episodes Sampled: 56\n",
      "Episodes Sampled: 60\n",
      "<class 'state_quantization.forcasting_quantization_models.ForcastingQuant'>\n"
     ]
    },
    {
     "name": "stderr",
     "output_type": "stream",
     "text": [
      "/home/hamza/PycharmProjects/StateCompression/venv/lib/python3.8/site-packages/gym/spaces/box.py:73: UserWarning: \u001B[33mWARN: Box bound precision lowered by casting to float32\u001B[0m\n",
      "  logger.warn(\n"
     ]
    },
    {
     "name": "stdout",
     "output_type": "stream",
     "text": [
      "Episodes Sampled: 62\n",
      "Episodes Sampled: 64\n",
      "Episodes Sampled: 69\n",
      "Episodes Sampled: 70\n",
      "<class 'state_quantization.forcasting_quantization_models.ForcastingQuant'>\n",
      "Episodes Sampled: 73\n"
     ]
    },
    {
     "name": "stderr",
     "output_type": "stream",
     "text": [
      "/home/hamza/PycharmProjects/StateCompression/venv/lib/python3.8/site-packages/gym/spaces/box.py:73: UserWarning: \u001B[33mWARN: Box bound precision lowered by casting to float32\u001B[0m\n",
      "  logger.warn(\n"
     ]
    },
    {
     "name": "stdout",
     "output_type": "stream",
     "text": [
      "Episodes Sampled: 76\n",
      "Episodes Sampled: 77\n",
      "Episodes Sampled: 81\n",
      "<class 'state_quantization.forcasting_quantization_models.ForcastingQuant'>\n"
     ]
    },
    {
     "name": "stderr",
     "output_type": "stream",
     "text": [
      "/home/hamza/PycharmProjects/StateCompression/venv/lib/python3.8/site-packages/gym/spaces/box.py:73: UserWarning: \u001B[33mWARN: Box bound precision lowered by casting to float32\u001B[0m\n",
      "  logger.warn(\n"
     ]
    },
    {
     "name": "stdout",
     "output_type": "stream",
     "text": [
      "Episodes Sampled: 83\n",
      "Episodes Sampled: 85\n",
      "Episodes Sampled: 87\n",
      "<class 'state_quantization.forcasting_quantization_models.ForcastingQuant'>\n"
     ]
    },
    {
     "name": "stderr",
     "output_type": "stream",
     "text": [
      "/home/hamza/PycharmProjects/StateCompression/venv/lib/python3.8/site-packages/gym/spaces/box.py:73: UserWarning: \u001B[33mWARN: Box bound precision lowered by casting to float32\u001B[0m\n",
      "  logger.warn(\n"
     ]
    },
    {
     "name": "stdout",
     "output_type": "stream",
     "text": [
      "Episodes Sampled: 88\n",
      "Episodes Sampled: 90\n",
      "<class 'state_quantization.forcasting_quantization_models.ForcastingQuant'>\n"
     ]
    },
    {
     "name": "stderr",
     "output_type": "stream",
     "text": [
      "/home/hamza/PycharmProjects/StateCompression/venv/lib/python3.8/site-packages/gym/spaces/box.py:73: UserWarning: \u001B[33mWARN: Box bound precision lowered by casting to float32\u001B[0m\n",
      "  logger.warn(\n"
     ]
    },
    {
     "name": "stdout",
     "output_type": "stream",
     "text": [
      "Episodes Sampled: 92\n",
      "<class 'state_quantization.forcasting_quantization_models.ForcastingQuant'>\n"
     ]
    },
    {
     "name": "stderr",
     "output_type": "stream",
     "text": [
      "/home/hamza/PycharmProjects/StateCompression/venv/lib/python3.8/site-packages/gym/spaces/box.py:73: UserWarning: \u001B[33mWARN: Box bound precision lowered by casting to float32\u001B[0m\n",
      "  logger.warn(\n"
     ]
    },
    {
     "name": "stdout",
     "output_type": "stream",
     "text": [
      "Episodes Sampled: 94\n",
      "Episodes Sampled: 95\n",
      "Episodes Sampled: 96\n",
      "Episodes Sampled: 97\n"
     ]
    },
    {
     "name": "stderr",
     "output_type": "stream",
     "text": [
      "/home/hamza/PycharmProjects/StateCompression/venv/lib/python3.8/site-packages/gym/spaces/box.py:73: UserWarning: \u001B[33mWARN: Box bound precision lowered by casting to float32\u001B[0m\n",
      "  logger.warn(\n"
     ]
    },
    {
     "name": "stdout",
     "output_type": "stream",
     "text": [
      "<class 'state_quantization.forcasting_quantization_models.ForcastingQuant'>\n",
      "Episodes Sampled: 98\n",
      "Episodes Sampled: 99\n",
      "Episodes Sampled: 99\n"
     ]
    },
    {
     "name": "stderr",
     "output_type": "stream",
     "text": [
      "/home/hamza/PycharmProjects/StateCompression/venv/lib/python3.8/site-packages/gym/spaces/box.py:73: UserWarning: \u001B[33mWARN: Box bound precision lowered by casting to float32\u001B[0m\n",
      "  logger.warn(\n"
     ]
    },
    {
     "name": "stdout",
     "output_type": "stream",
     "text": [
      "<class 'state_quantization.forcasting_quantization_models.ForcastingQuant'>\n",
      "Episodes Sampled: 100\n",
      "Episodes Sampled: 100\n",
      "Sampling Finished\n",
      "62.26485204696655\n"
     ]
    }
   ],
   "source": [
    "parallel_sampler.sample()\n",
    "end = time.time()\n",
    "print(end - start)"
   ],
   "metadata": {
    "collapsed": false
   }
  },
  {
   "cell_type": "code",
   "execution_count": 12,
   "outputs": [
    {
     "name": "stdout",
     "output_type": "stream",
     "text": [
      "tmp/ibqf-out/ibq_samples.npy\n"
     ]
    },
    {
     "data": {
      "text/plain": "{'obs': array([ 29866.,  29866., 554154., ..., 226986., 226986., 226474.]),\n 'actions': array([11, 11, 15, ..., 14, 14,  6]),\n 'rewards': array([-205.92054749, -223.18812561, -210.1879425 , ..., -158.1499939 ,\n        -194.69735718, -154.59277344]),\n 'dones': array([False, False, False, ..., False, False,  True]),\n 'new_obs': array([ 29866., 554154., 554154., ..., 226986., 226474.,  95914.]),\n 'unroll_id': array([ 0,  0,  0, ..., 12, 12, 12])}"
     },
     "execution_count": 12,
     "metadata": {},
     "output_type": "execute_result"
    }
   ],
   "source": [
    "save_path = os.path.join(\"tmp\", \"ibqf-out/ibq_samples.npy\")\n",
    "parallel_sampler.create_merged_dataset(save_path=save_path)"
   ],
   "metadata": {
    "collapsed": false
   }
  },
  {
   "cell_type": "code",
   "execution_count": 12,
   "outputs": [],
   "source": [],
   "metadata": {
    "collapsed": false
   }
  }
 ],
 "metadata": {
  "kernelspec": {
   "display_name": "Python 3",
   "language": "python",
   "name": "python3"
  },
  "language_info": {
   "codemirror_mode": {
    "name": "ipython",
    "version": 2
   },
   "file_extension": ".py",
   "mimetype": "text/x-python",
   "name": "python",
   "nbconvert_exporter": "python",
   "pygments_lexer": "ipython2",
   "version": "2.7.6"
  }
 },
 "nbformat": 4,
 "nbformat_minor": 0
}
