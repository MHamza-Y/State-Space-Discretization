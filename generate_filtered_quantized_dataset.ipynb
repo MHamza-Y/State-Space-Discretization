{
 "cells": [
  {
   "cell_type": "code",
   "execution_count": 1,
   "metadata": {
    "collapsed": true
   },
   "outputs": [],
   "source": [
    "import os\n",
    "import shutil\n",
    "import time\n",
    "\n",
    "from offline.dataset_creater import GymParallelSampler\n",
    "\n",
    "from dynamic_programming.mdp_model import DPPolicy\n",
    "from envs.env_creator import ibgym_env_creator, env_creator\n",
    "from state_quantization.transforms import quantize_transform_creator\n",
    "from q_learning.algorithm import QLPolicy\n",
    "from ppo.policy import LSTMPPOPolicy"
   ]
  },
  {
   "cell_type": "code",
   "execution_count": 2,
   "outputs": [],
   "source": [
    "episodes = 10\n",
    "steps_per_episode = 1000\n",
    "workers = 8\n",
    "#env_kwargs = {'steps_per_episode': steps_per_episode, 'device':'cpu'}\n",
    "env_kwargs = {'steps_per_episode': steps_per_episode}\n",
    "writer_path = os.path.join(\"tmp\", \"ibqf-out\")\n",
    "#policy_save_path = 'dynamic_programming/ib_policy.pkl'\n",
    "#policy = DPPolicy.load(policy_save_path)\n",
    "policy_save_path = 'q_learning/q_policy.pkl'\n",
    "policy = QLPolicy.load(policy_save_path)\n",
    "#policy_save_path = 'ppo/lstm_ppo_policy.pkl'\n",
    "#policy = LSTMPPOPolicy.load(policy_save_path)\n",
    "q_transform_kwargs = {'device': 'cpu', 'keys': ['obs', 'new_obs'], 'reshape': (steps_per_episode, -1, 6)}"
   ],
   "metadata": {
    "collapsed": false
   }
  },
  {
   "cell_type": "code",
   "execution_count": 3,
   "outputs": [],
   "source": [
    "if os.path.exists(writer_path) and os.path.isdir(writer_path):\n",
    "    shutil.rmtree(writer_path)"
   ],
   "metadata": {
    "collapsed": false
   }
  },
  {
   "cell_type": "code",
   "execution_count": 3,
   "outputs": [
    {
     "name": "stderr",
     "output_type": "stream",
     "text": [
      "2022-10-14 18:15:27,018\tWARNING deprecation.py:46 -- DeprecationWarning: `SampleBatchBuilder` has been deprecated. Use `a child class of `SampleCollector`` instead. This will raise an error in the future!\n"
     ]
    }
   ],
   "source": [
    "\n",
    "\n",
    "start = time.time()\n",
    "parallel_sampler = GymParallelSampler(env_creator=env_creator, path=writer_path, episodes=episodes,\n",
    "                                      workers=workers, env_kwargs=env_kwargs, reward_threshold=None,\n",
    "                                      #buffer_transform=quantize_transform_creator,\n",
    "                                      #buffer_transform_kwargs=q_transform_kwargs,\n",
    "                                      policy=policy)"
   ],
   "metadata": {
    "collapsed": false
   }
  },
  {
   "cell_type": "code",
   "execution_count": 4,
   "outputs": [
    {
     "name": "stdout",
     "output_type": "stream",
     "text": [
      "Episodes Sampled: 0\n",
      "Episodes Sampled: 0\n",
      "Episodes Sampled: 0\n",
      "Episodes Sampled: 0\n",
      "Episodes Sampled: 0\n",
      "Episodes Sampled: 0\n",
      "Episodes Sampled: 0\n",
      "Episodes Sampled: 0\n",
      "Episodes Sampled: 1\n",
      "<class 'state_quantization.quantization_models.ForcastingDiscFinalState'>\n",
      "<class 'state_quantization.quantization_models.ForcastingDiscFinalState'>\n",
      "<class 'state_quantization.quantization_models.ForcastingDiscFinalState'>\n",
      "<class 'state_quantization.quantization_models.ForcastingDiscFinalState'>\n"
     ]
    },
    {
     "name": "stderr",
     "output_type": "stream",
     "text": [
      "/home/hamza/PycharmProjects/StateCompression/venv/lib/python3.8/site-packages/gym/spaces/box.py:73: UserWarning: \u001B[33mWARN: Box bound precision lowered by casting to float32\u001B[0m\n",
      "  logger.warn(\n",
      "/home/hamza/PycharmProjects/StateCompression/venv/lib/python3.8/site-packages/gym/spaces/box.py:73: UserWarning: \u001B[33mWARN: Box bound precision lowered by casting to float32\u001B[0m\n",
      "  logger.warn(\n",
      "/home/hamza/PycharmProjects/StateCompression/venv/lib/python3.8/site-packages/gym/spaces/box.py:73: UserWarning: \u001B[33mWARN: Box bound precision lowered by casting to float32\u001B[0m\n",
      "  logger.warn(\n",
      "/home/hamza/PycharmProjects/StateCompression/venv/lib/python3.8/site-packages/gym/spaces/box.py:73: UserWarning: \u001B[33mWARN: Box bound precision lowered by casting to float32\u001B[0m\n",
      "  logger.warn(\n"
     ]
    },
    {
     "name": "stdout",
     "output_type": "stream",
     "text": [
      "<class 'state_quantization.quantization_models.ForcastingDiscFinalState'>\n"
     ]
    },
    {
     "name": "stderr",
     "output_type": "stream",
     "text": [
      "/home/hamza/PycharmProjects/StateCompression/venv/lib/python3.8/site-packages/gym/spaces/box.py:73: UserWarning: \u001B[33mWARN: Box bound precision lowered by casting to float32\u001B[0m\n",
      "  logger.warn(\n"
     ]
    },
    {
     "name": "stdout",
     "output_type": "stream",
     "text": [
      "<class 'state_quantization.quantization_models.ForcastingDiscFinalState'>\n",
      "Episodes Sampled: 8\n"
     ]
    },
    {
     "name": "stderr",
     "output_type": "stream",
     "text": [
      "/home/hamza/PycharmProjects/StateCompression/venv/lib/python3.8/site-packages/gym/spaces/box.py:73: UserWarning: \u001B[33mWARN: Box bound precision lowered by casting to float32\u001B[0m\n",
      "  logger.warn(\n"
     ]
    },
    {
     "name": "stdout",
     "output_type": "stream",
     "text": [
      "Episodes Sampled: 8\n",
      "<class 'state_quantization.quantization_models.ForcastingDiscFinalState'>\n"
     ]
    },
    {
     "name": "stderr",
     "output_type": "stream",
     "text": [
      "/home/hamza/PycharmProjects/StateCompression/venv/lib/python3.8/site-packages/gym/spaces/box.py:73: UserWarning: \u001B[33mWARN: Box bound precision lowered by casting to float32\u001B[0m\n",
      "  logger.warn(\n"
     ]
    },
    {
     "name": "stdout",
     "output_type": "stream",
     "text": [
      "Episodes Sampled: 9\n"
     ]
    },
    {
     "name": "stderr",
     "output_type": "stream",
     "text": [
      "/home/hamza/PycharmProjects/StateCompression/venv/lib/python3.8/site-packages/gym/spaces/box.py:73: UserWarning: \u001B[33mWARN: Box bound precision lowered by casting to float32\u001B[0m\n",
      "  logger.warn(\n"
     ]
    },
    {
     "name": "stdout",
     "output_type": "stream",
     "text": [
      "<class 'state_quantization.quantization_models.ForcastingDiscFinalState'>\n",
      "Episodes Sampled: 10\n",
      "Sampling Finished\n",
      "14.318939208984375\n"
     ]
    }
   ],
   "source": [
    "parallel_sampler.sample()\n",
    "end = time.time()\n",
    "print(end - start)"
   ],
   "metadata": {
    "collapsed": false
   }
  },
  {
   "cell_type": "code",
   "execution_count": 5,
   "outputs": [
    {
     "name": "stdout",
     "output_type": "stream",
     "text": [
      "tmp/ibqf-out/ibq_samples.npy\n"
     ]
    },
    {
     "data": {
      "text/plain": "{'obs': array([12707., 12707., 12674., ..., 13735., 14247., 14247.]),\n 'actions': array([13, 25, 22, ...,  3,  8,  9]),\n 'rewards': array([-186.97265625, -195.0760498 , -178.91358948, ..., -205.37556458,\n        -266.30169678, -304.6317749 ]),\n 'dones': array([False, False, False, ..., False, False,  True]),\n 'new_obs': array([12707., 12674., 12674., ..., 14247., 14247., 13735.]),\n 'unroll_id': array([1250, 1250, 1250, ..., 2478, 2478, 2478])}"
     },
     "execution_count": 5,
     "metadata": {},
     "output_type": "execute_result"
    }
   ],
   "source": [
    "save_path = os.path.join(\"tmp\", \"ibqf-out/ibq_samples.npy\")\n",
    "parallel_sampler.create_merged_dataset(save_path=save_path)"
   ],
   "metadata": {
    "collapsed": false
   }
  },
  {
   "cell_type": "code",
   "execution_count": 6,
   "outputs": [],
   "source": [],
   "metadata": {
    "collapsed": false
   }
  }
 ],
 "metadata": {
  "kernelspec": {
   "display_name": "Python 3",
   "language": "python",
   "name": "python3"
  },
  "language_info": {
   "codemirror_mode": {
    "name": "ipython",
    "version": 2
   },
   "file_extension": ".py",
   "mimetype": "text/x-python",
   "name": "python",
   "nbconvert_exporter": "python",
   "pygments_lexer": "ipython2",
   "version": "2.7.6"
  }
 },
 "nbformat": 4,
 "nbformat_minor": 0
}
