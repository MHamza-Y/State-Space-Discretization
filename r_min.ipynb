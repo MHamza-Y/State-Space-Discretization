{
 "cells": [
  {
   "cell_type": "code",
   "execution_count": 1,
   "metadata": {
    "collapsed": true
   },
   "outputs": [],
   "source": [
    "import os\n",
    "\n",
    "import numpy as np\n",
    "import pandas as pd\n",
    "from matplotlib import pyplot as plt\n",
    "\n",
    "from base_rl.eval_policy import EvalDiscreteStatePolicy\n",
    "from dynamic_programming.mdp_model import MDPModel\n",
    "from dynamic_programming.policy import DPPolicy\n",
    "from envs.env_creator import env_creator\n",
    "from envs.plot import plot_industrial_benchmark_trajectories\n",
    "from rmin.train import RMinTrainer"
   ]
  },
  {
   "cell_type": "code",
   "execution_count": 2,
   "outputs": [],
   "source": [
    "plt.rcParams[\"figure.figsize\"] = [20, 12]"
   ],
   "metadata": {
    "collapsed": false
   }
  },
  {
   "cell_type": "markdown",
   "source": [
    "## Load Data and MDP Model"
   ],
   "metadata": {
    "collapsed": false
   }
  },
  {
   "cell_type": "code",
   "execution_count": 3,
   "outputs": [],
   "source": [
    "# trajectories_samples = ['trajectory_ep10_model_aeq.npy', 'trajectory_ep10_model_final_h.npy',\n",
    "#                         'trajectory_ep10_model_h_c.npy', 'trajectory_ep100_model_aeq.npy',\n",
    "#                         'trajectory_ep100_model_final_h.npy', 'trajectory_ep100_model_h_c.npy',\n",
    "#                         'trajectory_ep1000_model_aeq.npy', 'trajectory_ep1000_model_h_c.npy',\n",
    "#                         'trajectory_ep1000_model_final_h.npy']\n",
    "trajectories_samples = ['trajectory_ep1000_model_aeq-20bits2.npy']\n",
    "\n",
    "min_count = [1, 1, 1, 3, 3, 6, 5, 7, 7]\n",
    "#min_count = [1, 6, 7]\n",
    "device = 'cpu'\n",
    "mdp_save_paths = [f'tmp/rmin/mdp_{file.split(\".\")[0]}.pkl' for file in trajectories_samples]\n",
    "model_names = [''.join(file.split(\".\")[0].split('ep')[-1].split('_', maxsplit=1)[-1]) for file in trajectories_samples]\n",
    "quant_models_paths = [f'tmp/state_quantization/{model_name}' for model_name in model_names]\n",
    "policies_save_paths = [f'tmp/rmin/ib_policy_{file.split(\".\")[0]}.pkl' for file in trajectories_samples]"
   ],
   "metadata": {
    "collapsed": false
   }
  },
  {
   "cell_type": "markdown",
   "source": [
    "## Create MDP Models"
   ],
   "metadata": {
    "collapsed": false
   }
  },
  {
   "cell_type": "code",
   "execution_count": 4,
   "outputs": [
    {
     "name": "stdout",
     "output_type": "stream",
     "text": [
      "Computing Reward Function\n",
      "Computing Transition Model\n",
      "tmp/rmin/mdp_trajectory_ep1000_model_aeq-20bits2.pkl\n",
      "-343.3163587184372\n",
      "1000000\n",
      "0.0\n",
      "3737\n"
     ]
    }
   ],
   "source": [
    "from dynamic_programming.mdp_model import create_mdp_models\n",
    "\n",
    "for i, sample_file in enumerate(trajectories_samples):\n",
    "    load_path = os.path.join(\"tmp\", \"offline_rl_trajectories\", sample_file)\n",
    "    create_mdp_models(load_path=load_path, mdp_save_path=mdp_save_paths[i], reward_function_type='state_action', device=device)"
   ],
   "metadata": {
    "collapsed": false
   }
  },
  {
   "cell_type": "markdown",
   "source": [
    "## Train"
   ],
   "metadata": {
    "collapsed": false
   }
  },
  {
   "cell_type": "code",
   "execution_count": 8,
   "outputs": [
    {
     "name": "stdout",
     "output_type": "stream",
     "text": [
      "trajectory_ep1000_model_aeq-16bits.npy\n",
      "Epoch: 0\n"
     ]
    },
    {
     "data": {
      "text/plain": "<Figure size 432x288 with 1 Axes>",
      "image/png": "[encoded data removed]"
     },
     "metadata": {
      "needs_background": "light"
     },
     "output_type": "display_data"
    }
   ],
   "source": [
    "def train_r_min(mdp_path, policy_save_path):\n",
    "    mdp_model = MDPModel.load(mdp_path)\n",
    "    solver = RMinTrainer(reward_function=mdp_model.reward_function, transition_model=mdp_model.transition_model,\n",
    "                         count_state_action=mdp_model.count_state_action, min_count=min_count[i])\n",
    "    solver.train(epochs=50000, gamma=0.995)\n",
    "    trained_policy = DPPolicy(policy_table=solver.get_policy(), state_to_index=mdp_model.state_to_index,\n",
    "                              index_to_action=mdp_model.index_to_actions)\n",
    "    trained_policy.save(policy_save_path)\n",
    "\n",
    "\n",
    "for i, mdp_save_path in enumerate(mdp_save_paths):\n",
    "    print(trajectories_samples[i])\n",
    "    train_r_min(mdp_path=mdp_save_path, policy_save_path=policies_save_paths[i])\n",
    "\n",
    "\n"
   ],
   "metadata": {
    "collapsed": false
   }
  },
  {
   "cell_type": "markdown",
   "source": [
    "## Evaluate"
   ],
   "metadata": {
    "collapsed": false
   }
  },
  {
   "cell_type": "code",
   "execution_count": 9,
   "outputs": [
    {
     "name": "stdout",
     "output_type": "stream",
     "text": [
      "Episode 9 Reward: -233.5710291433241 || New State Found: True\n"
     ]
    },
    {
     "data": {
      "text/plain": "<Figure size 432x288 with 1 Axes>",
      "image/png": "[encoded data removed]"
     },
     "metadata": {
      "needs_background": "light"
     },
     "output_type": "display_data"
    },
    {
     "name": "stdout",
     "output_type": "stream",
     "text": [
      "Reward Mean: -231.56972462572668\n",
      "Reward std : 3.387537907562143\n"
     ]
    }
   ],
   "source": [
    "from benchmarks.policy_benchmarks import PolicyBenchmarks\n",
    "\n",
    "steps_per_episode = 1000\n",
    "evaluators = []\n",
    "for i, policy_file in enumerate(policies_save_paths):\n",
    "    eval_policy = DPPolicy.load(policy_file)\n",
    "    env_kwargs = {'steps_per_episode': steps_per_episode, 'device': device, 'model_path': quant_models_paths[i]}\n",
    "    evaluator = EvalDiscreteStatePolicy(policy=eval_policy, env_creator=env_creator, env_kwargs=env_kwargs,\n",
    "                                        tag=policy_file.split('/')[-1].split('.')[0])\n",
    "    evaluators.append(evaluator)\n",
    "\n",
    "policy_benchmarks = PolicyBenchmarks(evaluators=evaluators, epochs=10)\n",
    "policy_benchmarks.benchmark()"
   ],
   "metadata": {
    "collapsed": false
   }
  },
  {
   "cell_type": "code",
   "execution_count": 7,
   "outputs": [
    {
     "ename": "IndexError",
     "evalue": "list index out of range",
     "output_type": "error",
     "traceback": [
      "\u001B[0;31m---------------------------------------------------------------------------\u001B[0m",
      "\u001B[0;31mIndexError\u001B[0m                                Traceback (most recent call last)",
      "Input \u001B[0;32mIn [7]\u001B[0m, in \u001B[0;36m<cell line: 1>\u001B[0;34m()\u001B[0m\n\u001B[0;32m----> 1\u001B[0m plot_industrial_benchmark_trajectories(\u001B[43mpolicy_benchmarks\u001B[49m\u001B[38;5;241;43m.\u001B[39;49m\u001B[43mevaluators\u001B[49m\u001B[43m[\u001B[49m\u001B[38;5;241;43m-\u001B[39;49m\u001B[38;5;241;43m2\u001B[39;49m\u001B[43m]\u001B[49m\u001B[38;5;241m.\u001B[39meval_trajectories[\u001B[38;5;241m0\u001B[39m][\u001B[38;5;124m'\u001B[39m\u001B[38;5;124minfo\u001B[39m\u001B[38;5;124m'\u001B[39m])\n\u001B[1;32m      2\u001B[0m np\u001B[38;5;241m.\u001B[39mmean(policy_benchmarks\u001B[38;5;241m.\u001B[39mevaluators[\u001B[38;5;241m-\u001B[39m\u001B[38;5;241m2\u001B[39m]\u001B[38;5;241m.\u001B[39meval_rewards_per_epoch)\n",
      "\u001B[0;31mIndexError\u001B[0m: list index out of range"
     ]
    }
   ],
   "source": [
    "plot_industrial_benchmark_trajectories(policy_benchmarks.evaluators[-2].eval_trajectories[0]['info'])\n",
    "np.mean(policy_benchmarks.evaluators[-2].eval_rewards_per_epoch)"
   ],
   "metadata": {
    "collapsed": false
   }
  },
  {
   "cell_type": "code",
   "execution_count": null,
   "outputs": [],
   "source": [
    "df = pd.DataFrame(policy_benchmarks.benchmark_metrics)\n",
    "df.T"
   ],
   "metadata": {
    "collapsed": false
   }
  },
  {
   "cell_type": "code",
   "execution_count": null,
   "outputs": [],
   "source": [
    "plt.rcParams[\"figure.figsize\"] = [20, 12]\n",
    "\n",
    "model_names_un = np.unique(model_names)\n",
    "for model_name in model_names_un:\n",
    "    m = np.core.defchararray.find(df.columns.values.astype(str), model_name) >= 0\n",
    "    fdf = df.loc[:, m]\n",
    "    ax = fdf.plot.bar()\n",
    "\n",
    "    for container in ax.containers:\n",
    "        ax.bar_label(container)\n",
    "    plt.show()"
   ],
   "metadata": {
    "collapsed": false
   }
  },
  {
   "cell_type": "code",
   "execution_count": null,
   "outputs": [],
   "source": [],
   "metadata": {
    "collapsed": false
   }
  }
 ],
 "metadata": {
  "kernelspec": {
   "display_name": "Python 3",
   "language": "python",
   "name": "python3"
  },
  "language_info": {
   "codemirror_mode": {
    "name": "ipython",
    "version": 2
   },
   "file_extension": ".py",
   "mimetype": "text/x-python",
   "name": "python",
   "nbconvert_exporter": "python",
   "pygments_lexer": "ipython2",
   "version": "2.7.6"
  }
 },
 "nbformat": 4,
 "nbformat_minor": 0
}
