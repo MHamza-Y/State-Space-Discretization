{
 "cells": [
  {
   "cell_type": "code",
   "execution_count": 1,
   "metadata": {
    "collapsed": true
   },
   "outputs": [],
   "source": [
    "import numpy as np\n",
    "\n",
    "from base_rl.train import ParallelTrainer, OnlineTrainer\n",
    "from base_rl.callbacks import SaveBestPolicy, SavePolicyOnTrainingEnd\n",
    "import matplotlib.pyplot as plt\n",
    "from q_learning.algorithm import QLearningAlgo, QLPolicy\n",
    "from envs.env_creator import env_creator\n",
    "from base_rl.eval_policy import EvalDiscreteStatePolicy\n",
    "from base_rl.scheduler import DecayingExpScheduler, LinearScheduler, DecayingExpContinuousScheduler\n",
    "import random\n",
    "from glob import glob\n",
    "import pandas as pd"
   ]
  },
  {
   "cell_type": "code",
   "execution_count": 2,
   "outputs": [],
   "source": [
    "plt.rcParams[\"figure.figsize\"] = [20, 12]"
   ],
   "metadata": {
    "collapsed": false
   }
  },
  {
   "cell_type": "code",
   "execution_count": 3,
   "outputs": [],
   "source": [
    "\n",
    "device = 'cuda'\n",
    "steps_per_episode = 1000\n",
    "model_names = ['model_h_c', 'model_final_h', 'model_aeq']\n",
    "q_policies_path = 'tmp/q_learning'\n",
    "model_files = {model_name: glob(f'{q_policies_path}/*{model_name}*' ) for model_name in model_names}\n"
   ],
   "metadata": {
    "collapsed": false
   }
  },
  {
   "cell_type": "code",
   "execution_count": null,
   "outputs": [
    {
     "name": "stdout",
     "output_type": "stream",
     "text": [
      "Episode 0 Reward: -201.1575742825357 || New State Found: False\n"
     ]
    },
    {
     "data": {
      "text/plain": "<Figure size 432x288 with 1 Axes>",
      "image/png": "[encoded data removed]"
     },
     "metadata": {
      "needs_background": "light"
     },
     "output_type": "display_data"
    }
   ],
   "source": [
    "benchmarks = {}\n",
    "for model_name,policy_files in model_files.items():\n",
    "    for policy_file in policy_files:\n",
    "        eval_policy = QLPolicy.load(policy_file)\n",
    "        env_kwargs = {'steps_per_episode': steps_per_episode, 'device': device,\n",
    "                      'model_path': f'tmp/state_quantization/{model_name}'}\n",
    "        evaluator = EvalDiscreteStatePolicy(policy=eval_policy, env_creator=env_creator, env_kwargs=env_kwargs)\n",
    "        evaluator.evaluate(epochs=2)\n",
    "        benchmark = {policy_file.split('/')[-1].split('.')[0]: {'reward': np.mean(evaluator.eval_rewards_per_epoch), 'std':np.std(evaluator.eval_rewards_per_epoch)}}\n",
    "        benchmarks.update({policy_file: {'reward': np.mean(evaluator.eval_rewards_per_epoch), 'std':np.std(evaluator.eval_rewards_per_epoch)}})"
   ],
   "metadata": {
    "collapsed": false,
    "pycharm": {
     "is_executing": true
    }
   }
  },
  {
   "cell_type": "code",
   "execution_count": null,
   "outputs": [],
   "source": [
    "#df = pd.concat({k: pd.DataFrame(v).T for k, v in benchmarks.items()}, axis=0)\n",
    "df = pd.DataFrame(benchmarks).T\n",
    "df"
   ],
   "metadata": {
    "collapsed": false,
    "pycharm": {
     "is_executing": true
    }
   }
  },
  {
   "cell_type": "code",
   "execution_count": null,
   "outputs": [],
   "source": [],
   "metadata": {
    "collapsed": false,
    "pycharm": {
     "is_executing": true
    }
   }
  }
 ],
 "metadata": {
  "kernelspec": {
   "display_name": "Python 3",
   "language": "python",
   "name": "python3"
  },
  "language_info": {
   "codemirror_mode": {
    "name": "ipython",
    "version": 2
   },
   "file_extension": ".py",
   "mimetype": "text/x-python",
   "name": "python",
   "nbconvert_exporter": "python",
   "pygments_lexer": "ipython2",
   "version": "2.7.6"
  }
 },
 "nbformat": 4,
 "nbformat_minor": 0
}
