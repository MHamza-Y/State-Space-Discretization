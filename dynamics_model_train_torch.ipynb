{
 "cells": [
  {
   "cell_type": "code",
   "execution_count": 1,
   "metadata": {
    "collapsed": true,
    "pycharm": {
     "name": "#%%\n"
    }
   },
   "outputs": [],
   "source": [
    "import numpy as np\n",
    "import torch\n",
    "from torch.utils.data import DataLoader\n",
    "from sklearn.model_selection import train_test_split\n",
    "from dynamic_model.dataset import DynamicsModelDataset\n",
    "from dynamic_model.model import DynamicsModel\n",
    "from dynamic_model.train import train_model\n",
    "\n",
    "\n"
   ]
  },
  {
   "cell_type": "code",
   "execution_count": 2,
   "outputs": [
    {
     "name": "stdout",
     "output_type": "stream",
     "text": [
      "Using Device: cuda:0\n"
     ]
    }
   ],
   "source": [
    "use_cuda = torch.cuda.is_available()\n",
    "device = torch.device(\"cuda:0\" if use_cuda else \"cpu\")\n",
    "print(f\"Using Device: {device}\")\n",
    "torch.backends.cudnn.benchmark = True"
   ],
   "metadata": {
    "collapsed": false,
    "pycharm": {
     "name": "#%%\n"
    }
   }
  },
  {
   "cell_type": "markdown",
   "source": [
    "## Load Dataset"
   ],
   "metadata": {
    "collapsed": false,
    "pycharm": {
     "name": "#%% md\n"
    }
   }
  },
  {
   "cell_type": "code",
   "execution_count": 3,
   "outputs": [],
   "source": [
    "\n",
    "def load_dataset(file_path, input_key, output_key, test_size= 0.3, device=device):\n",
    "\n",
    "    dataset = np.load(file_path, allow_pickle=True)\n",
    "    x = dataset[()][input_key]\n",
    "    y = dataset[()][output_key]\n",
    "    x_train, x_test, y_train, y_test = train_test_split(x, y, test_size=test_size)\n",
    "    train_dataset = DynamicsModelDataset(x_train,y_train, device)\n",
    "    validation_dataset = DynamicsModelDataset(x_test,y_test, device)\n",
    "    return train_dataset, validation_dataset\n",
    "\n",
    "\n",
    "dataset_input_key = 'merged_input'\n",
    "dataset_output_key = 'merged_output'\n",
    "dataset_file_path = 'tmp/ib-out/ib-samples.npy'\n",
    "\n",
    "\n"
   ],
   "metadata": {
    "collapsed": false,
    "pycharm": {
     "name": "#%%\n"
    }
   }
  },
  {
   "cell_type": "markdown",
   "source": [],
   "metadata": {
    "collapsed": false,
    "pycharm": {
     "name": "#%% md\n"
    }
   }
  },
  {
   "cell_type": "code",
   "execution_count": 4,
   "outputs": [],
   "source": [
    "\n",
    "batch_size = 4000\n",
    "params = {'batch_size': batch_size,\n",
    "          'shuffle': True,\n",
    "          'num_workers': 0,\n",
    "          'drop_last':True}\n",
    "\n",
    "\n",
    "\n",
    "train_dataset, val_dataset = load_dataset(file_path=dataset_file_path, input_key=dataset_input_key, output_key= dataset_output_key)\n",
    "train_loader = DataLoader(train_dataset, **params)\n",
    "val_loader = DataLoader(val_dataset, **params)"
   ],
   "metadata": {
    "collapsed": false,
    "pycharm": {
     "name": "#%%\n"
    }
   }
  },
  {
   "cell_type": "code",
   "execution_count": 5,
   "outputs": [],
   "source": [
    "num_of_features = train_dataset.get_features_size()\n",
    "seq_len = train_dataset.get_seq_len()\n",
    "hidden_size = 32\n",
    "out_size = train_dataset.get_output_feature_size()\n",
    "\n",
    "model = DynamicsModel(features=num_of_features,hidden_size=hidden_size,out_size=out_size, batch_size=batch_size, seq_len=seq_len).to(device=device)"
   ],
   "metadata": {
    "collapsed": false,
    "pycharm": {
     "name": "#%%\n"
    }
   }
  },
  {
   "cell_type": "code",
   "execution_count": null,
   "outputs": [
    {
     "name": "stdout",
     "output_type": "stream",
     "text": [
      "Untrained test\n",
      "--------\n"
     ]
    },
    {
     "name": "stderr",
     "output_type": "stream",
     "text": [
      "/home/hamza/PycharmProjects/StateCompression/venv/lib/python3.8/site-packages/torch/nn/modules/loss.py:530: UserWarning: Using a target size (torch.Size([4000, 1, 6])) that is different to the input size (torch.Size([4000, 6])). This will likely lead to incorrect results due to broadcasting. Please ensure they have the same size.\n",
      "  return F.mse_loss(input, target, reduction=self.reduction)\n"
     ]
    },
    {
     "name": "stdout",
     "output_type": "stream",
     "text": [
      "Test loss: 13199.896267361111\n",
      "\n",
      "Epoch 0\n",
      "---------\n",
      "Train loss: 12872.911797337278\n",
      "Test loss: 12489.693372938367\n",
      "Epoch time: epoch_time = 6.753s\n",
      "Epoch 1\n",
      "---------\n",
      "Train loss: 12219.658757858728\n",
      "Test loss: 11907.002549913195\n",
      "Epoch time: epoch_time = 6.641s\n",
      "Epoch 2\n",
      "---------\n",
      "Train loss: 11671.171580297707\n",
      "Test loss: 11382.214626736111\n",
      "Epoch time: epoch_time = 6.819s\n",
      "Epoch 3\n",
      "---------\n",
      "Train loss: 11156.507298215607\n",
      "Test loss: 10873.40296766493\n",
      "Epoch time: epoch_time = 6.570s\n",
      "Epoch 4\n",
      "---------\n",
      "Train loss: 10680.396386140903\n",
      "Test loss: 10413.439371744791\n",
      "Epoch time: epoch_time = 6.652s\n",
      "Epoch 5\n",
      "---------\n",
      "Train loss: 10253.113778198964\n",
      "Test loss: 10014.389797634549\n",
      "Epoch time: epoch_time = 6.615s\n",
      "Epoch 6\n",
      "---------\n",
      "Train loss: 9860.352151904586\n",
      "Test loss: 9628.198092990451\n",
      "Epoch time: epoch_time = 6.712s\n",
      "Epoch 7\n",
      "---------\n",
      "Train loss: 9503.916616586539\n",
      "Test loss: 9285.29387749566\n",
      "Epoch time: epoch_time = 6.550s\n",
      "Epoch 8\n",
      "---------\n",
      "Train loss: 9186.511279585799\n",
      "Test loss: 8976.188917371961\n",
      "Epoch time: epoch_time = 6.710s\n",
      "Epoch 9\n",
      "---------\n"
     ]
    }
   ],
   "source": [
    "train_model(model=model, train_loader=train_loader, test_loader=val_loader, n_epochs=200)"
   ],
   "metadata": {
    "collapsed": false,
    "pycharm": {
     "name": "#%%\n",
     "is_executing": true
    }
   }
  }
 ],
 "metadata": {
  "kernelspec": {
   "display_name": "Python 3",
   "language": "python",
   "name": "python3"
  },
  "language_info": {
   "codemirror_mode": {
    "name": "ipython",
    "version": 2
   },
   "file_extension": ".py",
   "mimetype": "text/x-python",
   "name": "python",
   "nbconvert_exporter": "python",
   "pygments_lexer": "ipython2",
   "version": "2.7.6"
  }
 },
 "nbformat": 4,
 "nbformat_minor": 0
}