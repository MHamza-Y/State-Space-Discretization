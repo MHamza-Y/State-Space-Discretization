{
 "cells": [
  {
   "cell_type": "code",
   "execution_count": null,
   "metadata": {
    "collapsed": true
   },
   "outputs": [],
   "source": [
    "import pandas as pd\n",
    "from matplotlib import pyplot as plt\n",
    "from scipy.stats import mannwhitneyu\n",
    "import seaborn as sns\n",
    "from itertools import combinations\n",
    "\n"
   ]
  },
  {
   "cell_type": "code",
   "execution_count": null,
   "outputs": [],
   "source": [
    "\n",
    "df_save_path = 'tmp/evaluation_results'\n",
    "\n",
    "results_df = pd.read_pickle(df_save_path)\n",
    "algos = results_df['algo'].unique().tolist()\n"
   ],
   "metadata": {
    "collapsed": false
   }
  },
  {
   "cell_type": "code",
   "execution_count": null,
   "outputs": [],
   "source": [
    "\n",
    "for algo in results_df['algo'].unique():\n",
    "\n",
    "    trained_rewards = results_df[results_df['algo']==algo][results_df['trained_model']==True]['rewards'].tolist()\n",
    "    untrained_rewards = results_df[results_df['algo']==algo][results_df['trained_model']==False]['rewards'].tolist()\n",
    "    print(algo)\n",
    "    sns.displot(results_df[results_df['algo']==algo], x=\"rewards\", hue=\"trained_model\", kind=\"kde\", fill=True, label=algo)\n",
    "    print(mannwhitneyu(trained_rewards,untrained_rewards))\n",
    "    print(mannwhitneyu(untrained_rewards,trained_rewards))"
   ],
   "metadata": {
    "collapsed": false
   }
  },
  {
   "cell_type": "code",
   "execution_count": null,
   "outputs": [],
   "source": [
    "\n",
    "algo_combinations = list(combinations(algos,2))\n",
    "algo_combinations"
   ],
   "metadata": {
    "collapsed": false
   }
  },
  {
   "cell_type": "code",
   "execution_count": null,
   "outputs": [],
   "source": [
    "for algo_combination in algo_combinations:\n",
    "    print(algo_combination)\n",
    "    trained_rewards_algo = [results_df[results_df['algo']==algo][results_df['trained_model']==True]['rewards'].tolist() for algo in algo_combination]\n",
    "\n",
    "    sns.displot(results_df[(results_df['trained_model']==True) & (results_df['algo'].isin(algo_combination))], x=\"rewards\", hue=\"algo\", kind=\"kde\", fill=True)\n",
    "    print(mannwhitneyu(trained_rewards_algo[0],trained_rewards_algo[1]))\n",
    "    print(mannwhitneyu(trained_rewards_algo[1],trained_rewards_algo[0]))"
   ],
   "metadata": {
    "collapsed": false
   }
  },
  {
   "cell_type": "code",
   "execution_count": null,
   "outputs": [],
   "source": [
    "for algo_combination in algo_combinations:\n",
    "    print(algo_combination)\n",
    "    trained_rewards_algo = [results_df[results_df['algo']==algo][results_df['trained_model']==True]['rewards'].tolist() for algo in algo_combination]\n",
    "\n",
    "    sns.displot(results_df[(results_df['trained_model']==True) & (results_df['algo'].isin(algo_combination))], x=\"rewards\", hue=\"algo\", kind=\"kde\", fill=True)\n",
    "    print(mannwhitneyu(trained_rewards_algo[0],trained_rewards_algo[1]))\n"
   ],
   "metadata": {
    "collapsed": false
   }
  }
 ],
 "metadata": {
  "kernelspec": {
   "display_name": "Python 3",
   "language": "python",
   "name": "python3"
  },
  "language_info": {
   "codemirror_mode": {
    "name": "ipython",
    "version": 2
   },
   "file_extension": ".py",
   "mimetype": "text/x-python",
   "name": "python",
   "nbconvert_exporter": "python",
   "pygments_lexer": "ipython2",
   "version": "2.7.6"
  }
 },
 "nbformat": 4,
 "nbformat_minor": 0
}
