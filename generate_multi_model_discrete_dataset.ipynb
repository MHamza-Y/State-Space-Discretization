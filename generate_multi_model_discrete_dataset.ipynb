{
 "cells": [
  {
   "cell_type": "code",
   "execution_count": 1,
   "metadata": {
    "collapsed": true
   },
   "outputs": [],
   "source": [
    "from offline_dataset.multi_modal_dataset import generate_multimodal_dataset"
   ]
  },
  {
   "cell_type": "code",
   "execution_count": 2,
   "outputs": [],
   "source": [
    "episodes = 10000\n",
    "steps_per_episode = 1000\n",
    "workers = 8\n",
    "\n",
    "model_names = ['model_aeq-20bits3', 'model_h_c-20bits3', 'model_final_h20bits2']\n",
    "model_paths = [f'tmp/state_quantization/{model}' for model in model_names]\n",
    "q_transform_kwargs = {'device': 'cpu', 'keys': ['obs', 'new_obs'], 'reshape': (steps_per_episode, -1, 6),\n",
    "                      'model_paths': model_paths}"
   ],
   "metadata": {
    "collapsed": false
   }
  },
  {
   "cell_type": "code",
   "execution_count": 3,
   "outputs": [
    {
     "name": "stderr",
     "output_type": "stream",
     "text": [
      "2022-12-21 13:55:01,080\tWARNING deprecation.py:47 -- DeprecationWarning: `SampleBatchBuilder` has been deprecated. Use `a child class of `SampleCollector`` instead. This will raise an error in the future!\n"
     ]
    },
    {
     "name": "stdout",
     "output_type": "stream",
     "text": [
      "Episodes Sampled: 0\n",
      "Sampling Finished\n"
     ]
    },
    {
     "ename": "TypeError",
     "evalue": "Pickling an AuthenticationString object is disallowed for security reasons",
     "output_type": "error",
     "traceback": [
      "\u001B[0;31m---------------------------------------------------------------------------\u001B[0m",
      "\u001B[0;31mTypeError\u001B[0m                                 Traceback (most recent call last)",
      "Cell \u001B[0;32mIn[3], line 4\u001B[0m\n\u001B[1;32m      1\u001B[0m \u001B[38;5;28;01mfrom\u001B[39;00m \u001B[38;5;21;01mmultiprocessing\u001B[39;00m \u001B[38;5;28;01mimport\u001B[39;00m Pool\n\u001B[1;32m      3\u001B[0m \u001B[38;5;28;01mwith\u001B[39;00m Pool(\u001B[38;5;241m1\u001B[39m) \u001B[38;5;28;01mas\u001B[39;00m pool:\n\u001B[0;32m----> 4\u001B[0m     \u001B[43mgenerate_multimodal_dataset\u001B[49m\u001B[43m(\u001B[49m\u001B[43mmodel_names\u001B[49m\u001B[38;5;241;43m=\u001B[39;49m\u001B[43mmodel_names\u001B[49m\u001B[43m,\u001B[49m\u001B[43m \u001B[49m\u001B[43mepisodes\u001B[49m\u001B[38;5;241;43m=\u001B[39;49m\u001B[43mepisodes\u001B[49m\u001B[43m,\u001B[49m\u001B[43m \u001B[49m\u001B[43mworkers\u001B[49m\u001B[38;5;241;43m=\u001B[39;49m\u001B[38;5;241;43m8\u001B[39;49m\u001B[43m,\u001B[49m\n\u001B[1;32m      5\u001B[0m \u001B[43m                            \u001B[49m\u001B[43mroot_path\u001B[49m\u001B[38;5;241;43m=\u001B[39;49m\u001B[38;5;124;43m'\u001B[39;49m\u001B[38;5;124;43mtmp\u001B[39;49m\u001B[38;5;124;43m'\u001B[39;49m\u001B[43m,\u001B[49m\u001B[43mpool\u001B[49m\u001B[38;5;241;43m=\u001B[39;49m\u001B[43mpool\u001B[49m\u001B[43m)\u001B[49m\n",
      "File \u001B[0;32m~/PycharmProjects/State-Space-Discretization/offline_dataset/multi_modal_dataset.py:29\u001B[0m, in \u001B[0;36mgenerate_multimodal_dataset\u001B[0;34m(model_names, episodes, steps_per_episode, workers, root_path, pool)\u001B[0m\n\u001B[1;32m     23\u001B[0m start \u001B[38;5;241m=\u001B[39m time\u001B[38;5;241m.\u001B[39mtime()\n\u001B[1;32m     24\u001B[0m parallel_sampler \u001B[38;5;241m=\u001B[39m GymParallelSampler(env_creator\u001B[38;5;241m=\u001B[39mibgym_env_creator, path\u001B[38;5;241m=\u001B[39mwriter_path, episodes\u001B[38;5;241m=\u001B[39mepisodes,\n\u001B[1;32m     25\u001B[0m                                       workers\u001B[38;5;241m=\u001B[39mworkers, env_kwargs\u001B[38;5;241m=\u001B[39menv_kwargs, reward_threshold\u001B[38;5;241m=\u001B[39m\u001B[38;5;28;01mNone\u001B[39;00m,\n\u001B[1;32m     26\u001B[0m                                       buffer_transform\u001B[38;5;241m=\u001B[39mmulti_model_quantize_transforms_creator,\n\u001B[1;32m     27\u001B[0m                                       buffer_transform_kwargs\u001B[38;5;241m=\u001B[39mq_transform_kwargs,\n\u001B[1;32m     28\u001B[0m                                       policy\u001B[38;5;241m=\u001B[39m\u001B[38;5;28;01mNone\u001B[39;00m, pool\u001B[38;5;241m=\u001B[39mpool)\n\u001B[0;32m---> 29\u001B[0m \u001B[43mparallel_sampler\u001B[49m\u001B[38;5;241;43m.\u001B[39;49m\u001B[43msample\u001B[49m\u001B[43m(\u001B[49m\u001B[43m)\u001B[49m\n\u001B[1;32m     30\u001B[0m end \u001B[38;5;241m=\u001B[39m time\u001B[38;5;241m.\u001B[39mtime()\n\u001B[1;32m     31\u001B[0m \u001B[38;5;28mprint\u001B[39m(end \u001B[38;5;241m-\u001B[39m start)\n",
      "File \u001B[0;32m~/PycharmProjects/State-Space-Discretization/offline_dataset/dataset_creater.py:123\u001B[0m, in \u001B[0;36mGymParallelSampler.sample\u001B[0;34m(self)\u001B[0m\n\u001B[1;32m    121\u001B[0m     print_progress(\u001B[38;5;28mself\u001B[39m\u001B[38;5;241m.\u001B[39msampler_processes, \u001B[38;5;28mself\u001B[39m\u001B[38;5;241m.\u001B[39mep_count)\n\u001B[1;32m    122\u001B[0m     \u001B[38;5;28;01mfor\u001B[39;00m r \u001B[38;5;129;01min\u001B[39;00m results:\n\u001B[0;32m--> 123\u001B[0m         \u001B[43mr\u001B[49m\u001B[38;5;241;43m.\u001B[39;49m\u001B[43mget\u001B[49m\u001B[43m(\u001B[49m\u001B[43m)\u001B[49m\n\u001B[1;32m    124\u001B[0m \u001B[38;5;28;01melse\u001B[39;00m:\n\u001B[1;32m    125\u001B[0m     \u001B[38;5;28;01mfor\u001B[39;00m p \u001B[38;5;129;01min\u001B[39;00m \u001B[38;5;28mself\u001B[39m\u001B[38;5;241m.\u001B[39msampler_processes:\n",
      "File \u001B[0;32m/usr/lib/python3.10/multiprocessing/pool.py:774\u001B[0m, in \u001B[0;36mApplyResult.get\u001B[0;34m(self, timeout)\u001B[0m\n\u001B[1;32m    772\u001B[0m     \u001B[38;5;28;01mreturn\u001B[39;00m \u001B[38;5;28mself\u001B[39m\u001B[38;5;241m.\u001B[39m_value\n\u001B[1;32m    773\u001B[0m \u001B[38;5;28;01melse\u001B[39;00m:\n\u001B[0;32m--> 774\u001B[0m     \u001B[38;5;28;01mraise\u001B[39;00m \u001B[38;5;28mself\u001B[39m\u001B[38;5;241m.\u001B[39m_value\n",
      "File \u001B[0;32m/usr/lib/python3.10/multiprocessing/pool.py:540\u001B[0m, in \u001B[0;36mPool._handle_tasks\u001B[0;34m(taskqueue, put, outqueue, pool, cache)\u001B[0m\n\u001B[1;32m    538\u001B[0m     \u001B[38;5;28;01mbreak\u001B[39;00m\n\u001B[1;32m    539\u001B[0m \u001B[38;5;28;01mtry\u001B[39;00m:\n\u001B[0;32m--> 540\u001B[0m     \u001B[43mput\u001B[49m\u001B[43m(\u001B[49m\u001B[43mtask\u001B[49m\u001B[43m)\u001B[49m\n\u001B[1;32m    541\u001B[0m \u001B[38;5;28;01mexcept\u001B[39;00m \u001B[38;5;167;01mException\u001B[39;00m \u001B[38;5;28;01mas\u001B[39;00m e:\n\u001B[1;32m    542\u001B[0m     job, idx \u001B[38;5;241m=\u001B[39m task[:\u001B[38;5;241m2\u001B[39m]\n",
      "File \u001B[0;32m/usr/lib/python3.10/multiprocessing/connection.py:206\u001B[0m, in \u001B[0;36m_ConnectionBase.send\u001B[0;34m(self, obj)\u001B[0m\n\u001B[1;32m    204\u001B[0m \u001B[38;5;28mself\u001B[39m\u001B[38;5;241m.\u001B[39m_check_closed()\n\u001B[1;32m    205\u001B[0m \u001B[38;5;28mself\u001B[39m\u001B[38;5;241m.\u001B[39m_check_writable()\n\u001B[0;32m--> 206\u001B[0m \u001B[38;5;28mself\u001B[39m\u001B[38;5;241m.\u001B[39m_send_bytes(\u001B[43m_ForkingPickler\u001B[49m\u001B[38;5;241;43m.\u001B[39;49m\u001B[43mdumps\u001B[49m\u001B[43m(\u001B[49m\u001B[43mobj\u001B[49m\u001B[43m)\u001B[49m)\n",
      "File \u001B[0;32m/usr/lib/python3.10/multiprocessing/reduction.py:51\u001B[0m, in \u001B[0;36mForkingPickler.dumps\u001B[0;34m(cls, obj, protocol)\u001B[0m\n\u001B[1;32m     48\u001B[0m \u001B[38;5;129m@classmethod\u001B[39m\n\u001B[1;32m     49\u001B[0m \u001B[38;5;28;01mdef\u001B[39;00m \u001B[38;5;21mdumps\u001B[39m(\u001B[38;5;28mcls\u001B[39m, obj, protocol\u001B[38;5;241m=\u001B[39m\u001B[38;5;28;01mNone\u001B[39;00m):\n\u001B[1;32m     50\u001B[0m     buf \u001B[38;5;241m=\u001B[39m io\u001B[38;5;241m.\u001B[39mBytesIO()\n\u001B[0;32m---> 51\u001B[0m     \u001B[38;5;28;43mcls\u001B[39;49m\u001B[43m(\u001B[49m\u001B[43mbuf\u001B[49m\u001B[43m,\u001B[49m\u001B[43m \u001B[49m\u001B[43mprotocol\u001B[49m\u001B[43m)\u001B[49m\u001B[38;5;241;43m.\u001B[39;49m\u001B[43mdump\u001B[49m\u001B[43m(\u001B[49m\u001B[43mobj\u001B[49m\u001B[43m)\u001B[49m\n\u001B[1;32m     52\u001B[0m     \u001B[38;5;28;01mreturn\u001B[39;00m buf\u001B[38;5;241m.\u001B[39mgetbuffer()\n",
      "File \u001B[0;32m/usr/lib/python3.10/multiprocessing/process.py:353\u001B[0m, in \u001B[0;36mAuthenticationString.__reduce__\u001B[0;34m(self)\u001B[0m\n\u001B[1;32m    351\u001B[0m \u001B[38;5;28;01mfrom\u001B[39;00m \u001B[38;5;21;01m.\u001B[39;00m\u001B[38;5;21;01mcontext\u001B[39;00m \u001B[38;5;28;01mimport\u001B[39;00m get_spawning_popen\n\u001B[1;32m    352\u001B[0m \u001B[38;5;28;01mif\u001B[39;00m get_spawning_popen() \u001B[38;5;129;01mis\u001B[39;00m \u001B[38;5;28;01mNone\u001B[39;00m:\n\u001B[0;32m--> 353\u001B[0m     \u001B[38;5;28;01mraise\u001B[39;00m \u001B[38;5;167;01mTypeError\u001B[39;00m(\n\u001B[1;32m    354\u001B[0m         \u001B[38;5;124m'\u001B[39m\u001B[38;5;124mPickling an AuthenticationString object is \u001B[39m\u001B[38;5;124m'\u001B[39m\n\u001B[1;32m    355\u001B[0m         \u001B[38;5;124m'\u001B[39m\u001B[38;5;124mdisallowed for security reasons\u001B[39m\u001B[38;5;124m'\u001B[39m\n\u001B[1;32m    356\u001B[0m         )\n\u001B[1;32m    357\u001B[0m \u001B[38;5;28;01mreturn\u001B[39;00m AuthenticationString, (\u001B[38;5;28mbytes\u001B[39m(\u001B[38;5;28mself\u001B[39m),)\n",
      "\u001B[0;31mTypeError\u001B[0m: Pickling an AuthenticationString object is disallowed for security reasons"
     ]
    }
   ],
   "source": [
    "\n",
    "generate_multimodal_dataset(model_names=model_names, episodes=episodes, workers=8, root_path='tmp')"
   ],
   "metadata": {
    "collapsed": false
   }
  }
 ],
 "metadata": {
  "kernelspec": {
   "display_name": "Python 3",
   "language": "python",
   "name": "python3"
  },
  "language_info": {
   "codemirror_mode": {
    "name": "ipython",
    "version": 2
   },
   "file_extension": ".py",
   "mimetype": "text/x-python",
   "name": "python",
   "nbconvert_exporter": "python",
   "pygments_lexer": "ipython2",
   "version": "2.7.6"
  }
 },
 "nbformat": 4,
 "nbformat_minor": 0
}
