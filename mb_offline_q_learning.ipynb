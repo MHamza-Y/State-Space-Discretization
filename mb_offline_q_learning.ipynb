{
 "cells": [
  {
   "cell_type": "code",
   "execution_count": 1,
   "metadata": {
    "collapsed": true
   },
   "outputs": [],
   "source": [
    "from base_rl.train import ParallelTrainer, OnlineTrainer\n",
    "from base_rl.callbacks import SaveBestPolicy, SavePolicyOnTrainingEnd\n",
    "import matplotlib.pyplot as plt\n",
    "from q_learning.algorithm import QLearningAlgo, QLPolicy\n",
    "from envs.env_creator import env_creator, IBGymModelQ_creator\n",
    "from base_rl.eval_policy import EvalDiscreteStatePolicy\n",
    "from base_rl.scheduler import DecayingExpScheduler, LinearScheduler, DecayingExpContinuousScheduler\n",
    "import random"
   ]
  },
  {
   "cell_type": "code",
   "execution_count": 2,
   "outputs": [],
   "source": [
    "plt.rcParams[\"figure.figsize\"] = [20, 12]\n",
    "fixed_digits = 6\n",
    "experiment_id = random.randrange(111111, 999999, fixed_digits)"
   ],
   "metadata": {
    "collapsed": false
   }
  },
  {
   "cell_type": "code",
   "execution_count": 3,
   "outputs": [],
   "source": [
    "device = 'cuda'\n",
    "steps_per_episode = 1000\n",
    "model_names = [  'model_aeq-new', 'model_final_h-new']"
   ],
   "metadata": {
    "collapsed": false
   }
  },
  {
   "cell_type": "code",
   "execution_count": 4,
   "outputs": [
    {
     "name": "stdout",
     "output_type": "stream",
     "text": [
      "alpha\n"
     ]
    },
    {
     "data": {
      "text/plain": "<Figure size 432x288 with 1 Axes>",
      "image/png": "[encoded data removed]"
     },
     "metadata": {
      "needs_background": "light"
     },
     "output_type": "display_data"
    },
    {
     "name": "stdout",
     "output_type": "stream",
     "text": [
      "epsilon\n"
     ]
    },
    {
     "data": {
      "text/plain": "<Figure size 432x288 with 1 Axes>",
      "image/png": "[encoded data removed]"
     },
     "metadata": {
      "needs_background": "light"
     },
     "output_type": "display_data"
    }
   ],
   "source": [
    "gamma = 0.995\n",
    "total_epochs = 6000\n",
    "print('alpha')\n",
    "alpha = LinearScheduler(start=0.9, end=0.05, total_steps=3000)\n",
    "print('epsilon')\n",
    "epsilon = LinearScheduler(start=1, end=0.05, total_steps=3000)"
   ],
   "metadata": {
    "collapsed": false
   }
  },
  {
   "cell_type": "code",
   "execution_count": 5,
   "outputs": [],
   "source": [
    "best_save_paths = []\n",
    "last_save_paths = []\n",
    "models_env_kwargs = []\n",
    "for model_name in model_names:\n",
    "    env_kwargs = {'steps_per_episode': steps_per_episode, 'device': device,\n",
    "                  'model_path': f'tmp/state_quantization/{model_name}'}\n",
    "    best_save_paths.append(f'tmp/q_learning/mb_q_policy_best_{model_name}_{experiment_id}.pkl')\n",
    "    last_save_paths.append(f'tmp/q_learning/mb_q_policy_{model_name}_{experiment_id}.pkl')\n",
    "    models_env_kwargs.append(env_kwargs)\n"
   ],
   "metadata": {
    "collapsed": false
   }
  },
  {
   "cell_type": "markdown",
   "source": [
    "## Train"
   ],
   "metadata": {
    "collapsed": false
   }
  },
  {
   "cell_type": "code",
   "execution_count": null,
   "outputs": [],
   "source": [
    "\n",
    "\n",
    "workers_kwargs = []\n",
    "for i, model_name in enumerate(model_names):\n",
    "    trainer_config = {\n",
    "        'algo': QLearningAlgo(\n",
    "            comment=f',id=mb_{experiment_id},model={model_name},gamma={gamma},total_epochs={total_epochs}',\n",
    "            epochs=total_epochs, alpha=alpha, gamma=gamma, epsilon=epsilon, env_creator=IBGymModelQ_creator,\n",
    "            env_kwargs=models_env_kwargs[i], reward_offset=2000, show_reward_type='mean'\n",
    "        ),\n",
    "        'callbacks': [\n",
    "            SaveBestPolicy(save_path=best_save_paths[i]),\n",
    "            SavePolicyOnTrainingEnd(save_path=last_save_paths[i])\n",
    "        ]\n",
    "    }\n",
    "    workers_kwargs.append(trainer_config)\n",
    "\n",
    "parallel_trainer = ParallelTrainer(trainer_class=OnlineTrainer, workers_kwargs=workers_kwargs)\n",
    "parallel_trainer.train()"
   ],
   "metadata": {
    "collapsed": false,
    "pycharm": {
     "is_executing": true
    }
   }
  },
  {
   "cell_type": "markdown",
   "source": [
    "## Evaluate best saves"
   ],
   "metadata": {
    "collapsed": false
   }
  },
  {
   "cell_type": "code",
   "execution_count": null,
   "outputs": [],
   "source": [
    "evaluators = []\n",
    "for i, model_name in enumerate(model_names):\n",
    "    eval_policy = QLPolicy.load(best_save_paths[i])\n",
    "    evaluator = EvalDiscreteStatePolicy(policy=eval_policy, env_creator=env_creator, env_kwargs=models_env_kwargs[i])\n",
    "    evaluator.evaluate(epochs=25)\n",
    "    evaluators.append(evaluator)\n",
    "for evaluator in evaluators:\n",
    "    print(evaluator.env_kwargs['model_path'])\n",
    "    print(f'Reward Mean: {evaluator.eval_mean}')\n",
    "    print(f'Reward std : {evaluator.eval_std}')"
   ],
   "metadata": {
    "collapsed": false,
    "pycharm": {
     "is_executing": true
    }
   }
  },
  {
   "cell_type": "code",
   "execution_count": null,
   "outputs": [],
   "source": [
    "plt.plot(evaluators[-1].eval_trajectories[3]['actions'])"
   ],
   "metadata": {
    "collapsed": false,
    "pycharm": {
     "is_executing": true
    }
   }
  },
  {
   "cell_type": "code",
   "execution_count": null,
   "outputs": [],
   "source": [
    "from envs.plot import plot_industrial_benchmark_trajectories\n",
    "\n",
    "plot_industrial_benchmark_trajectories(evaluators[-1].eval_trajectories[0]['info'])"
   ],
   "metadata": {
    "collapsed": false,
    "pycharm": {
     "is_executing": true
    }
   }
  },
  {
   "cell_type": "markdown",
   "source": [
    "## Evaluate last saves"
   ],
   "metadata": {
    "collapsed": false
   }
  },
  {
   "cell_type": "code",
   "execution_count": null,
   "outputs": [],
   "source": [
    "evaluators = []\n",
    "for i, model_name in enumerate(model_names):\n",
    "    eval_policy = QLPolicy.load(last_save_paths[i])\n",
    "    evaluator = EvalDiscreteStatePolicy(policy=eval_policy, env_creator=env_creator, env_kwargs=models_env_kwargs[i])\n",
    "    evaluator.evaluate(epochs=25)\n",
    "    evaluators.append(evaluator)\n",
    "for evaluator in evaluators:\n",
    "    print(evaluator.env_kwargs['model_path'])\n",
    "    print(f'Reward Mean: {evaluator.eval_mean}')\n",
    "    print(f'Reward std : {evaluator.eval_std}')"
   ],
   "metadata": {
    "collapsed": false,
    "pycharm": {
     "is_executing": true
    }
   }
  },
  {
   "cell_type": "code",
   "execution_count": null,
   "outputs": [],
   "source": [],
   "metadata": {
    "collapsed": false,
    "pycharm": {
     "is_executing": true
    }
   }
  }
 ],
 "metadata": {
  "kernelspec": {
   "display_name": "Python 3",
   "language": "python",
   "name": "python3"
  },
  "language_info": {
   "codemirror_mode": {
    "name": "ipython",
    "version": 2
   },
   "file_extension": ".py",
   "mimetype": "text/x-python",
   "name": "python",
   "nbconvert_exporter": "python",
   "pygments_lexer": "ipython2",
   "version": "2.7.6"
  }
 },
 "nbformat": 4,
 "nbformat_minor": 0
}
