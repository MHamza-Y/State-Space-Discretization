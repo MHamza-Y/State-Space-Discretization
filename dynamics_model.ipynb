{
 "cells": [
  {
   "cell_type": "code",
   "execution_count": 14,
   "metadata": {
    "collapsed": true,
    "pycharm": {
     "name": "#%%\n"
    }
   },
   "outputs": [],
   "source": [
    "import numpy as np\n",
    "from keras.models import Sequential\n",
    "from keras.layers import Dense\n",
    "from keras.layers import LSTM, CuDNNLSTM\n",
    "from keras.layers import Activation\n",
    "import pandas as pd\n",
    "from sklearn.model_selection import train_test_split\n",
    "import matplotlib.pyplot as plt\n"
   ]
  },
  {
   "cell_type": "markdown",
   "source": [
    "## Load Data from file"
   ],
   "metadata": {
    "collapsed": false,
    "pycharm": {
     "name": "#%% md\n"
    }
   }
  },
  {
   "cell_type": "code",
   "execution_count": 9,
   "outputs": [],
   "source": [
    "df = pd.read_json(\"tmp/ib-out/ib-samples.json\")"
   ],
   "metadata": {
    "collapsed": false,
    "pycharm": {
     "name": "#%%\n"
    }
   }
  },
  {
   "cell_type": "code",
   "execution_count": 107,
   "outputs": [],
   "source": [
    "df.reset_index(drop=True)\n",
    "x = np.array(df[[\"merged_input\"]].to_numpy())\n",
    "x = np.array([np.array(row[0]) for row in x])\n",
    "y = np.array(df[[\"out_obs\"]].to_numpy())\n",
    "y = np.array([np.array(row[0]) for row in y])"
   ],
   "metadata": {
    "collapsed": false,
    "pycharm": {
     "name": "#%%\n"
    }
   }
  },
  {
   "cell_type": "code",
   "execution_count": 111,
   "outputs": [
    {
     "data": {
      "text/plain": "(50, 9)"
     },
     "execution_count": 111,
     "metadata": {},
     "output_type": "execute_result"
    }
   ],
   "source": [
    "x"
   ],
   "metadata": {
    "collapsed": false,
    "pycharm": {
     "name": "#%%\n"
    }
   }
  },
  {
   "cell_type": "markdown",
   "source": [
    "## Create Dataset"
   ],
   "metadata": {
    "collapsed": false,
    "pycharm": {
     "name": "#%% md\n"
    }
   }
  },
  {
   "cell_type": "code",
   "execution_count": 110,
   "outputs": [
    {
     "data": {
      "text/plain": "array([[[ 7.00000000e+01,  4.39226608e+01,  2.96963749e+01, ...,\n         -5.94490707e-01, -8.40517342e-01, -8.70895267e-01],\n        [ 7.00000000e+01,  4.39112015e+01,  3.10214882e+01, ...,\n          1.14576099e-02, -1.32511348e-01, -4.00729895e-01],\n        [ 7.00000000e+01,  4.30390015e+01,  3.60128021e+01, ...,\n          8.72201264e-01, -4.99131292e-01,  5.24879158e-01],\n        ...,\n        [ 7.00000000e+01,  4.97408066e+01,  5.23091927e+01, ...,\n          7.36465394e-01,  6.18056118e-01, -8.34059179e-01],\n        [ 7.00000000e+01,  4.87860870e+01,  4.59601936e+01, ...,\n          9.54719603e-01,  6.34899914e-01, -6.62476063e-01],\n        [ 7.00000000e+01,  4.85915413e+01,  4.26677513e+01, ...,\n          1.94544166e-01,  3.29244107e-01, -1.99694365e-01]],\n\n       [[ 7.00000000e+01,  7.10437927e+01,  9.40584335e+01, ...,\n          4.68460411e-01, -6.91174567e-01, -6.09658182e-01],\n        [ 7.00000000e+01,  7.05620346e+01,  9.13028336e+01, ...,\n          4.81759161e-01,  2.75559485e-01, -9.77652192e-01],\n        [ 7.00000000e+01,  7.06376877e+01,  9.91878433e+01, ...,\n         -7.56537840e-02, -7.88500428e-01, -7.24706829e-01],\n        ...,\n        [ 7.00000000e+01,  6.62691956e+01,  7.68753204e+01, ...,\n         -4.63269383e-01, -5.20831384e-02,  4.79759462e-02],\n        [ 7.00000000e+01,  6.63841400e+01,  8.14773865e+01, ...,\n         -1.14940301e-01, -4.60206538e-01, -2.06951916e-01],\n        [ 7.00000000e+01,  6.54822464e+01,  8.48552856e+01, ...,\n          9.01893556e-01, -3.37789923e-01,  4.28442746e-01]],\n\n       [[ 7.00000000e+01,  4.18285904e+01,  6.36734085e+01, ...,\n          2.57416785e-01,  6.15747809e-01, -6.24944508e-01],\n        [ 7.00000000e+01,  4.18406677e+01,  5.79986458e+01, ...,\n         -1.20757436e-02,  5.67476273e-01, -6.21254802e-01],\n        [ 7.00000000e+01,  4.12820511e+01,  5.83396950e+01, ...,\n          5.58615327e-01, -3.41047645e-02, -8.13804388e-01],\n        ...,\n        [ 7.00000000e+01,  4.25648041e+01,  1.41983299e+01, ...,\n          4.36856061e-01,  8.14111650e-01, -5.81555367e-01],\n        [ 7.00000000e+01,  4.29036102e+01,  1.09771652e+01, ...,\n         -3.38807702e-01,  3.22116464e-01,  5.32279015e-01],\n        [ 7.00000000e+01,  4.36620636e+01,  1.57535100e+00, ...,\n         -7.58451700e-01,  9.40181434e-01, -9.09785986e-01]],\n\n       ...,\n\n       [[ 7.00000000e+01,  3.10174389e+01,  7.46447296e+01, ...,\n          3.38868976e-01,  8.53739798e-01,  3.66677374e-01],\n        [ 7.00000000e+01,  3.14191322e+01,  7.20859680e+01, ...,\n         -4.01693851e-01,  2.55876034e-01,  3.77079815e-01],\n        [ 7.00000000e+01,  3.07050724e+01,  8.02214050e+01, ...,\n          7.14059293e-01, -8.13544035e-01,  3.19810033e-01],\n        ...,\n        [ 7.00000000e+01,  3.45527534e+01,  3.83137589e+01, ...,\n          6.23171389e-01,  3.18357021e-01,  8.02027285e-01],\n        [ 7.00000000e+01,  3.46683388e+01,  4.80268402e+01, ...,\n         -1.15589030e-01, -9.71308231e-01,  3.34215850e-01],\n        [ 7.00000000e+01,  3.38833199e+01,  5.40388107e+01, ...,\n          7.85019457e-01, -6.01197124e-01,  7.70384729e-01]],\n\n       [[ 7.00000000e+01,  3.45941429e+01,  4.89808121e+01, ...,\n         -1.65889025e-01,  4.02120054e-02,  6.56509757e-01],\n        [ 7.00000000e+01,  3.41319504e+01,  5.32153320e+01, ...,\n          4.62192148e-01, -4.23451960e-01, -8.82856965e-01],\n        [ 7.00000000e+01,  3.40912895e+01,  4.60073128e+01, ...,\n          4.06633839e-02,  7.20802009e-01,  1.82516769e-01],\n        ...,\n        [ 7.00000000e+01,  3.08834686e+01,  4.20383224e+01, ...,\n          2.35250115e-01, -8.75100851e-01,  3.66496474e-01],\n        [ 7.00000000e+01,  3.05423565e+01,  5.10044289e+01, ...,\n          3.41111839e-01, -8.96610558e-01,  4.62423146e-01],\n        [ 7.00000000e+01,  2.97019386e+01,  5.17518730e+01, ...,\n          8.40417385e-01, -7.47445673e-02,  4.71736968e-01]],\n\n       [[ 7.00000000e+01,  6.05338821e+01,  7.85177231e+01, ...,\n          5.04773319e-01,  1.66436553e-01,  8.28759745e-02],\n        [ 7.00000000e+01,  5.96025047e+01,  8.14599304e+01, ...,\n          9.31376517e-01, -2.94221401e-01, -5.84312797e-01],\n        [ 7.00000000e+01,  6.03226547e+01,  7.39487381e+01, ...,\n         -7.20148265e-01,  7.51119316e-01,  9.49467480e-01],\n        ...,\n        [ 7.00000000e+01,  5.73309631e+01,  8.77009506e+01, ...,\n         -5.86630583e-01, -9.72705305e-01,  2.65075207e-01],\n        [ 7.00000000e+01,  5.69812279e+01,  8.39327850e+01, ...,\n          3.49734068e-01,  3.76816332e-01, -3.23338002e-01],\n        [ 7.00000000e+01,  5.64869499e+01,  9.21517258e+01, ...,\n          4.94276732e-01, -8.21893752e-01, -6.38841033e-01]]])"
     },
     "execution_count": 110,
     "metadata": {},
     "output_type": "execute_result"
    }
   ],
   "source": [
    "\n",
    "x_train,x_test,y_train,y_test=train_test_split(x,y,test_size=0.3)\n",
    "timesteps, data_dim = np.shape(x_train[0])\n",
    "x_test"
   ],
   "metadata": {
    "collapsed": false,
    "pycharm": {
     "name": "#%%\n"
    }
   }
  },
  {
   "cell_type": "code",
   "execution_count": 116,
   "outputs": [
    {
     "name": "stdout",
     "output_type": "stream",
     "text": [
      "Model: \"sequential_10\"\n",
      "_________________________________________________________________\n",
      " Layer (type)                Output Shape              Param #   \n",
      "=================================================================\n",
      " cu_dnnlstm_18 (CuDNNLSTM)   (None, 50, 128)           71168     \n",
      "                                                                 \n",
      " cu_dnnlstm_19 (CuDNNLSTM)   (None, 128)               132096    \n",
      "                                                                 \n",
      " dense_18 (Dense)            (None, 32)                4128      \n",
      "                                                                 \n",
      " dense_19 (Dense)            (None, 6)                 198       \n",
      "                                                                 \n",
      "=================================================================\n",
      "Total params: 207,590\n",
      "Trainable params: 207,590\n",
      "Non-trainable params: 0\n",
      "_________________________________________________________________\n"
     ]
    }
   ],
   "source": [
    "model = Sequential()\n",
    "\n",
    "model.add(CuDNNLSTM(128,input_shape=(timesteps, data_dim), return_sequences=True))\n",
    "model.add(CuDNNLSTM(128))\n",
    "model.add(Dense(32,activation='relu'))\n",
    "model.add(Dense(6,activation='relu'))\n",
    "model.compile(loss=['mean_squared_error'] , optimizer='adam', metrics=['accuracy'])\n",
    "model.build()\n",
    "model.summary()\n"
   ],
   "metadata": {
    "collapsed": false,
    "pycharm": {
     "name": "#%%\n"
    }
   }
  },
  {
   "cell_type": "code",
   "execution_count": 117,
   "outputs": [
    {
     "name": "stdout",
     "output_type": "stream",
     "text": [
      "Epoch 1/50\n",
      "26/26 [==============================] - 1s 10ms/step - loss: 16716.8691 - accuracy: 0.5764\n",
      "Epoch 2/50\n",
      "26/26 [==============================] - 0s 8ms/step - loss: 15227.6270 - accuracy: 0.7816\n",
      "Epoch 3/50\n",
      "26/26 [==============================] - 0s 8ms/step - loss: 13656.1025 - accuracy: 0.7816\n",
      "Epoch 4/50\n",
      "26/26 [==============================] - 0s 8ms/step - loss: 12117.2666 - accuracy: 0.7816\n",
      "Epoch 5/50\n",
      "26/26 [==============================] - 0s 8ms/step - loss: 10861.1338 - accuracy: 0.7816\n",
      "Epoch 6/50\n",
      "26/26 [==============================] - 0s 9ms/step - loss: 9982.7754 - accuracy: 0.7816\n",
      "Epoch 7/50\n",
      "26/26 [==============================] - 0s 8ms/step - loss: 9381.5537 - accuracy: 0.7816\n",
      "Epoch 8/50\n",
      "26/26 [==============================] - 0s 8ms/step - loss: 8952.4971 - accuracy: 0.7816\n",
      "Epoch 9/50\n",
      "26/26 [==============================] - 0s 8ms/step - loss: 8663.3486 - accuracy: 0.7816\n",
      "Epoch 10/50\n",
      "26/26 [==============================] - 0s 8ms/step - loss: 8500.8896 - accuracy: 0.7816\n",
      "Epoch 11/50\n",
      "26/26 [==============================] - 0s 8ms/step - loss: 8417.3184 - accuracy: 0.7816\n",
      "Epoch 12/50\n",
      "26/26 [==============================] - 0s 8ms/step - loss: 8383.0127 - accuracy: 0.7816\n",
      "Epoch 13/50\n",
      "26/26 [==============================] - 0s 8ms/step - loss: 8370.3066 - accuracy: 0.7816\n",
      "Epoch 14/50\n",
      "26/26 [==============================] - 0s 8ms/step - loss: 8366.2686 - accuracy: 0.7816\n",
      "Epoch 15/50\n",
      "26/26 [==============================] - 0s 8ms/step - loss: 8365.6709 - accuracy: 0.7816\n",
      "Epoch 16/50\n",
      "26/26 [==============================] - 0s 9ms/step - loss: 8365.0557 - accuracy: 0.7816\n",
      "Epoch 17/50\n",
      "26/26 [==============================] - 0s 8ms/step - loss: 8365.4004 - accuracy: 0.7816\n",
      "Epoch 18/50\n",
      "26/26 [==============================] - 0s 8ms/step - loss: 8364.9961 - accuracy: 0.7816\n",
      "Epoch 19/50\n",
      "26/26 [==============================] - 0s 8ms/step - loss: 8365.0713 - accuracy: 0.7816\n",
      "Epoch 20/50\n",
      "26/26 [==============================] - 0s 8ms/step - loss: 8364.9395 - accuracy: 0.7816\n",
      "Epoch 21/50\n",
      "26/26 [==============================] - 0s 8ms/step - loss: 8365.5938 - accuracy: 0.7816\n",
      "Epoch 22/50\n",
      "26/26 [==============================] - 0s 8ms/step - loss: 8365.0127 - accuracy: 0.7816\n",
      "Epoch 23/50\n",
      "26/26 [==============================] - 0s 8ms/step - loss: 8365.7529 - accuracy: 0.7816\n",
      "Epoch 24/50\n",
      "26/26 [==============================] - 0s 8ms/step - loss: 8365.0361 - accuracy: 0.7816\n",
      "Epoch 25/50\n",
      "26/26 [==============================] - 0s 8ms/step - loss: 8365.6006 - accuracy: 0.7816\n",
      "Epoch 26/50\n",
      "26/26 [==============================] - 0s 8ms/step - loss: 8365.0693 - accuracy: 0.7816\n",
      "Epoch 27/50\n",
      "26/26 [==============================] - 0s 8ms/step - loss: 8365.4160 - accuracy: 0.7816\n",
      "Epoch 28/50\n",
      "26/26 [==============================] - 0s 8ms/step - loss: 8365.3008 - accuracy: 0.7816\n",
      "Epoch 29/50\n",
      "26/26 [==============================] - 0s 8ms/step - loss: 8365.2871 - accuracy: 0.7816\n",
      "Epoch 30/50\n",
      "26/26 [==============================] - 0s 9ms/step - loss: 8364.9434 - accuracy: 0.7816\n",
      "Epoch 31/50\n",
      "26/26 [==============================] - 0s 8ms/step - loss: 8365.0342 - accuracy: 0.7816\n",
      "Epoch 32/50\n",
      "26/26 [==============================] - 0s 8ms/step - loss: 8365.9443 - accuracy: 0.7816\n",
      "Epoch 33/50\n",
      "26/26 [==============================] - 0s 8ms/step - loss: 8365.2979 - accuracy: 0.7816\n",
      "Epoch 34/50\n",
      "26/26 [==============================] - 0s 8ms/step - loss: 8365.9365 - accuracy: 0.7816\n",
      "Epoch 35/50\n",
      "26/26 [==============================] - 0s 8ms/step - loss: 8365.1719 - accuracy: 0.7816\n",
      "Epoch 36/50\n",
      "26/26 [==============================] - 0s 9ms/step - loss: 8365.2109 - accuracy: 0.7816\n",
      "Epoch 37/50\n",
      "26/26 [==============================] - 0s 9ms/step - loss: 8365.2070 - accuracy: 0.7816\n",
      "Epoch 38/50\n",
      "26/26 [==============================] - 0s 8ms/step - loss: 8366.0791 - accuracy: 0.7816\n",
      "Epoch 39/50\n",
      "26/26 [==============================] - 0s 8ms/step - loss: 8365.5254 - accuracy: 0.7816\n",
      "Epoch 40/50\n",
      "26/26 [==============================] - 0s 9ms/step - loss: 8364.9121 - accuracy: 0.7816\n",
      "Epoch 41/50\n",
      "26/26 [==============================] - 0s 8ms/step - loss: 8365.4502 - accuracy: 0.7816\n",
      "Epoch 42/50\n",
      "26/26 [==============================] - 0s 8ms/step - loss: 8365.3125 - accuracy: 0.7816\n",
      "Epoch 43/50\n",
      "26/26 [==============================] - 0s 8ms/step - loss: 8365.9023 - accuracy: 0.7816\n",
      "Epoch 44/50\n",
      "26/26 [==============================] - 0s 8ms/step - loss: 8365.4404 - accuracy: 0.7816\n",
      "Epoch 45/50\n",
      "26/26 [==============================] - 0s 8ms/step - loss: 8365.4795 - accuracy: 0.7816\n",
      "Epoch 46/50\n",
      "26/26 [==============================] - 0s 8ms/step - loss: 8365.0791 - accuracy: 0.7816\n",
      "Epoch 47/50\n",
      "26/26 [==============================] - 0s 8ms/step - loss: 8365.6006 - accuracy: 0.7816\n",
      "Epoch 48/50\n",
      "26/26 [==============================] - 0s 8ms/step - loss: 8365.0908 - accuracy: 0.7816\n",
      "Epoch 49/50\n",
      "26/26 [==============================] - 0s 8ms/step - loss: 8365.6055 - accuracy: 0.7816\n",
      "Epoch 50/50\n",
      "26/26 [==============================] - 0s 8ms/step - loss: 8365.4570 - accuracy: 0.7816\n"
     ]
    }
   ],
   "source": [
    "history = model.fit(x_train, y_train, epochs=50, batch_size=256)\n"
   ],
   "metadata": {
    "collapsed": false,
    "pycharm": {
     "name": "#%%\n"
    }
   }
  },
  {
   "cell_type": "code",
   "execution_count": null,
   "outputs": [],
   "source": [],
   "metadata": {
    "collapsed": false,
    "pycharm": {
     "name": "#%%\n"
    }
   }
  }
 ],
 "metadata": {
  "kernelspec": {
   "display_name": "Python 3",
   "language": "python",
   "name": "python3"
  },
  "language_info": {
   "codemirror_mode": {
    "name": "ipython",
    "version": 2
   },
   "file_extension": ".py",
   "mimetype": "text/x-python",
   "name": "python",
   "nbconvert_exporter": "python",
   "pygments_lexer": "ipython2",
   "version": "2.7.6"
  }
 },
 "nbformat": 4,
 "nbformat_minor": 0
}