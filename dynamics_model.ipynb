{
 "cells": [
  {
   "cell_type": "code",
   "execution_count": 1,
   "metadata": {
    "pycharm": {
     "name": "#%%\n"
    }
   },
   "outputs": [],
   "source": [
    "import h5py\n",
    "import keras\n",
    "import numpy as np\n",
    "from keras.models import Sequential, Model\n",
    "from keras.layers import Dense, Input\n",
    "from keras.layers import LSTM, CuDNNLSTM\n",
    "from keras.optimizers import Adam\n",
    "from keras.layers import Activation\n",
    "import tensorflow as tf\n",
    "import pandas as pd\n",
    "\n",
    "import matplotlib.pyplot as plt\n",
    "\n",
    "\n"
   ]
  },
  {
   "cell_type": "markdown",
   "metadata": {
    "pycharm": {
     "name": "#%% md\n"
    }
   },
   "source": [
    "## Load Data from file"
   ]
  },
  {
   "cell_type": "code",
   "execution_count": 2,
   "metadata": {
    "pycharm": {
     "name": "#%%\n"
    }
   },
   "outputs": [
    {
     "name": "stdout",
     "output_type": "stream",
     "text": [
      "<class 'numpy.ndarray'>\n"
     ]
    }
   ],
   "source": [
    "# def load_hdf_dataset(file_path, h5_key, input_key, output_key):\n",
    "#     df = pd.read_hdf(file_path, h5_key)\n",
    "#     x = np.array(df[[input_key]].to_numpy())\n",
    "#     y = np.array(df[[output_key]].to_numpy())\n",
    "#     x = np.array([np.array(row[0]) for row in x])\n",
    "#     y = np.array([np.array(row[0]) for row in y])\n",
    "#     return x, y\n",
    "# h5_key = 'ib-samples'\n",
    "# dataset_input_key = 'merged_input'\n",
    "# dataset_output_key = 'merged_output'\n",
    "# dataset_file_path = 'tmp/ib-out/ib-samples.h5'\n",
    "\n",
    "def load_hdf_dataset(file_path, h5_key, input_key, output_key):\n",
    "    #hf = h5py.File(file_path, 'r')\n",
    "    dataset = np.load(file_path, allow_pickle=True)\n",
    "    print(type(dataset))\n",
    "    x = dataset[()][input_key]\n",
    "    #x = np.array([np.array(row[0]) for row in x])\n",
    "\n",
    "    y = dataset[()][output_key]\n",
    "    #y = np.array([np.array(row[0]) for row in y])\n",
    "\n",
    "    #hf.close()\n",
    "    return x, y\n",
    "h5_key = 'ib-samples'\n",
    "dataset_input_key = 'merged_input'\n",
    "dataset_output_key = 'merged_output'\n",
    "dataset_file_path = 'tmp/ib-out/ib-samples.npy'\n",
    "\n",
    "x, y = load_hdf_dataset(file_path=dataset_file_path, h5_key=h5_key, input_key=dataset_input_key, output_key= dataset_output_key)\n"
   ]
  },
  {
   "cell_type": "code",
   "execution_count": 3,
   "metadata": {
    "pycharm": {
     "name": "#%%\n"
    }
   },
   "outputs": [
    {
     "data": {
      "text/plain": "2093040000"
     },
     "execution_count": 3,
     "metadata": {},
     "output_type": "execute_result"
    }
   ],
   "source": [
    "from sys import getsizeof\n",
    "\n",
    "x.nbytes"
   ]
  },
  {
   "cell_type": "markdown",
   "metadata": {
    "pycharm": {
     "name": "#%% md\n"
    }
   },
   "source": [
    "## Create Dataset"
   ]
  },
  {
   "cell_type": "code",
   "execution_count": 4,
   "metadata": {
    "pycharm": {
     "name": "#%%\n"
    }
   },
   "outputs": [],
   "source": [
    "\n",
    "timesteps, data_dim = np.shape(x[0])"
   ]
  },
  {
   "cell_type": "code",
   "execution_count": 5,
   "outputs": [
    {
     "name": "stdout",
     "output_type": "stream",
     "text": [
      "WARNING:tensorflow:Layer lstm will not use cuDNN kernels since it doesn't meet the criteria. It will use a generic GPU kernel as fallback when running on GPU.\n"
     ]
    },
    {
     "name": "stderr",
     "output_type": "stream",
     "text": [
      "2022-08-09 16:45:09.974528: I tensorflow/stream_executor/cuda/cuda_gpu_executor.cc:975] successful NUMA node read from SysFS had negative value (-1), but there must be at least one NUMA node, so returning NUMA node zero\n",
      "2022-08-09 16:45:10.022454: I tensorflow/stream_executor/cuda/cuda_gpu_executor.cc:975] successful NUMA node read from SysFS had negative value (-1), but there must be at least one NUMA node, so returning NUMA node zero\n",
      "2022-08-09 16:45:10.022653: I tensorflow/stream_executor/cuda/cuda_gpu_executor.cc:975] successful NUMA node read from SysFS had negative value (-1), but there must be at least one NUMA node, so returning NUMA node zero\n",
      "2022-08-09 16:45:10.023954: I tensorflow/core/platform/cpu_feature_guard.cc:193] This TensorFlow binary is optimized with oneAPI Deep Neural Network Library (oneDNN) to use the following CPU instructions in performance-critical operations:  AVX2 FMA\n",
      "To enable them in other operations, rebuild TensorFlow with the appropriate compiler flags.\n",
      "2022-08-09 16:45:10.025066: I tensorflow/stream_executor/cuda/cuda_gpu_executor.cc:975] successful NUMA node read from SysFS had negative value (-1), but there must be at least one NUMA node, so returning NUMA node zero\n",
      "2022-08-09 16:45:10.025230: I tensorflow/stream_executor/cuda/cuda_gpu_executor.cc:975] successful NUMA node read from SysFS had negative value (-1), but there must be at least one NUMA node, so returning NUMA node zero\n",
      "2022-08-09 16:45:10.025354: I tensorflow/stream_executor/cuda/cuda_gpu_executor.cc:975] successful NUMA node read from SysFS had negative value (-1), but there must be at least one NUMA node, so returning NUMA node zero\n",
      "2022-08-09 16:45:10.601823: I tensorflow/stream_executor/cuda/cuda_gpu_executor.cc:975] successful NUMA node read from SysFS had negative value (-1), but there must be at least one NUMA node, so returning NUMA node zero\n",
      "2022-08-09 16:45:10.601982: I tensorflow/stream_executor/cuda/cuda_gpu_executor.cc:975] successful NUMA node read from SysFS had negative value (-1), but there must be at least one NUMA node, so returning NUMA node zero\n",
      "2022-08-09 16:45:10.602103: I tensorflow/stream_executor/cuda/cuda_gpu_executor.cc:975] successful NUMA node read from SysFS had negative value (-1), but there must be at least one NUMA node, so returning NUMA node zero\n",
      "2022-08-09 16:45:10.602301: I tensorflow/core/common_runtime/gpu/gpu_device.cc:1532] Created device /job:localhost/replica:0/task:0/device:GPU:0 with 3662 MB memory:  -> device: 0, name: NVIDIA GeForce RTX 3060 Laptop GPU, pci bus id: 0000:01:00.0, compute capability: 8.6\n"
     ]
    },
    {
     "name": "stdout",
     "output_type": "stream",
     "text": [
      "Model: \"model\"\n",
      "_________________________________________________________________\n",
      " Layer (type)                Output Shape              Param #   \n",
      "=================================================================\n",
      " input_1 (InputLayer)        [(None, 30, 9)]           0         \n",
      "                                                                 \n",
      " lstm (LSTM)                 (None, 30, 32)            5376      \n",
      "                                                                 \n",
      " dense (Dense)               (None, 30, 6)             198       \n",
      "                                                                 \n",
      "=================================================================\n",
      "Total params: 5,574\n",
      "Trainable params: 5,574\n",
      "Non-trainable params: 0\n",
      "_________________________________________________________________\n"
     ]
    }
   ],
   "source": [
    "\n",
    "\n",
    "def create_model():\n",
    "\n",
    "    dynamic_model_input_layer = Input(shape=(timesteps, data_dim))\n",
    "    dynamic_model_lstm_layer = LSTM(32,return_state=False,return_sequences=True, activation=\"sigmoid\", dropout=0.3)(dynamic_model_input_layer)\n",
    "    dynamic_model_dense_layer = Dense(y.shape[2],activation=\"relu\")(dynamic_model_lstm_layer)\n",
    "    model = Model(inputs=dynamic_model_input_layer, outputs=dynamic_model_dense_layer)\n",
    "    model.compile(loss=['mean_squared_error'] , optimizer=Adam(0.001))\n",
    "    #model.build()\n",
    "    model.summary()\n",
    "    return model\n",
    "model = create_model()"
   ],
   "metadata": {
    "collapsed": false,
    "pycharm": {
     "name": "#%%\n"
    }
   }
  },
  {
   "cell_type": "code",
   "execution_count": 6,
   "outputs": [],
   "source": [
    "def scheduler(epoch, lr):\n",
    "  if epoch == 200:\n",
    "    return lr*0.1\n",
    "  else:\n",
    "      return lr\n",
    "\n",
    "lr_callback = tf.keras.callbacks.LearningRateScheduler(scheduler)"
   ],
   "metadata": {
    "collapsed": false,
    "pycharm": {
     "name": "#%%\n"
    }
   }
  },
  {
   "cell_type": "code",
   "execution_count": null,
   "outputs": [
    {
     "name": "stderr",
     "output_type": "stream",
     "text": [
      "2022-08-09 16:45:16.911861: W tensorflow/core/framework/cpu_allocator_impl.cc:82] Allocation of 732564000 exceeds 10% of free system memory.\n",
      "2022-08-09 16:45:17.310168: W tensorflow/core/framework/cpu_allocator_impl.cc:82] Allocation of 732564000 exceeds 10% of free system memory.\n"
     ]
    },
    {
     "name": "stdout",
     "output_type": "stream",
     "text": [
      "Epoch 1/1000\n",
      "  5/166 [..............................] - ETA: 4s - loss: 13297.7402"
     ]
    },
    {
     "name": "stderr",
     "output_type": "stream",
     "text": [
      "2022-08-09 16:45:19.232298: I tensorflow/stream_executor/cuda/cuda_blas.cc:1786] TensorFloat-32 will be used for the matrix multiplication. This will only be logged once.\n"
     ]
    },
    {
     "name": "stdout",
     "output_type": "stream",
     "text": [
      "165/166 [============================>.] - ETA: 0s - loss: 12688.5664"
     ]
    },
    {
     "name": "stderr",
     "output_type": "stream",
     "text": [
      "2022-08-09 16:45:23.377698: W tensorflow/core/framework/cpu_allocator_impl.cc:82] Allocation of 313956000 exceeds 10% of free system memory.\n",
      "2022-08-09 16:45:23.542277: W tensorflow/core/framework/cpu_allocator_impl.cc:82] Allocation of 313956000 exceeds 10% of free system memory.\n"
     ]
    },
    {
     "name": "stdout",
     "output_type": "stream",
     "text": [
      "166/166 [==============================] - 7s 31ms/step - loss: 12685.9971 - val_loss: 12731.7480 - lr: 0.0010\n",
      "Epoch 2/1000\n",
      "166/166 [==============================] - 5s 27ms/step - loss: 11876.6807 - val_loss: 11973.3027 - lr: 0.0010\n",
      "Epoch 3/1000\n",
      "166/166 [==============================] - 5s 28ms/step - loss: 11195.7109 - val_loss: 11375.5605 - lr: 0.0010\n",
      "Epoch 4/1000\n",
      "166/166 [==============================] - 5s 27ms/step - loss: 10665.1699 - val_loss: 10876.8652 - lr: 0.0010\n",
      "Epoch 5/1000\n",
      "166/166 [==============================] - 5s 27ms/step - loss: 10205.1299 - val_loss: 10434.9297 - lr: 0.0010\n",
      "Epoch 6/1000\n",
      "166/166 [==============================] - 5s 27ms/step - loss: 9794.8799 - val_loss: 10037.5352 - lr: 0.0010\n",
      "Epoch 7/1000\n",
      "166/166 [==============================] - 4s 27ms/step - loss: 9423.8633 - val_loss: 9656.3076 - lr: 0.0010\n",
      "Epoch 8/1000\n",
      "166/166 [==============================] - 5s 27ms/step - loss: 9045.9717 - val_loss: 9288.8672 - lr: 0.0010\n",
      "Epoch 9/1000\n",
      "166/166 [==============================] - 5s 27ms/step - loss: 8718.0010 - val_loss: 8974.2822 - lr: 0.0010\n",
      "Epoch 10/1000\n",
      "166/166 [==============================] - 4s 27ms/step - loss: 8428.5830 - val_loss: 8691.0479 - lr: 0.0010\n",
      "Epoch 11/1000\n",
      "166/166 [==============================] - 5s 27ms/step - loss: 8166.9146 - val_loss: 8432.7822 - lr: 0.0010\n",
      "Epoch 12/1000\n",
      "166/166 [==============================] - 5s 27ms/step - loss: 7927.8579 - val_loss: 8195.2900 - lr: 0.0010\n",
      "Epoch 13/1000\n",
      "166/166 [==============================] - 4s 27ms/step - loss: 7707.8623 - val_loss: 7975.2930 - lr: 0.0010\n",
      "Epoch 14/1000\n",
      "166/166 [==============================] - 5s 27ms/step - loss: 7504.1099 - val_loss: 7770.5010 - lr: 0.0010\n",
      "Epoch 15/1000\n",
      "166/166 [==============================] - 5s 27ms/step - loss: 7314.3076 - val_loss: 7578.7266 - lr: 0.0010\n",
      "Epoch 16/1000\n",
      "166/166 [==============================] - 5s 27ms/step - loss: 7136.5815 - val_loss: 7398.3540 - lr: 0.0010\n",
      "Epoch 17/1000\n",
      "166/166 [==============================] - 5s 28ms/step - loss: 6969.4507 - val_loss: 7227.9702 - lr: 0.0010\n",
      "Epoch 18/1000\n",
      "166/166 [==============================] - 5s 30ms/step - loss: 6811.7007 - val_loss: 7066.4746 - lr: 0.0010\n",
      "Epoch 19/1000\n",
      "166/166 [==============================] - 5s 29ms/step - loss: 6662.3701 - val_loss: 6913.1797 - lr: 0.0010\n",
      "Epoch 20/1000\n",
      "166/166 [==============================] - 5s 27ms/step - loss: 6520.7197 - val_loss: 6767.1260 - lr: 0.0010\n",
      "Epoch 21/1000\n",
      "166/166 [==============================] - 5s 28ms/step - loss: 6386.1157 - val_loss: 6628.1445 - lr: 0.0010\n",
      "Epoch 22/1000\n",
      "166/166 [==============================] - 5s 28ms/step - loss: 6258.0771 - val_loss: 6495.5952 - lr: 0.0010\n",
      "Epoch 23/1000\n",
      "166/166 [==============================] - 5s 28ms/step - loss: 6136.2314 - val_loss: 6369.0605 - lr: 0.0010\n",
      "Epoch 24/1000\n",
      "166/166 [==============================] - 5s 28ms/step - loss: 6020.2729 - val_loss: 6248.3691 - lr: 0.0010\n",
      "Epoch 25/1000\n",
      "166/166 [==============================] - 5s 29ms/step - loss: 5909.9463 - val_loss: 6133.2769 - lr: 0.0010\n",
      "Epoch 26/1000\n",
      "166/166 [==============================] - 5s 28ms/step - loss: 5805.0410 - val_loss: 6023.4956 - lr: 0.0010\n",
      "Epoch 27/1000\n",
      "166/166 [==============================] - 5s 27ms/step - loss: 5705.3857 - val_loss: 5919.0889 - lr: 0.0010\n",
      "Epoch 28/1000\n",
      "166/166 [==============================] - 5s 27ms/step - loss: 5610.8247 - val_loss: 5819.7178 - lr: 0.0010\n",
      "Epoch 29/1000\n",
      "166/166 [==============================] - 5s 28ms/step - loss: 5521.2290 - val_loss: 5725.3799 - lr: 0.0010\n",
      "Epoch 30/1000\n",
      "166/166 [==============================] - 5s 27ms/step - loss: 5436.4941 - val_loss: 5635.8853 - lr: 0.0010\n",
      "Epoch 31/1000\n",
      "166/166 [==============================] - 5s 27ms/step - loss: 5356.4897 - val_loss: 5551.1533 - lr: 0.0010\n",
      "Epoch 32/1000\n",
      "166/166 [==============================] - 5s 27ms/step - loss: 5281.1411 - val_loss: 5471.1289 - lr: 0.0010\n",
      "Epoch 33/1000\n",
      "166/166 [==============================] - 5s 28ms/step - loss: 5210.3516 - val_loss: 5395.7026 - lr: 0.0010\n",
      "Epoch 34/1000\n",
      "166/166 [==============================] - 4s 27ms/step - loss: 5143.9985 - val_loss: 5324.7988 - lr: 0.0010\n",
      "Epoch 35/1000\n",
      "166/166 [==============================] - 5s 27ms/step - loss: 5081.9995 - val_loss: 5258.2041 - lr: 0.0010\n",
      "Epoch 36/1000\n",
      "166/166 [==============================] - 5s 27ms/step - loss: 5024.2393 - val_loss: 5195.9521 - lr: 0.0010\n",
      "Epoch 37/1000\n",
      "166/166 [==============================] - 4s 27ms/step - loss: 4970.6431 - val_loss: 5137.9038 - lr: 0.0010\n",
      "Epoch 38/1000\n",
      "166/166 [==============================] - 5s 28ms/step - loss: 4921.0762 - val_loss: 5083.9717 - lr: 0.0010\n",
      "Epoch 39/1000\n",
      "166/166 [==============================] - 5s 28ms/step - loss: 4875.4277 - val_loss: 5034.0015 - lr: 0.0010\n",
      "Epoch 40/1000\n",
      "166/166 [==============================] - 5s 28ms/step - loss: 4833.5757 - val_loss: 4987.8525 - lr: 0.0010\n",
      "Epoch 41/1000\n",
      "166/166 [==============================] - 5s 28ms/step - loss: 4795.3945 - val_loss: 4945.5342 - lr: 0.0010\n",
      "Epoch 42/1000\n",
      "166/166 [==============================] - 5s 28ms/step - loss: 4760.7227 - val_loss: 4906.7554 - lr: 0.0010\n",
      "Epoch 43/1000\n",
      "166/166 [==============================] - 5s 27ms/step - loss: 4729.4360 - val_loss: 4871.4429 - lr: 0.0010\n",
      "Epoch 44/1000\n",
      "166/166 [==============================] - 5s 28ms/step - loss: 4701.3809 - val_loss: 4839.4287 - lr: 0.0010\n",
      "Epoch 45/1000\n",
      "166/166 [==============================] - 5s 28ms/step - loss: 4676.4312 - val_loss: 4810.6548 - lr: 0.0010\n",
      "Epoch 46/1000\n",
      "166/166 [==============================] - 5s 28ms/step - loss: 4654.4082 - val_loss: 4784.8828 - lr: 0.0010\n",
      "Epoch 47/1000\n",
      "166/166 [==============================] - 5s 27ms/step - loss: 4635.1216 - val_loss: 4762.0010 - lr: 0.0010\n",
      "Epoch 48/1000\n",
      "166/166 [==============================] - 5s 28ms/step - loss: 4618.3970 - val_loss: 4741.7544 - lr: 0.0010\n",
      "Epoch 49/1000\n",
      "166/166 [==============================] - 5s 28ms/step - loss: 4604.0669 - val_loss: 4724.0439 - lr: 0.0010\n",
      "Epoch 50/1000\n",
      "166/166 [==============================] - 5s 28ms/step - loss: 4591.9307 - val_loss: 4708.6660 - lr: 0.0010\n",
      "Epoch 51/1000\n",
      "166/166 [==============================] - 5s 28ms/step - loss: 4574.3032 - val_loss: 4675.6553 - lr: 0.0010\n",
      "Epoch 52/1000\n",
      "131/166 [======================>.......] - ETA: 0s - loss: 4540.6597"
     ]
    }
   ],
   "source": [
    "history = model.fit(x, y, epochs=1000, batch_size=4096, validation_split=0.3, callbacks=[lr_callback])\n"
   ],
   "metadata": {
    "collapsed": false,
    "pycharm": {
     "name": "#%%\n",
     "is_executing": true
    }
   }
  },
  {
   "cell_type": "code",
   "execution_count": 12,
   "outputs": [
    {
     "data": {
      "text/plain": "<Figure size 432x288 with 1 Axes>",
      "image/png": "[encoded data removed]"
     },
     "metadata": {
      "needs_background": "light"
     },
     "output_type": "display_data"
    }
   ],
   "source": [
    "plt.plot(history.history['loss'])\n",
    "plt.plot(history.history['val_loss'])\n",
    "plt.title('model loss')\n",
    "plt.ylabel('loss')\n",
    "plt.xlabel('epoch')\n",
    "plt.legend(['train', 'val'], loc='upper left')\n",
    "plt.show()"
   ],
   "metadata": {
    "collapsed": false,
    "pycharm": {
     "name": "#%%\n"
    }
   }
  },
  {
   "cell_type": "code",
   "execution_count": 13,
   "metadata": {
    "pycharm": {
     "name": "#%%\n"
    }
   },
   "outputs": [],
   "source": [
    "model_path = 'dynamic_model/model.h5'\n",
    "model.save(model_path)"
   ]
  },
  {
   "cell_type": "code",
   "execution_count": 14,
   "metadata": {
    "pycharm": {
     "name": "#%%\n"
    }
   },
   "outputs": [],
   "source": [
    "del model"
   ]
  },
  {
   "cell_type": "code",
   "execution_count": 15,
   "metadata": {
    "pycharm": {
     "name": "#%%\n"
    }
   },
   "outputs": [
    {
     "name": "stdout",
     "output_type": "stream",
     "text": [
      "WARNING:tensorflow:Layer lstm_2 will not use cuDNN kernels since it doesn't meet the criteria. It will use a generic GPU kernel as fallback when running on GPU.\n"
     ]
    }
   ],
   "source": [
    "model = keras.models.load_model(model_path)"
   ]
  },
  {
   "cell_type": "code",
   "execution_count": 16,
   "metadata": {
    "pycharm": {
     "name": "#%%\n"
    }
   },
   "outputs": [
    {
     "data": {
      "text/plain": "(50, 9)"
     },
     "execution_count": 16,
     "metadata": {},
     "output_type": "execute_result"
    }
   ],
   "source": [
    "x[0].shape"
   ]
  },
  {
   "cell_type": "code",
   "execution_count": 17,
   "metadata": {
    "pycharm": {
     "name": "#%%\n"
    }
   },
   "outputs": [
    {
     "name": "stdout",
     "output_type": "stream",
     "text": [
      "1/1 [==============================] - 0s 133ms/step\n"
     ]
    }
   ],
   "source": [
    "model_out = model.predict(np.array( [x[0],]))"
   ]
  },
  {
   "cell_type": "code",
   "execution_count": 18,
   "metadata": {
    "pycharm": {
     "name": "#%%\n"
    }
   },
   "outputs": [
    {
     "data": {
      "text/plain": "array([[[ 59.556736,  45.9887  ,  45.952644,  41.408707,  30.613796,\n         187.69664 ],\n        [ 66.90298 ,  48.37886 ,  47.142582,  46.704887,  35.212883,\n         205.06093 ],\n        [ 68.07765 ,  47.74941 ,  45.17911 ,  47.304714,  36.51204 ,\n         205.03647 ],\n        [ 68.01684 ,  47.343887,  44.62164 ,  47.205624,  36.53473 ,\n         205.23775 ],\n        [ 68.080124,  47.264847,  44.491756,  47.216537,  36.588535,\n         205.53206 ],\n        [ 67.85164 ,  46.880005,  43.94869 ,  47.038513,  36.54833 ,\n         204.3767  ],\n        [ 67.89721 ,  46.967503,  44.109955,  47.049393,  36.539173,\n         204.82027 ],\n        [ 68.17695 ,  47.09811 ,  44.187977,  47.234234,  36.730316,\n         205.23563 ],\n        [ 67.898705,  46.93158 ,  44.085644,  46.971485,  36.53098 ,\n         205.09624 ],\n        [ 68.297035,  47.39185 ,  44.764038,  47.23934 ,  36.637833,\n         206.9762  ],\n        [ 68.58186 ,  47.428234,  44.57995 ,  47.40869 ,  36.9167  ,\n         206.78642 ],\n        [ 68.563644,  47.28882 ,  44.340504,  47.398438,  36.95737 ,\n         206.29956 ],\n        [ 68.51396 ,  47.243282,  44.29165 ,  47.356354,  36.93562 ,\n         206.16821 ],\n        [ 68.660965,  47.347187,  44.388916,  47.45283 ,  37.023888,\n         206.49341 ],\n        [ 68.961296,  47.678696,  44.8629  ,  47.6591  ,  37.119793,\n         207.78949 ],\n        [ 68.45701 ,  47.067352,  43.9822  ,  47.309948,  36.979046,\n         205.47365 ],\n        [ 68.21803 ,  46.88557 ,  43.808582,  47.15016 ,  36.83686 ,\n         204.93039 ],\n        [ 68.45362 ,  47.211594,  44.289093,  47.30609 ,  36.890793,\n         206.15492 ],\n        [ 68.89239 ,  47.696342,  44.96437 ,  47.609585,  37.041435,\n         207.98247 ],\n        [ 69.19156 ,  48.027313,  45.41448 ,  47.8117  ,  37.14959 ,\n         209.19835 ],\n        [ 68.70907 ,  47.332184,  44.296467,  47.456657,  37.097435,\n         206.36533 ],\n        [ 68.24466 ,  47.093163,  44.210472,  47.14802 ,  36.745   ,\n         205.89638 ],\n        [ 68.20535 ,  47.05734 ,  44.16921 ,  47.10738 ,  36.72482 ,\n         205.82826 ],\n        [ 69.060104,  47.695263,  44.848392,  47.680416,  37.196556,\n         208.0136  ],\n        [ 68.6952  ,  47.238445,  44.16618 ,  47.427532,  37.105534,\n         206.23395 ],\n        [ 68.379135,  47.143772,  44.22817 ,  47.211884,  36.841156,\n         206.1485  ],\n        [ 68.59338 ,  47.19164 ,  44.13628 ,  47.348007,  37.038643,\n         206.09985 ],\n        [ 68.30091 ,  47.109203,  44.1904  ,  47.14156 ,  36.795937,\n         206.02362 ],\n        [ 68.59327 ,  47.24518 ,  44.212242,  47.327396,  37.024693,\n         206.28044 ],\n        [ 68.67946 ,  47.514057,  44.698948,  47.37778 ,  36.961014,\n         207.4273  ],\n        [ 69.34155 ,  48.008324,  45.158554,  47.80593 ,  37.364788,\n         208.90529 ],\n        [ 69.721375,  48.49931 ,  45.897854,  48.050335,  37.46277 ,\n         210.8393  ],\n        [ 69.58676 ,  48.170143,  45.275944,  47.952385,  37.529434,\n         209.36217 ],\n        [ 69.60927 ,  48.2048  ,  45.331783,  47.96051 ,  37.534798,\n         209.50963 ],\n        [ 69.56126 ,  48.063606,  45.073215,  47.93464 ,  37.56664 ,\n         208.90329 ],\n        [ 69.038605,  47.599045,  44.539837,  47.596107,  37.29722 ,\n         207.34988 ],\n        [ 68.619705,  47.42227 ,  44.51375 ,  47.31217 ,  36.97263 ,\n         207.0023  ],\n        [ 69.078316,  47.96855 ,  45.29544 ,  47.605156,  37.117306,\n         209.09901 ],\n        [ 68.88231 ,  47.561443,  44.559128,  47.47077 ,  37.170956,\n         207.30592 ],\n        [ 69.051   ,  47.808434,  44.91999 ,  47.569874,  37.214207,\n         208.2116  ],\n        [ 69.18571 ,  47.91205 ,  45.023605,  47.655907,  37.292046,\n         208.55144 ],\n        [ 69.49121 ,  48.22163 ,  45.43469 ,  47.855072,  37.419712,\n         209.7062  ],\n        [ 68.71245 ,  47.49532 ,  44.557587,  47.346348,  37.03729 ,\n         207.22389 ],\n        [ 69.22559 ,  48.113647,  45.44589 ,  47.670437,  37.202835,\n         209.58672 ],\n        [ 69.24169 ,  48.261677,  45.75561 ,  47.67887 ,  37.128937,\n         210.30794 ],\n        [ 69.78157 ,  48.546173,  45.907085,  48.032463,  37.505463,\n         211.07274 ],\n        [ 70.26032 ,  48.770683,  45.995163,  48.34369 ,  37.860798,\n         211.63522 ],\n        [ 69.82826 ,  48.353943,  45.461636,  48.05392 ,  37.66888 ,\n         210.1346  ],\n        [ 69.20984 ,  47.774815,  44.778072,  47.659714,  37.35718 ,\n         208.19379 ],\n        [ 69.40218 ,  47.771454,  44.622818,  47.794376,  37.549347,\n         208.00131 ]]], dtype=float32)"
     },
     "execution_count": 18,
     "metadata": {},
     "output_type": "execute_result"
    }
   ],
   "source": [
    "model_out"
   ]
  },
  {
   "cell_type": "code",
   "execution_count": 19,
   "metadata": {
    "pycharm": {
     "name": "#%%\n"
    }
   },
   "outputs": [
    {
     "data": {
      "text/plain": "array([[ 70.        ,  53.13349533,  47.59637451,  25.29466057,\n         21.47506332, 155.36943054]])"
     },
     "execution_count": 19,
     "metadata": {},
     "output_type": "execute_result"
    }
   ],
   "source": [
    "y[0]"
   ]
  },
  {
   "cell_type": "code",
   "execution_count": null,
   "outputs": [],
   "source": [],
   "metadata": {
    "collapsed": false,
    "pycharm": {
     "name": "#%%\n"
    }
   }
  }
 ],
 "metadata": {
  "kernelspec": {
   "display_name": "Python 3 (ipykernel)",
   "language": "python",
   "name": "python3"
  },
  "language_info": {
   "codemirror_mode": {
    "name": "ipython",
    "version": 3
   },
   "file_extension": ".py",
   "mimetype": "text/x-python",
   "name": "python",
   "nbconvert_exporter": "python",
   "pygments_lexer": "ipython3",
   "version": "3.8.10"
  }
 },
 "nbformat": 4,
 "nbformat_minor": 1
}