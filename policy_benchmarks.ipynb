{
 "cells": [
  {
   "cell_type": "code",
   "execution_count": 1,
   "metadata": {
    "collapsed": true
   },
   "outputs": [],
   "source": [
    "import matplotlib.pyplot as plt\n",
    "from q_learning.algorithm import QLPolicy\n",
    "from envs.env_creator import env_creator\n",
    "from base_rl.eval_policy import EvalDiscreteStatePolicy\n",
    "from glob import glob\n",
    "import pandas as pd\n"
   ]
  },
  {
   "cell_type": "code",
   "execution_count": 2,
   "outputs": [],
   "source": [
    "plt.rcParams[\"figure.figsize\"] = [20, 12]"
   ],
   "metadata": {
    "collapsed": false
   }
  },
  {
   "cell_type": "code",
   "execution_count": 3,
   "outputs": [],
   "source": [
    "\n",
    "device = 'cuda'\n",
    "steps_per_episode = 1000\n",
    "model_names = ['model_aeq-20bits4', 'model_aeq-20bits4emb']\n",
    "experiment_id = '973479'\n",
    "experiment_type = 'q_learning'\n",
    "model_files = {model_name: glob(f'tmp/{experiment_type}/{experiment_id}/{model_name}/*' ) for model_name in model_names}\n",
    "policy_class = QLPolicy\n"
   ],
   "metadata": {
    "collapsed": false
   }
  },
  {
   "cell_type": "code",
   "execution_count": 4,
   "outputs": [
    {
     "name": "stdout",
     "output_type": "stream",
     "text": [
      "Tag: tmp/mb_q_learning/667023/model_aeq-20bits4emb/x_interval_policy\n",
      "Episode 9 Reward: -306.96109681670146 || New State Found: False\n"
     ]
    },
    {
     "data": {
      "text/plain": "<Figure size 432x288 with 1 Axes>",
      "image/png": "[encoded data removed]"
     },
     "metadata": {
      "needs_background": "light"
     },
     "output_type": "display_data"
    },
    {
     "name": "stdout",
     "output_type": "stream",
     "text": [
      "Reward Mean: -328.9730418169368\n",
      "Reward std : 126.7695937604036\n"
     ]
    }
   ],
   "source": [
    "from benchmarks.policy_benchmarks import PolicyBenchmarks\n",
    "\n",
    "benchmarks = {}\n",
    "evaluators = []\n",
    "for model_name,policy_files in model_files.items():\n",
    "    for policy_file in policy_files:\n",
    "        eval_policy = policy_class.load(policy_file)\n",
    "        env_kwargs = {'steps_per_episode': steps_per_episode, 'device': device,\n",
    "                      'model_path': f'tmp/state_quantization/{model_name}'}\n",
    "        evaluator = EvalDiscreteStatePolicy(policy=eval_policy, env_creator=env_creator, env_kwargs=env_kwargs, tag=policy_file.split('.')[0])\n",
    "        evaluators.append(evaluator)\n",
    "\n",
    "policy_benchmarks = PolicyBenchmarks(evaluators=evaluators, epochs=10)\n",
    "policy_benchmarks.benchmark()"
   ],
   "metadata": {
    "collapsed": false
   }
  },
  {
   "cell_type": "code",
   "execution_count": 5,
   "outputs": [
    {
     "data": {
      "text/plain": "                                                        reward         std  \\\ntmp/mb_q_learning/667023/model_aeq-20bits4/best... -200.003837    2.703012   \ntmp/mb_q_learning/667023/model_aeq-20bits4/last... -199.725733    2.950750   \ntmp/mb_q_learning/667023/model_aeq-20bits4/x_in... -200.630644    3.334509   \ntmp/mb_q_learning/667023/model_aeq-20bits4emb/b... -225.356286    3.609069   \ntmp/mb_q_learning/667023/model_aeq-20bits4emb/x... -328.973042  126.769594   \n\n                                                    unique_obs  \ntmp/mb_q_learning/667023/model_aeq-20bits4/best...       133.0  \ntmp/mb_q_learning/667023/model_aeq-20bits4/last...       153.0  \ntmp/mb_q_learning/667023/model_aeq-20bits4/x_in...       169.0  \ntmp/mb_q_learning/667023/model_aeq-20bits4emb/b...        71.0  \ntmp/mb_q_learning/667023/model_aeq-20bits4emb/x...       183.0  ",
      "text/html": "<div>\n<style scoped>\n    .dataframe tbody tr th:only-of-type {\n        vertical-align: middle;\n    }\n\n    .dataframe tbody tr th {\n        vertical-align: top;\n    }\n\n    .dataframe thead th {\n        text-align: right;\n    }\n</style>\n<table border=\"1\" class=\"dataframe\">\n  <thead>\n    <tr style=\"text-align: right;\">\n      <th></th>\n      <th>reward</th>\n      <th>std</th>\n      <th>unique_obs</th>\n    </tr>\n  </thead>\n  <tbody>\n    <tr>\n      <th>tmp/mb_q_learning/667023/model_aeq-20bits4/best_policy</th>\n      <td>-200.003837</td>\n      <td>2.703012</td>\n      <td>133.0</td>\n    </tr>\n    <tr>\n      <th>tmp/mb_q_learning/667023/model_aeq-20bits4/last_save_policy</th>\n      <td>-199.725733</td>\n      <td>2.950750</td>\n      <td>153.0</td>\n    </tr>\n    <tr>\n      <th>tmp/mb_q_learning/667023/model_aeq-20bits4/x_interval_policy</th>\n      <td>-200.630644</td>\n      <td>3.334509</td>\n      <td>169.0</td>\n    </tr>\n    <tr>\n      <th>tmp/mb_q_learning/667023/model_aeq-20bits4emb/best_policy</th>\n      <td>-225.356286</td>\n      <td>3.609069</td>\n      <td>71.0</td>\n    </tr>\n    <tr>\n      <th>tmp/mb_q_learning/667023/model_aeq-20bits4emb/x_interval_policy</th>\n      <td>-328.973042</td>\n      <td>126.769594</td>\n      <td>183.0</td>\n    </tr>\n  </tbody>\n</table>\n</div>"
     },
     "execution_count": 5,
     "metadata": {},
     "output_type": "execute_result"
    }
   ],
   "source": [
    "df = pd.DataFrame(policy_benchmarks.benchmark_metrics)\n",
    "df.T"
   ],
   "metadata": {
    "collapsed": false
   }
  },
  {
   "cell_type": "code",
   "execution_count": 6,
   "outputs": [
    {
     "data": {
      "text/plain": "{'model_aeq-20bits4': ['tmp/mb_q_learning/667023/model_aeq-20bits4/best_policy.pkl',\n  'tmp/mb_q_learning/667023/model_aeq-20bits4/last_save_policy.pkl',\n  'tmp/mb_q_learning/667023/model_aeq-20bits4/x_interval_policy.pkl'],\n 'model_aeq-20bits4emb': ['tmp/mb_q_learning/667023/model_aeq-20bits4emb/best_policy.pkl',\n  'tmp/mb_q_learning/667023/model_aeq-20bits4emb/x_interval_policy.pkl']}"
     },
     "execution_count": 6,
     "metadata": {},
     "output_type": "execute_result"
    }
   ],
   "source": [
    "model_files"
   ],
   "metadata": {
    "collapsed": false
   }
  },
  {
   "cell_type": "code",
   "execution_count": 6,
   "outputs": [],
   "source": [],
   "metadata": {
    "collapsed": false
   }
  }
 ],
 "metadata": {
  "kernelspec": {
   "display_name": "Python 3",
   "language": "python",
   "name": "python3"
  },
  "language_info": {
   "codemirror_mode": {
    "name": "ipython",
    "version": 2
   },
   "file_extension": ".py",
   "mimetype": "text/x-python",
   "name": "python",
   "nbconvert_exporter": "python",
   "pygments_lexer": "ipython2",
   "version": "2.7.6"
  }
 },
 "nbformat": 4,
 "nbformat_minor": 0
}
