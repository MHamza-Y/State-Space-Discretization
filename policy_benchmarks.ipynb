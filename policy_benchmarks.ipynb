{
 "cells": [
  {
   "cell_type": "code",
   "execution_count": 1,
   "metadata": {
    "collapsed": true
   },
   "outputs": [],
   "source": [
    "import matplotlib.pyplot as plt\n",
    "from q_learning.algorithm import QLPolicy\n",
    "from envs.env_creator import env_creator\n",
    "from base_rl.eval_policy import EvalDiscreteStatePolicy\n",
    "from glob import glob\n",
    "import pandas as pd\n"
   ]
  },
  {
   "cell_type": "code",
   "execution_count": 2,
   "outputs": [],
   "source": [
    "plt.rcParams[\"figure.figsize\"] = [20, 12]"
   ],
   "metadata": {
    "collapsed": false
   }
  },
  {
   "cell_type": "code",
   "execution_count": 3,
   "outputs": [],
   "source": [
    "\n",
    "device = 'cuda'\n",
    "steps_per_episode = 1000\n",
    "model_names = ['model_aeq-20bits2', 'model_final_h20bits3', 'model_h_c-20bits3']\n",
    "experiment_id = 294291\n",
    "experiment_type = 'q_learning'\n",
    "model_files = {model_name: glob(f'tmp/{experiment_type}/{experiment_id}/{model_name}/*' ) for model_name in model_names}\n",
    "policy_class = QLPolicy\n"
   ],
   "metadata": {
    "collapsed": false
   }
  },
  {
   "cell_type": "code",
   "execution_count": 4,
   "outputs": [
    {
     "name": "stdout",
     "output_type": "stream",
     "text": [
      "Tag: tmp/q_learning/294291/model_h_c-20bits3/x_interval_policy\n",
      "Episode 9 Reward: -193.58203821545584 || New State Found: False\n"
     ]
    },
    {
     "data": {
      "text/plain": "<Figure size 432x288 with 1 Axes>",
      "image/png": "[encoded data removed]"
     },
     "metadata": {
      "needs_background": "light"
     },
     "output_type": "display_data"
    },
    {
     "name": "stdout",
     "output_type": "stream",
     "text": [
      "Reward Mean: -193.2544621212068\n",
      "Reward std : 4.434038636389318\n"
     ]
    }
   ],
   "source": [
    "from benchmarks.policy_benchmarks import PolicyBenchmarks\n",
    "\n",
    "benchmarks = {}\n",
    "evaluators = []\n",
    "for model_name,policy_files in model_files.items():\n",
    "    for policy_file in policy_files:\n",
    "        eval_policy = policy_class.load(policy_file)\n",
    "        env_kwargs = {'steps_per_episode': steps_per_episode, 'device': device,\n",
    "                      'model_path': f'tmp/state_quantization/{model_name}'}\n",
    "        evaluator = EvalDiscreteStatePolicy(policy=eval_policy, env_creator=env_creator, env_kwargs=env_kwargs, tag=policy_file.split('.')[0])\n",
    "        evaluators.append(evaluator)\n",
    "\n",
    "policy_benchmarks = PolicyBenchmarks(evaluators=evaluators, epochs=10)\n",
    "policy_benchmarks.benchmark()"
   ],
   "metadata": {
    "collapsed": false
   }
  },
  {
   "cell_type": "code",
   "execution_count": 5,
   "outputs": [
    {
     "data": {
      "text/plain": "                                                        reward       std\ntmp/q_learning/294291/model_aeq-20bits2/best_po... -182.720039  1.038742\ntmp/q_learning/294291/model_aeq-20bits2/last_sa... -182.415570  0.706974\ntmp/q_learning/294291/model_aeq-20bits2/x_inter... -182.899700  0.928474\ntmp/q_learning/294291/model_final_h20bits3/best... -195.420914  2.657820\ntmp/q_learning/294291/model_final_h20bits3/last... -195.454268  2.709326\ntmp/q_learning/294291/model_final_h20bits3/x_in... -196.124161  2.075219\ntmp/q_learning/294291/model_h_c-20bits3/best_po... -194.473503  4.390445\ntmp/q_learning/294291/model_h_c-20bits3/last_sa... -191.735726  4.184537\ntmp/q_learning/294291/model_h_c-20bits3/x_inter... -193.254462  4.434039",
      "text/html": "<div>\n<style scoped>\n    .dataframe tbody tr th:only-of-type {\n        vertical-align: middle;\n    }\n\n    .dataframe tbody tr th {\n        vertical-align: top;\n    }\n\n    .dataframe thead th {\n        text-align: right;\n    }\n</style>\n<table border=\"1\" class=\"dataframe\">\n  <thead>\n    <tr style=\"text-align: right;\">\n      <th></th>\n      <th>reward</th>\n      <th>std</th>\n    </tr>\n  </thead>\n  <tbody>\n    <tr>\n      <th>tmp/q_learning/294291/model_aeq-20bits2/best_policy</th>\n      <td>-182.720039</td>\n      <td>1.038742</td>\n    </tr>\n    <tr>\n      <th>tmp/q_learning/294291/model_aeq-20bits2/last_save_policy</th>\n      <td>-182.415570</td>\n      <td>0.706974</td>\n    </tr>\n    <tr>\n      <th>tmp/q_learning/294291/model_aeq-20bits2/x_interval_policy</th>\n      <td>-182.899700</td>\n      <td>0.928474</td>\n    </tr>\n    <tr>\n      <th>tmp/q_learning/294291/model_final_h20bits3/best_policy</th>\n      <td>-195.420914</td>\n      <td>2.657820</td>\n    </tr>\n    <tr>\n      <th>tmp/q_learning/294291/model_final_h20bits3/last_save_policy</th>\n      <td>-195.454268</td>\n      <td>2.709326</td>\n    </tr>\n    <tr>\n      <th>tmp/q_learning/294291/model_final_h20bits3/x_interval_policy</th>\n      <td>-196.124161</td>\n      <td>2.075219</td>\n    </tr>\n    <tr>\n      <th>tmp/q_learning/294291/model_h_c-20bits3/best_policy</th>\n      <td>-194.473503</td>\n      <td>4.390445</td>\n    </tr>\n    <tr>\n      <th>tmp/q_learning/294291/model_h_c-20bits3/last_save_policy</th>\n      <td>-191.735726</td>\n      <td>4.184537</td>\n    </tr>\n    <tr>\n      <th>tmp/q_learning/294291/model_h_c-20bits3/x_interval_policy</th>\n      <td>-193.254462</td>\n      <td>4.434039</td>\n    </tr>\n  </tbody>\n</table>\n</div>"
     },
     "execution_count": 5,
     "metadata": {},
     "output_type": "execute_result"
    }
   ],
   "source": [
    "df = pd.DataFrame(policy_benchmarks.benchmark_metrics)\n",
    "df.T"
   ],
   "metadata": {
    "collapsed": false
   }
  },
  {
   "cell_type": "code",
   "execution_count": 6,
   "outputs": [
    {
     "data": {
      "text/plain": "{'model_aeq-20bits2': ['tmp/q_learning/294291/model_aeq-20bits2/best_policy.pkl',\n  'tmp/q_learning/294291/model_aeq-20bits2/last_save_policy.pkl',\n  'tmp/q_learning/294291/model_aeq-20bits2/x_interval_policy.pkl'],\n 'model_final_h20bits3': ['tmp/q_learning/294291/model_final_h20bits3/best_policy.pkl',\n  'tmp/q_learning/294291/model_final_h20bits3/last_save_policy.pkl',\n  'tmp/q_learning/294291/model_final_h20bits3/x_interval_policy.pkl'],\n 'model_h_c-20bits3': ['tmp/q_learning/294291/model_h_c-20bits3/best_policy.pkl',\n  'tmp/q_learning/294291/model_h_c-20bits3/last_save_policy.pkl',\n  'tmp/q_learning/294291/model_h_c-20bits3/x_interval_policy.pkl']}"
     },
     "execution_count": 6,
     "metadata": {},
     "output_type": "execute_result"
    }
   ],
   "source": [
    "model_files"
   ],
   "metadata": {
    "collapsed": false
   }
  },
  {
   "cell_type": "code",
   "execution_count": 6,
   "outputs": [],
   "source": [],
   "metadata": {
    "collapsed": false
   }
  }
 ],
 "metadata": {
  "kernelspec": {
   "display_name": "Python 3",
   "language": "python",
   "name": "python3"
  },
  "language_info": {
   "codemirror_mode": {
    "name": "ipython",
    "version": 2
   },
   "file_extension": ".py",
   "mimetype": "text/x-python",
   "name": "python",
   "nbconvert_exporter": "python",
   "pygments_lexer": "ipython2",
   "version": "2.7.6"
  }
 },
 "nbformat": 4,
 "nbformat_minor": 0
}
