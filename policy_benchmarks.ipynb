{
 "cells": [
  {
   "cell_type": "code",
   "execution_count": 1,
   "metadata": {
    "collapsed": true
   },
   "outputs": [],
   "source": [
    "import matplotlib.pyplot as plt\n",
    "from q_learning.algorithm import QLPolicy\n",
    "from envs.env_creator import env_creator\n",
    "from base_rl.eval_policy import EvalDiscreteStatePolicy\n",
    "from glob import glob\n",
    "import pandas as pd\n"
   ]
  },
  {
   "cell_type": "code",
   "execution_count": 2,
   "outputs": [],
   "source": [
    "plt.rcParams[\"figure.figsize\"] = [20, 12]"
   ],
   "metadata": {
    "collapsed": false
   }
  },
  {
   "cell_type": "code",
   "execution_count": 3,
   "outputs": [],
   "source": [
    "\n",
    "device = 'cuda'\n",
    "steps_per_episode = 1000\n",
    "model_names = ['model_aeq-20bits2', 'model_final_h20bits3', 'model_h_c-20bits3', 'model_aeq-20bits', 'model_final_h20bits2', 'model_h_c-20bits2', 'model_final_h20bits', 'model_h_c-20bits']\n",
    "experiment_id = '*'\n",
    "experiment_type = 'mb_q_learning'\n",
    "model_files = {model_name: glob(f'tmp/{experiment_type}/{experiment_id}/{model_name}/*' ) for model_name in model_names}\n",
    "policy_class = QLPolicy\n"
   ],
   "metadata": {
    "collapsed": false
   }
  },
  {
   "cell_type": "code",
   "execution_count": 4,
   "outputs": [
    {
     "name": "stdout",
     "output_type": "stream",
     "text": [
      "Tag: tmp/mb_q_learning/633045/model_h_c-20bits/x_interval_policy\n",
      "Episode 9 Reward: -230.58506032708794 || New State Found: False\n"
     ]
    },
    {
     "data": {
      "text/plain": "<Figure size 432x288 with 1 Axes>",
      "image/png": "[encoded data removed]"
     },
     "metadata": {
      "needs_background": "light"
     },
     "output_type": "display_data"
    },
    {
     "name": "stdout",
     "output_type": "stream",
     "text": [
      "Reward Mean: -230.6867888859981\n",
      "Reward std : 3.3602902003661272\n"
     ]
    }
   ],
   "source": [
    "from benchmarks.policy_benchmarks import PolicyBenchmarks\n",
    "\n",
    "benchmarks = {}\n",
    "evaluators = []\n",
    "for model_name,policy_files in model_files.items():\n",
    "    for policy_file in policy_files:\n",
    "        eval_policy = policy_class.load(policy_file)\n",
    "        env_kwargs = {'steps_per_episode': steps_per_episode, 'device': device,\n",
    "                      'model_path': f'tmp/state_quantization/{model_name}'}\n",
    "        evaluator = EvalDiscreteStatePolicy(policy=eval_policy, env_creator=env_creator, env_kwargs=env_kwargs, tag=policy_file.split('.')[0])\n",
    "        evaluators.append(evaluator)\n",
    "\n",
    "policy_benchmarks = PolicyBenchmarks(evaluators=evaluators, epochs=10)\n",
    "policy_benchmarks.benchmark()"
   ],
   "metadata": {
    "collapsed": false
   }
  },
  {
   "cell_type": "code",
   "execution_count": 5,
   "outputs": [
    {
     "data": {
      "text/plain": "                                                        reward        std  \\\ntmp/mb_q_learning/432429/model_aeq-20bits2/best... -185.716806   1.081449   \ntmp/mb_q_learning/432429/model_aeq-20bits2/last... -186.759073   0.730781   \ntmp/mb_q_learning/432429/model_aeq-20bits2/x_in... -186.965836   1.809434   \ntmp/mb_q_learning/432429/model_final_h20bits3/b... -234.112045   0.578568   \ntmp/mb_q_learning/432429/model_final_h20bits3/l... -233.925183   0.618390   \ntmp/mb_q_learning/432429/model_final_h20bits3/x... -234.047052   0.456232   \ntmp/mb_q_learning/432429/model_h_c-20bits3/best... -236.015723   0.284193   \ntmp/mb_q_learning/432429/model_h_c-20bits3/last... -237.569020   0.369606   \ntmp/mb_q_learning/432429/model_h_c-20bits3/x_in... -237.426840   0.482769   \ntmp/mb_q_learning/633045/model_aeq-20bits/best_... -201.932034   4.796177   \ntmp/mb_q_learning/633045/model_aeq-20bits/last_... -192.582482   1.142996   \ntmp/mb_q_learning/633045/model_aeq-20bits/x_int... -192.779931   0.704774   \ntmp/mb_q_learning/708255/model_final_h20bits2/b... -230.900915   1.166162   \ntmp/mb_q_learning/708255/model_final_h20bits2/l... -231.437525   0.826170   \ntmp/mb_q_learning/708255/model_final_h20bits2/x... -231.172023   1.024973   \ntmp/mb_q_learning/708255/model_h_c-20bits2/best... -220.704492   0.598650   \ntmp/mb_q_learning/708255/model_h_c-20bits2/x_in... -218.302392   4.992085   \ntmp/mb_q_learning/633045/model_final_h20bits/be... -203.538165   0.795767   \ntmp/mb_q_learning/633045/model_final_h20bits/la... -203.778748   1.515330   \ntmp/mb_q_learning/633045/model_final_h20bits/x_... -203.212969   0.247978   \ntmp/mb_q_learning/633045/model_h_c-20bits/best_... -237.758614  20.528471   \ntmp/mb_q_learning/633045/model_h_c-20bits/last_... -230.988566   3.030710   \ntmp/mb_q_learning/633045/model_h_c-20bits/x_int... -230.686789   3.360290   \n\n                                                    unique_obs  \ntmp/mb_q_learning/432429/model_aeq-20bits2/best...        86.0  \ntmp/mb_q_learning/432429/model_aeq-20bits2/last...       101.0  \ntmp/mb_q_learning/432429/model_aeq-20bits2/x_in...       104.0  \ntmp/mb_q_learning/432429/model_final_h20bits3/b...        16.0  \ntmp/mb_q_learning/432429/model_final_h20bits3/l...        18.0  \ntmp/mb_q_learning/432429/model_final_h20bits3/x...        17.0  \ntmp/mb_q_learning/432429/model_h_c-20bits3/best...        15.0  \ntmp/mb_q_learning/432429/model_h_c-20bits3/last...        21.0  \ntmp/mb_q_learning/432429/model_h_c-20bits3/x_in...        22.0  \ntmp/mb_q_learning/633045/model_aeq-20bits/best_...        24.0  \ntmp/mb_q_learning/633045/model_aeq-20bits/last_...        28.0  \ntmp/mb_q_learning/633045/model_aeq-20bits/x_int...        26.0  \ntmp/mb_q_learning/708255/model_final_h20bits2/b...        16.0  \ntmp/mb_q_learning/708255/model_final_h20bits2/l...        12.0  \ntmp/mb_q_learning/708255/model_final_h20bits2/x...        15.0  \ntmp/mb_q_learning/708255/model_h_c-20bits2/best...        28.0  \ntmp/mb_q_learning/708255/model_h_c-20bits2/x_in...        34.0  \ntmp/mb_q_learning/633045/model_final_h20bits/be...         2.0  \ntmp/mb_q_learning/633045/model_final_h20bits/la...         2.0  \ntmp/mb_q_learning/633045/model_final_h20bits/x_...         2.0  \ntmp/mb_q_learning/633045/model_h_c-20bits/best_...        94.0  \ntmp/mb_q_learning/633045/model_h_c-20bits/last_...        79.0  \ntmp/mb_q_learning/633045/model_h_c-20bits/x_int...        79.0  ",
      "text/html": "<div>\n<style scoped>\n    .dataframe tbody tr th:only-of-type {\n        vertical-align: middle;\n    }\n\n    .dataframe tbody tr th {\n        vertical-align: top;\n    }\n\n    .dataframe thead th {\n        text-align: right;\n    }\n</style>\n<table border=\"1\" class=\"dataframe\">\n  <thead>\n    <tr style=\"text-align: right;\">\n      <th></th>\n      <th>reward</th>\n      <th>std</th>\n      <th>unique_obs</th>\n    </tr>\n  </thead>\n  <tbody>\n    <tr>\n      <th>tmp/mb_q_learning/432429/model_aeq-20bits2/best_policy</th>\n      <td>-185.716806</td>\n      <td>1.081449</td>\n      <td>86.0</td>\n    </tr>\n    <tr>\n      <th>tmp/mb_q_learning/432429/model_aeq-20bits2/last_save_policy</th>\n      <td>-186.759073</td>\n      <td>0.730781</td>\n      <td>101.0</td>\n    </tr>\n    <tr>\n      <th>tmp/mb_q_learning/432429/model_aeq-20bits2/x_interval_policy</th>\n      <td>-186.965836</td>\n      <td>1.809434</td>\n      <td>104.0</td>\n    </tr>\n    <tr>\n      <th>tmp/mb_q_learning/432429/model_final_h20bits3/best_policy</th>\n      <td>-234.112045</td>\n      <td>0.578568</td>\n      <td>16.0</td>\n    </tr>\n    <tr>\n      <th>tmp/mb_q_learning/432429/model_final_h20bits3/last_save_policy</th>\n      <td>-233.925183</td>\n      <td>0.618390</td>\n      <td>18.0</td>\n    </tr>\n    <tr>\n      <th>tmp/mb_q_learning/432429/model_final_h20bits3/x_interval_policy</th>\n      <td>-234.047052</td>\n      <td>0.456232</td>\n      <td>17.0</td>\n    </tr>\n    <tr>\n      <th>tmp/mb_q_learning/432429/model_h_c-20bits3/best_policy</th>\n      <td>-236.015723</td>\n      <td>0.284193</td>\n      <td>15.0</td>\n    </tr>\n    <tr>\n      <th>tmp/mb_q_learning/432429/model_h_c-20bits3/last_save_policy</th>\n      <td>-237.569020</td>\n      <td>0.369606</td>\n      <td>21.0</td>\n    </tr>\n    <tr>\n      <th>tmp/mb_q_learning/432429/model_h_c-20bits3/x_interval_policy</th>\n      <td>-237.426840</td>\n      <td>0.482769</td>\n      <td>22.0</td>\n    </tr>\n    <tr>\n      <th>tmp/mb_q_learning/633045/model_aeq-20bits/best_policy</th>\n      <td>-201.932034</td>\n      <td>4.796177</td>\n      <td>24.0</td>\n    </tr>\n    <tr>\n      <th>tmp/mb_q_learning/633045/model_aeq-20bits/last_save_policy</th>\n      <td>-192.582482</td>\n      <td>1.142996</td>\n      <td>28.0</td>\n    </tr>\n    <tr>\n      <th>tmp/mb_q_learning/633045/model_aeq-20bits/x_interval_policy</th>\n      <td>-192.779931</td>\n      <td>0.704774</td>\n      <td>26.0</td>\n    </tr>\n    <tr>\n      <th>tmp/mb_q_learning/708255/model_final_h20bits2/best_policy</th>\n      <td>-230.900915</td>\n      <td>1.166162</td>\n      <td>16.0</td>\n    </tr>\n    <tr>\n      <th>tmp/mb_q_learning/708255/model_final_h20bits2/last_save_policy</th>\n      <td>-231.437525</td>\n      <td>0.826170</td>\n      <td>12.0</td>\n    </tr>\n    <tr>\n      <th>tmp/mb_q_learning/708255/model_final_h20bits2/x_interval_policy</th>\n      <td>-231.172023</td>\n      <td>1.024973</td>\n      <td>15.0</td>\n    </tr>\n    <tr>\n      <th>tmp/mb_q_learning/708255/model_h_c-20bits2/best_policy</th>\n      <td>-220.704492</td>\n      <td>0.598650</td>\n      <td>28.0</td>\n    </tr>\n    <tr>\n      <th>tmp/mb_q_learning/708255/model_h_c-20bits2/x_interval_policy</th>\n      <td>-218.302392</td>\n      <td>4.992085</td>\n      <td>34.0</td>\n    </tr>\n    <tr>\n      <th>tmp/mb_q_learning/633045/model_final_h20bits/best_policy</th>\n      <td>-203.538165</td>\n      <td>0.795767</td>\n      <td>2.0</td>\n    </tr>\n    <tr>\n      <th>tmp/mb_q_learning/633045/model_final_h20bits/last_save_policy</th>\n      <td>-203.778748</td>\n      <td>1.515330</td>\n      <td>2.0</td>\n    </tr>\n    <tr>\n      <th>tmp/mb_q_learning/633045/model_final_h20bits/x_interval_policy</th>\n      <td>-203.212969</td>\n      <td>0.247978</td>\n      <td>2.0</td>\n    </tr>\n    <tr>\n      <th>tmp/mb_q_learning/633045/model_h_c-20bits/best_policy</th>\n      <td>-237.758614</td>\n      <td>20.528471</td>\n      <td>94.0</td>\n    </tr>\n    <tr>\n      <th>tmp/mb_q_learning/633045/model_h_c-20bits/last_save_policy</th>\n      <td>-230.988566</td>\n      <td>3.030710</td>\n      <td>79.0</td>\n    </tr>\n    <tr>\n      <th>tmp/mb_q_learning/633045/model_h_c-20bits/x_interval_policy</th>\n      <td>-230.686789</td>\n      <td>3.360290</td>\n      <td>79.0</td>\n    </tr>\n  </tbody>\n</table>\n</div>"
     },
     "execution_count": 5,
     "metadata": {},
     "output_type": "execute_result"
    }
   ],
   "source": [
    "df = pd.DataFrame(policy_benchmarks.benchmark_metrics)\n",
    "df.T"
   ],
   "metadata": {
    "collapsed": false
   }
  },
  {
   "cell_type": "code",
   "execution_count": 6,
   "outputs": [
    {
     "data": {
      "text/plain": "{'model_aeq-20bits2': ['tmp/mb_q_learning/432429/model_aeq-20bits2/best_policy.pkl',\n  'tmp/mb_q_learning/432429/model_aeq-20bits2/last_save_policy.pkl',\n  'tmp/mb_q_learning/432429/model_aeq-20bits2/x_interval_policy.pkl'],\n 'model_final_h20bits3': ['tmp/mb_q_learning/432429/model_final_h20bits3/best_policy.pkl',\n  'tmp/mb_q_learning/432429/model_final_h20bits3/last_save_policy.pkl',\n  'tmp/mb_q_learning/432429/model_final_h20bits3/x_interval_policy.pkl'],\n 'model_h_c-20bits3': ['tmp/mb_q_learning/432429/model_h_c-20bits3/best_policy.pkl',\n  'tmp/mb_q_learning/432429/model_h_c-20bits3/last_save_policy.pkl',\n  'tmp/mb_q_learning/432429/model_h_c-20bits3/x_interval_policy.pkl'],\n 'model_aeq-20bits': ['tmp/mb_q_learning/633045/model_aeq-20bits/best_policy.pkl',\n  'tmp/mb_q_learning/633045/model_aeq-20bits/last_save_policy.pkl',\n  'tmp/mb_q_learning/633045/model_aeq-20bits/x_interval_policy.pkl'],\n 'model_final_h20bits2': ['tmp/mb_q_learning/708255/model_final_h20bits2/best_policy.pkl',\n  'tmp/mb_q_learning/708255/model_final_h20bits2/last_save_policy.pkl',\n  'tmp/mb_q_learning/708255/model_final_h20bits2/x_interval_policy.pkl'],\n 'model_h_c-20bits2': ['tmp/mb_q_learning/708255/model_h_c-20bits2/best_policy.pkl',\n  'tmp/mb_q_learning/708255/model_h_c-20bits2/x_interval_policy.pkl'],\n 'model_final_h20bits': ['tmp/mb_q_learning/633045/model_final_h20bits/best_policy.pkl',\n  'tmp/mb_q_learning/633045/model_final_h20bits/last_save_policy.pkl',\n  'tmp/mb_q_learning/633045/model_final_h20bits/x_interval_policy.pkl'],\n 'model_h_c-20bits': ['tmp/mb_q_learning/633045/model_h_c-20bits/best_policy.pkl',\n  'tmp/mb_q_learning/633045/model_h_c-20bits/last_save_policy.pkl',\n  'tmp/mb_q_learning/633045/model_h_c-20bits/x_interval_policy.pkl']}"
     },
     "execution_count": 6,
     "metadata": {},
     "output_type": "execute_result"
    }
   ],
   "source": [
    "model_files"
   ],
   "metadata": {
    "collapsed": false
   }
  },
  {
   "cell_type": "code",
   "execution_count": 6,
   "outputs": [],
   "source": [],
   "metadata": {
    "collapsed": false
   }
  }
 ],
 "metadata": {
  "kernelspec": {
   "display_name": "Python 3",
   "language": "python",
   "name": "python3"
  },
  "language_info": {
   "codemirror_mode": {
    "name": "ipython",
    "version": 2
   },
   "file_extension": ".py",
   "mimetype": "text/x-python",
   "name": "python",
   "nbconvert_exporter": "python",
   "pygments_lexer": "ipython2",
   "version": "2.7.6"
  }
 },
 "nbformat": 4,
 "nbformat_minor": 0
}
