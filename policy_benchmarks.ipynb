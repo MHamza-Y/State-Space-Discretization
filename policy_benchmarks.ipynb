{
 "cells": [
  {
   "cell_type": "code",
   "execution_count": 1,
   "metadata": {
    "collapsed": true
   },
   "outputs": [],
   "source": [
    "import matplotlib.pyplot as plt\n",
    "from envs.env_creator import env_creator\n",
    "from base_rl.eval_policy import EvalDiscreteStatePolicy\n",
    "from glob import glob\n",
    "import pandas as pd\n",
    "import dill\n",
    "from benchmarks.policy_benchmarks import PolicyBenchmarksParallel"
   ]
  },
  {
   "cell_type": "code",
   "execution_count": 2,
   "outputs": [],
   "source": [
    "plt.rcParams[\"figure.figsize\"] = [20, 12]"
   ],
   "metadata": {
    "collapsed": false
   }
  },
  {
   "cell_type": "code",
   "execution_count": 3,
   "outputs": [],
   "source": [
    "device = 'cuda'\n",
    "steps_per_episode = 1000\n",
    "model_names = ['model_aeq-20bits3']#['model_aeq-20bits3', 'model_h_c-20bits3']\n",
    "experiment_id = '*'\n",
    "experiment_type = 'policy_iteration'"
   ],
   "metadata": {
    "collapsed": false
   }
  },
  {
   "cell_type": "code",
   "execution_count": 4,
   "outputs": [],
   "source": [
    "model_files = {model_name: glob(f'tmp/{experiment_type}/{experiment_id}/{model_name}/**/*policy.pkl',recursive=True) for model_name in model_names}"
   ],
   "metadata": {
    "collapsed": false
   }
  },
  {
   "cell_type": "code",
   "execution_count": 5,
   "outputs": [],
   "source": [
    "def load(save_path):\n",
    "        with open(save_path, 'rb') as f:\n",
    "            return dill.load(f)"
   ],
   "metadata": {
    "collapsed": false
   }
  },
  {
   "cell_type": "code",
   "execution_count": 6,
   "outputs": [
    {
     "name": "stdout",
     "output_type": "stream",
     "text": [
      "Tag: tmp/policy_iteration/711549/model_aeq-20bits3/10000/policy\n",
      "Episode 0 Reward: -418.6743063023979 || New State Found: True\n"
     ]
    },
    {
     "name": "stderr",
     "output_type": "stream",
     "text": [
      "Process ForkPoolWorker-4:\n",
      "Process ForkPoolWorker-3:\n",
      "Process ForkPoolWorker-2:\n",
      "Process ForkPoolWorker-1:\n"
     ]
    },
    {
     "ename": "KeyboardInterrupt",
     "evalue": "",
     "output_type": "error",
     "traceback": [
      "\u001B[0;31m---------------------------------------------------------------------------\u001B[0m",
      "\u001B[0;31mKeyboardInterrupt\u001B[0m                         Traceback (most recent call last)",
      "Cell \u001B[0;32mIn[6], line 12\u001B[0m\n\u001B[1;32m      9\u001B[0m         evaluators\u001B[38;5;241m.\u001B[39mappend(evaluator)\n\u001B[1;32m     11\u001B[0m policy_benchmarks \u001B[38;5;241m=\u001B[39m PolicyBenchmarksParallel(evaluators\u001B[38;5;241m=\u001B[39mevaluators, epochs\u001B[38;5;241m=\u001B[39m\u001B[38;5;241m10\u001B[39m)\n\u001B[0;32m---> 12\u001B[0m \u001B[43mpolicy_benchmarks\u001B[49m\u001B[38;5;241;43m.\u001B[39;49m\u001B[43mbenchmark\u001B[49m\u001B[43m(\u001B[49m\u001B[43m)\u001B[49m\n",
      "File \u001B[0;32m~/PycharmProjects/State-Space-Discretization/benchmarks/policy_benchmarks.py:48\u001B[0m, in \u001B[0;36mPolicyBenchmarksParallel.benchmark\u001B[0;34m(self)\u001B[0m\n\u001B[1;32m     45\u001B[0m     results\u001B[38;5;241m.\u001B[39mappend(result)\n\u001B[1;32m     47\u001B[0m \u001B[38;5;28;01mfor\u001B[39;00m result \u001B[38;5;129;01min\u001B[39;00m results:\n\u001B[0;32m---> 48\u001B[0m     evaluated_benchmark \u001B[38;5;241m=\u001B[39m \u001B[43mresult\u001B[49m\u001B[38;5;241;43m.\u001B[39;49m\u001B[43mget\u001B[49m\u001B[43m(\u001B[49m\u001B[43m)\u001B[49m\n\u001B[1;32m     49\u001B[0m     \u001B[38;5;28mself\u001B[39m\u001B[38;5;241m.\u001B[39mupdate_metrics(evaluated_benchmark)\n",
      "File \u001B[0;32m/usr/lib/python3.10/multiprocessing/pool.py:768\u001B[0m, in \u001B[0;36mApplyResult.get\u001B[0;34m(self, timeout)\u001B[0m\n\u001B[1;32m    767\u001B[0m \u001B[38;5;28;01mdef\u001B[39;00m \u001B[38;5;21mget\u001B[39m(\u001B[38;5;28mself\u001B[39m, timeout\u001B[38;5;241m=\u001B[39m\u001B[38;5;28;01mNone\u001B[39;00m):\n\u001B[0;32m--> 768\u001B[0m     \u001B[38;5;28;43mself\u001B[39;49m\u001B[38;5;241;43m.\u001B[39;49m\u001B[43mwait\u001B[49m\u001B[43m(\u001B[49m\u001B[43mtimeout\u001B[49m\u001B[43m)\u001B[49m\n\u001B[1;32m    769\u001B[0m     \u001B[38;5;28;01mif\u001B[39;00m \u001B[38;5;129;01mnot\u001B[39;00m \u001B[38;5;28mself\u001B[39m\u001B[38;5;241m.\u001B[39mready():\n\u001B[1;32m    770\u001B[0m         \u001B[38;5;28;01mraise\u001B[39;00m \u001B[38;5;167;01mTimeoutError\u001B[39;00m\n",
      "File \u001B[0;32m/usr/lib/python3.10/multiprocessing/pool.py:765\u001B[0m, in \u001B[0;36mApplyResult.wait\u001B[0;34m(self, timeout)\u001B[0m\n\u001B[1;32m    764\u001B[0m \u001B[38;5;28;01mdef\u001B[39;00m \u001B[38;5;21mwait\u001B[39m(\u001B[38;5;28mself\u001B[39m, timeout\u001B[38;5;241m=\u001B[39m\u001B[38;5;28;01mNone\u001B[39;00m):\n\u001B[0;32m--> 765\u001B[0m     \u001B[38;5;28;43mself\u001B[39;49m\u001B[38;5;241;43m.\u001B[39;49m\u001B[43m_event\u001B[49m\u001B[38;5;241;43m.\u001B[39;49m\u001B[43mwait\u001B[49m\u001B[43m(\u001B[49m\u001B[43mtimeout\u001B[49m\u001B[43m)\u001B[49m\n",
      "File \u001B[0;32m/usr/lib/python3.10/threading.py:607\u001B[0m, in \u001B[0;36mEvent.wait\u001B[0;34m(self, timeout)\u001B[0m\n\u001B[1;32m    605\u001B[0m signaled \u001B[38;5;241m=\u001B[39m \u001B[38;5;28mself\u001B[39m\u001B[38;5;241m.\u001B[39m_flag\n\u001B[1;32m    606\u001B[0m \u001B[38;5;28;01mif\u001B[39;00m \u001B[38;5;129;01mnot\u001B[39;00m signaled:\n\u001B[0;32m--> 607\u001B[0m     signaled \u001B[38;5;241m=\u001B[39m \u001B[38;5;28;43mself\u001B[39;49m\u001B[38;5;241;43m.\u001B[39;49m\u001B[43m_cond\u001B[49m\u001B[38;5;241;43m.\u001B[39;49m\u001B[43mwait\u001B[49m\u001B[43m(\u001B[49m\u001B[43mtimeout\u001B[49m\u001B[43m)\u001B[49m\n\u001B[1;32m    608\u001B[0m \u001B[38;5;28;01mreturn\u001B[39;00m signaled\n",
      "File \u001B[0;32m/usr/lib/python3.10/threading.py:320\u001B[0m, in \u001B[0;36mCondition.wait\u001B[0;34m(self, timeout)\u001B[0m\n\u001B[1;32m    318\u001B[0m \u001B[38;5;28;01mtry\u001B[39;00m:    \u001B[38;5;66;03m# restore state no matter what (e.g., KeyboardInterrupt)\u001B[39;00m\n\u001B[1;32m    319\u001B[0m     \u001B[38;5;28;01mif\u001B[39;00m timeout \u001B[38;5;129;01mis\u001B[39;00m \u001B[38;5;28;01mNone\u001B[39;00m:\n\u001B[0;32m--> 320\u001B[0m         \u001B[43mwaiter\u001B[49m\u001B[38;5;241;43m.\u001B[39;49m\u001B[43macquire\u001B[49m\u001B[43m(\u001B[49m\u001B[43m)\u001B[49m\n\u001B[1;32m    321\u001B[0m         gotit \u001B[38;5;241m=\u001B[39m \u001B[38;5;28;01mTrue\u001B[39;00m\n\u001B[1;32m    322\u001B[0m     \u001B[38;5;28;01melse\u001B[39;00m:\n",
      "\u001B[0;31mKeyboardInterrupt\u001B[0m: "
     ]
    }
   ],
   "source": [
    "\n",
    "\n",
    "benchmarks = {}\n",
    "evaluators = []\n",
    "for model_name,policy_files in model_files.items():\n",
    "    for policy_file in policy_files:\n",
    "        eval_policy = load(policy_file)\n",
    "        env_kwargs = {'steps_per_episode': steps_per_episode, 'device': device,\n",
    "                      'model_path': f'tmp/state_quantization/{model_name}'}\n",
    "        evaluator = EvalDiscreteStatePolicy(policy=eval_policy, env_creator=env_creator, env_kwargs=env_kwargs, tag=policy_file.split('.')[0])\n",
    "        evaluators.append(evaluator)\n",
    "\n",
    "policy_benchmarks = PolicyBenchmarksParallel(evaluators=evaluators, epochs=10)\n",
    "policy_benchmarks.benchmark()"
   ],
   "metadata": {
    "collapsed": false
   }
  },
  {
   "cell_type": "code",
   "execution_count": 7,
   "outputs": [
    {
     "data": {
      "text/plain": "                                                        reward         std  \\\ntmp/policy_iteration/977283/model_aeq-20bits3/1... -605.712084   31.105069   \ntmp/policy_iteration/977283/model_aeq-20bits3/1... -343.909135   85.947031   \ntmp/policy_iteration/977283/model_aeq-20bits3/1... -306.250813   87.061688   \ntmp/policy_iteration/977283/model_aeq-20bits3/1... -846.507480   28.458800   \ntmp/policy_iteration/411975/model_aeq-20bits3/1... -600.938480   38.108825   \ntmp/policy_iteration/411975/model_aeq-20bits3/1... -417.723294  113.880609   \ntmp/policy_iteration/411975/model_aeq-20bits3/1... -272.694446   69.133524   \ntmp/policy_iteration/411975/model_aeq-20bits3/1... -826.239242   57.452773   \n\n                                                    unique_obs  \ntmp/policy_iteration/977283/model_aeq-20bits3/1...       284.0  \ntmp/policy_iteration/977283/model_aeq-20bits3/1...       719.0  \ntmp/policy_iteration/977283/model_aeq-20bits3/1...       721.0  \ntmp/policy_iteration/977283/model_aeq-20bits3/1...       238.0  \ntmp/policy_iteration/411975/model_aeq-20bits3/1...       281.0  \ntmp/policy_iteration/411975/model_aeq-20bits3/1...       782.0  \ntmp/policy_iteration/411975/model_aeq-20bits3/1...       731.0  \ntmp/policy_iteration/411975/model_aeq-20bits3/1...       287.0  ",
      "text/html": "<div>\n<style scoped>\n    .dataframe tbody tr th:only-of-type {\n        vertical-align: middle;\n    }\n\n    .dataframe tbody tr th {\n        vertical-align: top;\n    }\n\n    .dataframe thead th {\n        text-align: right;\n    }\n</style>\n<table border=\"1\" class=\"dataframe\">\n  <thead>\n    <tr style=\"text-align: right;\">\n      <th></th>\n      <th>reward</th>\n      <th>std</th>\n      <th>unique_obs</th>\n    </tr>\n  </thead>\n  <tbody>\n    <tr>\n      <th>tmp/policy_iteration/977283/model_aeq-20bits3/10/policy</th>\n      <td>-605.712084</td>\n      <td>31.105069</td>\n      <td>284.0</td>\n    </tr>\n    <tr>\n      <th>tmp/policy_iteration/977283/model_aeq-20bits3/10000/policy</th>\n      <td>-343.909135</td>\n      <td>85.947031</td>\n      <td>719.0</td>\n    </tr>\n    <tr>\n      <th>tmp/policy_iteration/977283/model_aeq-20bits3/1000/policy</th>\n      <td>-306.250813</td>\n      <td>87.061688</td>\n      <td>721.0</td>\n    </tr>\n    <tr>\n      <th>tmp/policy_iteration/977283/model_aeq-20bits3/100/policy</th>\n      <td>-846.507480</td>\n      <td>28.458800</td>\n      <td>238.0</td>\n    </tr>\n    <tr>\n      <th>tmp/policy_iteration/411975/model_aeq-20bits3/10/policy</th>\n      <td>-600.938480</td>\n      <td>38.108825</td>\n      <td>281.0</td>\n    </tr>\n    <tr>\n      <th>tmp/policy_iteration/411975/model_aeq-20bits3/10000/policy</th>\n      <td>-417.723294</td>\n      <td>113.880609</td>\n      <td>782.0</td>\n    </tr>\n    <tr>\n      <th>tmp/policy_iteration/411975/model_aeq-20bits3/1000/policy</th>\n      <td>-272.694446</td>\n      <td>69.133524</td>\n      <td>731.0</td>\n    </tr>\n    <tr>\n      <th>tmp/policy_iteration/411975/model_aeq-20bits3/100/policy</th>\n      <td>-826.239242</td>\n      <td>57.452773</td>\n      <td>287.0</td>\n    </tr>\n  </tbody>\n</table>\n</div>"
     },
     "execution_count": 7,
     "metadata": {},
     "output_type": "execute_result"
    }
   ],
   "source": [
    "df = pd.DataFrame(policy_benchmarks.benchmark_metrics)\n",
    "df.T"
   ],
   "metadata": {
    "collapsed": false
   }
  },
  {
   "cell_type": "code",
   "execution_count": null,
   "outputs": [],
   "source": [
    "model_files"
   ],
   "metadata": {
    "collapsed": false
   }
  },
  {
   "cell_type": "code",
   "execution_count": null,
   "outputs": [],
   "source": [
    "policy_benchmarks.evaluators[0].eval_trajectories"
   ],
   "metadata": {
    "collapsed": false
   }
  },
  {
   "cell_type": "code",
   "execution_count": null,
   "outputs": [],
   "source": [],
   "metadata": {
    "collapsed": false
   }
  }
 ],
 "metadata": {
  "kernelspec": {
   "display_name": "Python 3",
   "language": "python",
   "name": "python3"
  },
  "language_info": {
   "codemirror_mode": {
    "name": "ipython",
    "version": 2
   },
   "file_extension": ".py",
   "mimetype": "text/x-python",
   "name": "python",
   "nbconvert_exporter": "python",
   "pygments_lexer": "ipython2",
   "version": "2.7.6"
  }
 },
 "nbformat": 4,
 "nbformat_minor": 0
}
