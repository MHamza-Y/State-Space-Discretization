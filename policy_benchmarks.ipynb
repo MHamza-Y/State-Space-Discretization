{
 "cells": [
  {
   "cell_type": "code",
   "execution_count": 1,
   "metadata": {
    "collapsed": true
   },
   "outputs": [],
   "source": [
    "import matplotlib.pyplot as plt\n",
    "from q_learning.algorithm import QLPolicy\n",
    "from envs.env_creator import env_creator\n",
    "from base_rl.eval_policy import EvalDiscreteStatePolicy\n",
    "from glob import glob\n",
    "import pandas as pd\n"
   ]
  },
  {
   "cell_type": "code",
   "execution_count": 2,
   "outputs": [],
   "source": [
    "plt.rcParams[\"figure.figsize\"] = [20, 12]"
   ],
   "metadata": {
    "collapsed": false
   }
  },
  {
   "cell_type": "code",
   "execution_count": 3,
   "outputs": [],
   "source": [
    "\n",
    "device = 'cuda'\n",
    "steps_per_episode = 1000\n",
    "model_names = ['model_aeq-20bits2', 'model_final_h20bits2', 'model_h_c-20bits2']\n",
    "experiment_id = '143631'\n",
    "experiment_type = 'mb_q_learning'\n",
    "model_files = {model_name: glob(f'tmp/{experiment_type}/{experiment_id}/{model_name}/*' ) for model_name in model_names}\n",
    "policy_class = QLPolicy\n"
   ],
   "metadata": {
    "collapsed": false
   }
  },
  {
   "cell_type": "code",
   "execution_count": 4,
   "outputs": [
    {
     "name": "stdout",
     "output_type": "stream",
     "text": [
      "Tag: tmp/mb_q_learning/633045/model_h_c-20bits/x_interval_policy\n",
      "Episode 9 Reward: -236.27558804609703 || New State Found: True\n"
     ]
    },
    {
     "data": {
      "text/plain": "<Figure size 432x288 with 1 Axes>",
      "image/png": "[encoded data removed]"
     },
     "metadata": {
      "needs_background": "light"
     },
     "output_type": "display_data"
    },
    {
     "name": "stdout",
     "output_type": "stream",
     "text": [
      "Reward Mean: -230.3904048130129\n",
      "Reward std : 3.189489865755925\n"
     ]
    }
   ],
   "source": [
    "from benchmarks.policy_benchmarks import PolicyBenchmarks\n",
    "\n",
    "benchmarks = {}\n",
    "evaluators = []\n",
    "for model_name,policy_files in model_files.items():\n",
    "    for policy_file in policy_files:\n",
    "        eval_policy = policy_class.load(policy_file)\n",
    "        env_kwargs = {'steps_per_episode': steps_per_episode, 'device': device,\n",
    "                      'model_path': f'tmp/state_quantization/{model_name}'}\n",
    "        evaluator = EvalDiscreteStatePolicy(policy=eval_policy, env_creator=env_creator, env_kwargs=env_kwargs, tag=policy_file.split('.')[0])\n",
    "        evaluators.append(evaluator)\n",
    "\n",
    "policy_benchmarks = PolicyBenchmarks(evaluators=evaluators, epochs=10)\n",
    "policy_benchmarks.benchmark()"
   ],
   "metadata": {
    "collapsed": false
   }
  },
  {
   "cell_type": "code",
   "execution_count": 5,
   "outputs": [
    {
     "data": {
      "text/plain": "                                                        reward       std\ntmp/mb_q_learning/633045/model_aeq-20bits/best_... -202.680205  5.029308\ntmp/mb_q_learning/633045/model_aeq-20bits/last_... -192.937841  1.106666\ntmp/mb_q_learning/633045/model_aeq-20bits/x_int... -193.425823  0.813873\ntmp/mb_q_learning/633045/model_final_h20bits/be... -203.029531  0.407745\ntmp/mb_q_learning/633045/model_final_h20bits/la... -203.212953  0.408764\ntmp/mb_q_learning/633045/model_final_h20bits/x_... -203.334003  0.364738\ntmp/mb_q_learning/633045/model_h_c-20bits/best_... -229.825549  2.903773\ntmp/mb_q_learning/633045/model_h_c-20bits/last_... -231.747810  4.386913\ntmp/mb_q_learning/633045/model_h_c-20bits/x_int... -230.390405  3.189490",
      "text/html": "<div>\n<style scoped>\n    .dataframe tbody tr th:only-of-type {\n        vertical-align: middle;\n    }\n\n    .dataframe tbody tr th {\n        vertical-align: top;\n    }\n\n    .dataframe thead th {\n        text-align: right;\n    }\n</style>\n<table border=\"1\" class=\"dataframe\">\n  <thead>\n    <tr style=\"text-align: right;\">\n      <th></th>\n      <th>reward</th>\n      <th>std</th>\n    </tr>\n  </thead>\n  <tbody>\n    <tr>\n      <th>tmp/mb_q_learning/633045/model_aeq-20bits/best_policy</th>\n      <td>-202.680205</td>\n      <td>5.029308</td>\n    </tr>\n    <tr>\n      <th>tmp/mb_q_learning/633045/model_aeq-20bits/last_save_policy</th>\n      <td>-192.937841</td>\n      <td>1.106666</td>\n    </tr>\n    <tr>\n      <th>tmp/mb_q_learning/633045/model_aeq-20bits/x_interval_policy</th>\n      <td>-193.425823</td>\n      <td>0.813873</td>\n    </tr>\n    <tr>\n      <th>tmp/mb_q_learning/633045/model_final_h20bits/best_policy</th>\n      <td>-203.029531</td>\n      <td>0.407745</td>\n    </tr>\n    <tr>\n      <th>tmp/mb_q_learning/633045/model_final_h20bits/last_save_policy</th>\n      <td>-203.212953</td>\n      <td>0.408764</td>\n    </tr>\n    <tr>\n      <th>tmp/mb_q_learning/633045/model_final_h20bits/x_interval_policy</th>\n      <td>-203.334003</td>\n      <td>0.364738</td>\n    </tr>\n    <tr>\n      <th>tmp/mb_q_learning/633045/model_h_c-20bits/best_policy</th>\n      <td>-229.825549</td>\n      <td>2.903773</td>\n    </tr>\n    <tr>\n      <th>tmp/mb_q_learning/633045/model_h_c-20bits/last_save_policy</th>\n      <td>-231.747810</td>\n      <td>4.386913</td>\n    </tr>\n    <tr>\n      <th>tmp/mb_q_learning/633045/model_h_c-20bits/x_interval_policy</th>\n      <td>-230.390405</td>\n      <td>3.189490</td>\n    </tr>\n  </tbody>\n</table>\n</div>"
     },
     "execution_count": 5,
     "metadata": {},
     "output_type": "execute_result"
    }
   ],
   "source": [
    "df = pd.DataFrame(policy_benchmarks.benchmark_metrics)\n",
    "df.T"
   ],
   "metadata": {
    "collapsed": false
   }
  },
  {
   "cell_type": "code",
   "execution_count": 6,
   "outputs": [
    {
     "data": {
      "text/plain": "{'model_aeq-20bits': ['tmp/mb_q_learning/633045/model_aeq-20bits/best_policy.pkl',\n  'tmp/mb_q_learning/633045/model_aeq-20bits/last_save_policy.pkl',\n  'tmp/mb_q_learning/633045/model_aeq-20bits/x_interval_policy.pkl'],\n 'model_final_h20bits': ['tmp/mb_q_learning/633045/model_final_h20bits/best_policy.pkl',\n  'tmp/mb_q_learning/633045/model_final_h20bits/last_save_policy.pkl',\n  'tmp/mb_q_learning/633045/model_final_h20bits/x_interval_policy.pkl'],\n 'model_h_c-20bits': ['tmp/mb_q_learning/633045/model_h_c-20bits/best_policy.pkl',\n  'tmp/mb_q_learning/633045/model_h_c-20bits/last_save_policy.pkl',\n  'tmp/mb_q_learning/633045/model_h_c-20bits/x_interval_policy.pkl']}"
     },
     "execution_count": 6,
     "metadata": {},
     "output_type": "execute_result"
    }
   ],
   "source": [
    "model_files"
   ],
   "metadata": {
    "collapsed": false
   }
  },
  {
   "cell_type": "code",
   "execution_count": 6,
   "outputs": [],
   "source": [],
   "metadata": {
    "collapsed": false
   }
  }
 ],
 "metadata": {
  "kernelspec": {
   "display_name": "Python 3",
   "language": "python",
   "name": "python3"
  },
  "language_info": {
   "codemirror_mode": {
    "name": "ipython",
    "version": 2
   },
   "file_extension": ".py",
   "mimetype": "text/x-python",
   "name": "python",
   "nbconvert_exporter": "python",
   "pygments_lexer": "ipython2",
   "version": "2.7.6"
  }
 },
 "nbformat": 4,
 "nbformat_minor": 0
}
