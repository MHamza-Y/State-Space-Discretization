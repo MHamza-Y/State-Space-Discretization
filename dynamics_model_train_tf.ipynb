{
 "cells": [
  {
   "cell_type": "code",
   "execution_count": 1,
   "metadata": {
    "pycharm": {
     "name": "#%%\n"
    }
   },
   "outputs": [],
   "source": [
    "import h5py\n",
    "import keras\n",
    "import numpy as np\n",
    "from keras.models import Sequential, Model\n",
    "from keras.layers import Dense, Input\n",
    "from keras.layers import LSTM, CuDNNLSTM\n",
    "from keras.optimizers import Adam\n",
    "from keras.layers import Activation\n",
    "import tensorflow as tf\n",
    "import pandas as pd\n",
    "\n",
    "import matplotlib.pyplot as plt\n",
    "\n",
    "\n"
   ]
  },
  {
   "cell_type": "markdown",
   "metadata": {
    "pycharm": {
     "name": "#%% md\n"
    }
   },
   "source": [
    "## Load Data from file"
   ]
  },
  {
   "cell_type": "code",
   "execution_count": 2,
   "metadata": {
    "pycharm": {
     "name": "#%%\n"
    }
   },
   "outputs": [
    {
     "name": "stdout",
     "output_type": "stream",
     "text": [
      "<class 'numpy.ndarray'>\n"
     ]
    }
   ],
   "source": [
    "# def load_hdf_dataset(file_path, h5_key, input_key, output_key):\n",
    "#     df = pd.read_hdf(file_path, h5_key)\n",
    "#     x = np.array(df[[input_key]].to_numpy())\n",
    "#     y = np.array(df[[output_key]].to_numpy())\n",
    "#     x = np.array([np.array(row[0]) for row in x])\n",
    "#     y = np.array([np.array(row[0]) for row in y])\n",
    "#     return x, y\n",
    "# h5_key = 'ib-samples'\n",
    "# dataset_input_key = 'merged_input'\n",
    "# dataset_output_key = 'merged_output'\n",
    "# dataset_file_path = 'tmp/ib-out/ib-samples.h5'\n",
    "\n",
    "def load_hdf_dataset(file_path, h5_key, input_key, output_key):\n",
    "    #hf = h5py.File(file_path, 'r')\n",
    "    dataset = np.load(file_path, allow_pickle=True)\n",
    "    print(type(dataset))\n",
    "    x = dataset[()][input_key]\n",
    "    #x = np.array([np.array(row[0]) for row in x])\n",
    "\n",
    "    y = dataset[()][output_key]\n",
    "    #y = np.array([np.array(row[0]) for row in y])\n",
    "\n",
    "    #hf.close()\n",
    "    return x, y\n",
    "h5_key = 'ib-samples'\n",
    "dataset_input_key = 'merged_input'\n",
    "dataset_output_key = 'merged_output'\n",
    "dataset_file_path = 'tmp/ib-out/ib-samples.npy'\n",
    "\n",
    "x, y = load_hdf_dataset(file_path=dataset_file_path, h5_key=h5_key, input_key=dataset_input_key, output_key= dataset_output_key)\n"
   ]
  },
  {
   "cell_type": "code",
   "execution_count": 3,
   "metadata": {
    "pycharm": {
     "name": "#%%\n"
    }
   },
   "outputs": [
    {
     "data": {
      "text/plain": "(969000, 30, 9)"
     },
     "execution_count": 3,
     "metadata": {},
     "output_type": "execute_result"
    }
   ],
   "source": [
    "from sys import getsizeof\n",
    "\n",
    "x.shape"
   ]
  },
  {
   "cell_type": "markdown",
   "metadata": {
    "pycharm": {
     "name": "#%% md\n"
    }
   },
   "source": [
    "## Create Dataset"
   ]
  },
  {
   "cell_type": "code",
   "execution_count": 4,
   "metadata": {
    "pycharm": {
     "name": "#%%\n"
    }
   },
   "outputs": [],
   "source": [
    "\n",
    "timesteps, data_dim = np.shape(x[0])\n"
   ]
  },
  {
   "cell_type": "code",
   "execution_count": 5,
   "outputs": [
    {
     "name": "stdout",
     "output_type": "stream",
     "text": [
      "WARNING:tensorflow:Layer lstm will not use cuDNN kernels since it doesn't meet the criteria. It will use a generic GPU kernel as fallback when running on GPU.\n"
     ]
    },
    {
     "name": "stderr",
     "output_type": "stream",
     "text": [
      "2022-08-11 11:15:31.086640: I tensorflow/stream_executor/cuda/cuda_gpu_executor.cc:975] successful NUMA node read from SysFS had negative value (-1), but there must be at least one NUMA node, so returning NUMA node zero\n",
      "2022-08-11 11:15:31.114646: I tensorflow/stream_executor/cuda/cuda_gpu_executor.cc:975] successful NUMA node read from SysFS had negative value (-1), but there must be at least one NUMA node, so returning NUMA node zero\n",
      "2022-08-11 11:15:31.114829: I tensorflow/stream_executor/cuda/cuda_gpu_executor.cc:975] successful NUMA node read from SysFS had negative value (-1), but there must be at least one NUMA node, so returning NUMA node zero\n",
      "2022-08-11 11:15:31.115302: I tensorflow/core/platform/cpu_feature_guard.cc:193] This TensorFlow binary is optimized with oneAPI Deep Neural Network Library (oneDNN) to use the following CPU instructions in performance-critical operations:  AVX2 FMA\n",
      "To enable them in other operations, rebuild TensorFlow with the appropriate compiler flags.\n",
      "2022-08-11 11:15:31.116144: I tensorflow/stream_executor/cuda/cuda_gpu_executor.cc:975] successful NUMA node read from SysFS had negative value (-1), but there must be at least one NUMA node, so returning NUMA node zero\n",
      "2022-08-11 11:15:31.116277: I tensorflow/stream_executor/cuda/cuda_gpu_executor.cc:975] successful NUMA node read from SysFS had negative value (-1), but there must be at least one NUMA node, so returning NUMA node zero\n",
      "2022-08-11 11:15:31.116389: I tensorflow/stream_executor/cuda/cuda_gpu_executor.cc:975] successful NUMA node read from SysFS had negative value (-1), but there must be at least one NUMA node, so returning NUMA node zero\n",
      "2022-08-11 11:15:31.434720: I tensorflow/stream_executor/cuda/cuda_gpu_executor.cc:975] successful NUMA node read from SysFS had negative value (-1), but there must be at least one NUMA node, so returning NUMA node zero\n",
      "2022-08-11 11:15:31.434867: I tensorflow/stream_executor/cuda/cuda_gpu_executor.cc:975] successful NUMA node read from SysFS had negative value (-1), but there must be at least one NUMA node, so returning NUMA node zero\n",
      "2022-08-11 11:15:31.435054: I tensorflow/stream_executor/cuda/cuda_gpu_executor.cc:975] successful NUMA node read from SysFS had negative value (-1), but there must be at least one NUMA node, so returning NUMA node zero\n",
      "2022-08-11 11:15:31.435149: I tensorflow/core/common_runtime/gpu/gpu_device.cc:1532] Created device /job:localhost/replica:0/task:0/device:GPU:0 with 3811 MB memory:  -> device: 0, name: NVIDIA GeForce RTX 3060 Laptop GPU, pci bus id: 0000:01:00.0, compute capability: 8.6\n"
     ]
    }
   ],
   "source": [
    "batch_size = 3230\n",
    "\n",
    "def create_model():\n",
    "\n",
    "    dynamic_model_input_layer = Input(shape=(timesteps, data_dim), batch_size=batch_size)\n",
    "    dynamic_model_lstm_layer = LSTM(32,return_state=False,return_sequences=True, activation=\"sigmoid\",stateful=True, dropout=0.7)(dynamic_model_input_layer)\n",
    "    dynamic_model_dense_layer = Dense(y.shape[2],activation=\"relu\")(dynamic_model_lstm_layer)\n",
    "    model = Model(inputs=dynamic_model_input_layer, outputs=dynamic_model_dense_layer)\n",
    "    model.compile(loss=['mean_squared_error'] , optimizer=Adam(0.001))\n",
    "    #model.build()\n",
    "    #model.summary()\n",
    "    return model\n",
    "model = create_model()"
   ],
   "metadata": {
    "collapsed": false,
    "pycharm": {
     "name": "#%%\n"
    }
   }
  },
  {
   "cell_type": "code",
   "execution_count": 6,
   "outputs": [],
   "source": [
    "def scheduler(epoch, lr):\n",
    "  if epoch == 200:\n",
    "    return lr*0.1\n",
    "  else:\n",
    "      return lr\n",
    "\n",
    "lr_callback = tf.keras.callbacks.LearningRateScheduler(scheduler)"
   ],
   "metadata": {
    "collapsed": false,
    "pycharm": {
     "name": "#%%\n"
    }
   }
  },
  {
   "cell_type": "code",
   "execution_count": null,
   "outputs": [
    {
     "name": "stderr",
     "output_type": "stream",
     "text": [
      "2022-08-11 11:15:31.858597: W tensorflow/core/framework/cpu_allocator_impl.cc:82] Allocation of 732564000 exceeds 10% of free system memory.\n",
      "2022-08-11 11:15:32.259192: W tensorflow/core/framework/cpu_allocator_impl.cc:82] Allocation of 732564000 exceeds 10% of free system memory.\n"
     ]
    },
    {
     "name": "stdout",
     "output_type": "stream",
     "text": [
      "Epoch 1/1000\n",
      " 13/210 [>.............................] - ETA: 2s - loss: 13443.9844"
     ]
    },
    {
     "name": "stderr",
     "output_type": "stream",
     "text": [
      "2022-08-11 11:15:33.745210: I tensorflow/stream_executor/cuda/cuda_blas.cc:1786] TensorFloat-32 will be used for the matrix multiplication. This will only be logged once.\n"
     ]
    },
    {
     "name": "stdout",
     "output_type": "stream",
     "text": [
      "210/210 [==============================] - 5s 17ms/step - loss: 12597.2334 - val_loss: 12379.7217 - lr: 0.0010\n",
      "Epoch 2/1000\n",
      "210/210 [==============================] - 3s 15ms/step - loss: 11421.1533 - val_loss: 11439.2793 - lr: 0.0010\n",
      "Epoch 3/1000\n",
      "210/210 [==============================] - 3s 15ms/step - loss: 10616.9668 - val_loss: 10729.0332 - lr: 0.0010\n",
      "Epoch 4/1000\n",
      "210/210 [==============================] - 3s 15ms/step - loss: 9982.7549 - val_loss: 10136.8330 - lr: 0.0010\n",
      "Epoch 5/1000\n",
      "210/210 [==============================] - 3s 15ms/step - loss: 9446.3838 - val_loss: 9628.1572 - lr: 0.0010\n",
      "Epoch 6/1000\n",
      "210/210 [==============================] - 3s 15ms/step - loss: 8983.6250 - val_loss: 9185.0625 - lr: 0.0010\n",
      "Epoch 7/1000\n",
      "210/210 [==============================] - 3s 15ms/step - loss: 8579.7051 - val_loss: 8795.0850 - lr: 0.0010\n",
      "Epoch 8/1000\n",
      "210/210 [==============================] - 3s 16ms/step - loss: 8223.6934 - val_loss: 8448.5430 - lr: 0.0010\n",
      "Epoch 9/1000\n",
      "210/210 [==============================] - 3s 16ms/step - loss: 7906.9194 - val_loss: 8137.6553 - lr: 0.0010\n",
      "Epoch 10/1000\n",
      "210/210 [==============================] - 3s 16ms/step - loss: 7622.3750 - val_loss: 7856.1284 - lr: 0.0010\n",
      "Epoch 11/1000\n",
      "210/210 [==============================] - 3s 16ms/step - loss: 7364.4106 - val_loss: 7598.9331 - lr: 0.0010\n",
      "Epoch 12/1000\n",
      "210/210 [==============================] - 3s 15ms/step - loss: 7128.5615 - val_loss: 7362.1445 - lr: 0.0010\n",
      "Epoch 13/1000\n",
      "210/210 [==============================] - 3s 15ms/step - loss: 6911.3774 - val_loss: 7142.7485 - lr: 0.0010\n",
      "Epoch 14/1000\n",
      "210/210 [==============================] - 3s 15ms/step - loss: 6710.2178 - val_loss: 6938.4727 - lr: 0.0010\n",
      "Epoch 15/1000\n",
      "210/210 [==============================] - 3s 15ms/step - loss: 6523.1201 - val_loss: 6747.6187 - lr: 0.0010\n",
      "Epoch 16/1000\n",
      "210/210 [==============================] - 3s 15ms/step - loss: 6348.6069 - val_loss: 6568.9009 - lr: 0.0010\n",
      "Epoch 17/1000\n",
      "210/210 [==============================] - 3s 15ms/step - loss: 6185.5708 - val_loss: 6401.3687 - lr: 0.0010\n",
      "Epoch 18/1000\n",
      "210/210 [==============================] - 3s 15ms/step - loss: 6033.1660 - val_loss: 6244.2710 - lr: 0.0010\n",
      "Epoch 19/1000\n",
      "210/210 [==============================] - 3s 15ms/step - loss: 5890.7437 - val_loss: 6097.0454 - lr: 0.0010\n",
      "Epoch 20/1000\n",
      "210/210 [==============================] - 3s 15ms/step - loss: 5757.7969 - val_loss: 5959.2383 - lr: 0.0010\n",
      "Epoch 21/1000\n",
      "210/210 [==============================] - 3s 16ms/step - loss: 5633.9141 - val_loss: 5830.4839 - lr: 0.0010\n",
      "Epoch 22/1000\n",
      "210/210 [==============================] - 3s 15ms/step - loss: 5518.7451 - val_loss: 5710.4629 - lr: 0.0010\n",
      "Epoch 23/1000\n",
      "210/210 [==============================] - 3s 15ms/step - loss: 5411.9878 - val_loss: 5598.8843 - lr: 0.0010\n",
      "Epoch 24/1000\n",
      "210/210 [==============================] - 3s 15ms/step - loss: 5313.3408 - val_loss: 5495.4712 - lr: 0.0010\n",
      "Epoch 25/1000\n",
      "210/210 [==============================] - 3s 15ms/step - loss: 5222.5269 - val_loss: 5399.9487 - lr: 0.0010\n",
      "Epoch 26/1000\n",
      "210/210 [==============================] - 3s 15ms/step - loss: 5139.2524 - val_loss: 5312.0337 - lr: 0.0010\n",
      "Epoch 27/1000\n",
      "210/210 [==============================] - 3s 15ms/step - loss: 5063.2207 - val_loss: 5231.4360 - lr: 0.0010\n",
      "Epoch 28/1000\n",
      "210/210 [==============================] - 3s 15ms/step - loss: 4994.1289 - val_loss: 5157.8560 - lr: 0.0010\n",
      "Epoch 29/1000\n",
      "210/210 [==============================] - 3s 15ms/step - loss: 4931.6606 - val_loss: 5090.9844 - lr: 0.0010\n",
      "Epoch 30/1000\n",
      "210/210 [==============================] - 3s 15ms/step - loss: 4875.4844 - val_loss: 5030.5005 - lr: 0.0010\n",
      "Epoch 31/1000\n",
      "210/210 [==============================] - 3s 16ms/step - loss: 4825.0601 - val_loss: 4976.0806 - lr: 0.0010\n",
      "Epoch 32/1000\n",
      "210/210 [==============================] - 3s 16ms/step - loss: 4778.6978 - val_loss: 4927.4819 - lr: 0.0010\n",
      "Epoch 33/1000\n",
      "210/210 [==============================] - 3s 15ms/step - loss: 4738.5557 - val_loss: 4884.2705 - lr: 0.0010\n",
      "Epoch 34/1000\n",
      "210/210 [==============================] - 3s 16ms/step - loss: 4703.6689 - val_loss: 4846.0469 - lr: 0.0010\n",
      "Epoch 35/1000\n",
      "210/210 [==============================] - 3s 16ms/step - loss: 4673.4409 - val_loss: 4812.4297 - lr: 0.0010\n",
      "Epoch 36/1000\n",
      "210/210 [==============================] - 3s 16ms/step - loss: 4647.4170 - val_loss: 4783.0361 - lr: 0.0010\n",
      "Epoch 37/1000\n",
      "210/210 [==============================] - 3s 15ms/step - loss: 4625.1479 - val_loss: 4757.4927 - lr: 0.0010\n",
      "Epoch 38/1000\n",
      "210/210 [==============================] - 3s 15ms/step - loss: 4606.2690 - val_loss: 4735.4204 - lr: 0.0010\n",
      "Epoch 39/1000\n",
      "210/210 [==============================] - 3s 15ms/step - loss: 4590.3750 - val_loss: 4716.4634 - lr: 0.0010\n",
      "Epoch 40/1000\n",
      "210/210 [==============================] - 3s 16ms/step - loss: 4577.1299 - val_loss: 4700.2686 - lr: 0.0010\n",
      "Epoch 41/1000\n",
      "210/210 [==============================] - 3s 17ms/step - loss: 4566.1265 - val_loss: 4686.5044 - lr: 0.0010\n",
      "Epoch 42/1000\n",
      "210/210 [==============================] - 3s 15ms/step - loss: 4557.1431 - val_loss: 4674.8638 - lr: 0.0010\n",
      "Epoch 43/1000\n",
      "210/210 [==============================] - 3s 15ms/step - loss: 4549.7861 - val_loss: 4665.0547 - lr: 0.0010\n",
      "Epoch 44/1000\n",
      "210/210 [==============================] - 3s 15ms/step - loss: 4543.8335 - val_loss: 4656.8247 - lr: 0.0010\n",
      "Epoch 45/1000\n",
      "210/210 [==============================] - 3s 15ms/step - loss: 4538.5312 - val_loss: 4647.7300 - lr: 0.0010\n",
      "Epoch 46/1000\n",
      "210/210 [==============================] - 3s 15ms/step - loss: 4533.8467 - val_loss: 4640.7378 - lr: 0.0010\n",
      "Epoch 47/1000\n",
      "210/210 [==============================] - 3s 15ms/step - loss: 4530.3643 - val_loss: 4635.0898 - lr: 0.0010\n",
      "Epoch 48/1000\n",
      "210/210 [==============================] - 3s 15ms/step - loss: 4527.6382 - val_loss: 4630.6885 - lr: 0.0010\n",
      "Epoch 49/1000\n",
      "210/210 [==============================] - 3s 15ms/step - loss: 4525.4814 - val_loss: 4626.5864 - lr: 0.0010\n",
      "Epoch 50/1000\n",
      "210/210 [==============================] - 3s 15ms/step - loss: 4523.7368 - val_loss: 4623.2729 - lr: 0.0010\n",
      "Epoch 51/1000\n",
      "210/210 [==============================] - 3s 15ms/step - loss: 4522.3506 - val_loss: 4620.5171 - lr: 0.0010\n",
      "Epoch 52/1000\n",
      "210/210 [==============================] - 3s 16ms/step - loss: 4521.2407 - val_loss: 4618.2788 - lr: 0.0010\n",
      "Epoch 53/1000\n",
      "210/210 [==============================] - 3s 15ms/step - loss: 4520.3374 - val_loss: 4616.0645 - lr: 0.0010\n",
      "Epoch 54/1000\n",
      "210/210 [==============================] - 3s 15ms/step - loss: 4519.5430 - val_loss: 4614.6084 - lr: 0.0010\n",
      "Epoch 55/1000\n",
      "210/210 [==============================] - 3s 15ms/step - loss: 4518.9023 - val_loss: 4612.6714 - lr: 0.0010\n",
      "Epoch 56/1000\n",
      "210/210 [==============================] - 3s 16ms/step - loss: 4518.3262 - val_loss: 4611.2476 - lr: 0.0010\n",
      "Epoch 57/1000\n",
      "210/210 [==============================] - 3s 16ms/step - loss: 4517.8623 - val_loss: 4610.3730 - lr: 0.0010\n",
      "Epoch 58/1000\n",
      "210/210 [==============================] - 3s 16ms/step - loss: 4517.3906 - val_loss: 4609.2065 - lr: 0.0010\n",
      "Epoch 59/1000\n",
      "210/210 [==============================] - 3s 16ms/step - loss: 4517.0249 - val_loss: 4608.3687 - lr: 0.0010\n",
      "Epoch 60/1000\n",
      "210/210 [==============================] - 3s 16ms/step - loss: 4516.6899 - val_loss: 4606.9038 - lr: 0.0010\n",
      "Epoch 61/1000\n",
      "210/210 [==============================] - 3s 15ms/step - loss: 4516.2837 - val_loss: 4606.3633 - lr: 0.0010\n",
      "Epoch 62/1000\n",
      "210/210 [==============================] - 3s 15ms/step - loss: 4516.0288 - val_loss: 4605.9053 - lr: 0.0010\n",
      "Epoch 63/1000\n",
      "210/210 [==============================] - 3s 16ms/step - loss: 4515.7568 - val_loss: 4605.0894 - lr: 0.0010\n",
      "Epoch 64/1000\n",
      "210/210 [==============================] - 3s 16ms/step - loss: 4515.2886 - val_loss: 4604.3560 - lr: 0.0010\n",
      "Epoch 65/1000\n",
      "210/210 [==============================] - 3s 15ms/step - loss: 4511.0679 - val_loss: 4603.0298 - lr: 0.0010\n",
      "Epoch 66/1000\n",
      "210/210 [==============================] - 3s 16ms/step - loss: 4504.9390 - val_loss: 4601.7759 - lr: 0.0010\n",
      "Epoch 67/1000\n",
      "210/210 [==============================] - 3s 15ms/step - loss: 4501.2529 - val_loss: 4600.9937 - lr: 0.0010\n",
      "Epoch 68/1000\n",
      "210/210 [==============================] - 3s 15ms/step - loss: 4498.8906 - val_loss: 4600.2109 - lr: 0.0010\n",
      "Epoch 69/1000\n",
      "210/210 [==============================] - 3s 15ms/step - loss: 4494.3857 - val_loss: 4599.9648 - lr: 0.0010\n",
      "Epoch 70/1000\n",
      "210/210 [==============================] - 3s 15ms/step - loss: 4488.7183 - val_loss: 4597.0747 - lr: 0.0010\n",
      "Epoch 71/1000\n",
      "210/210 [==============================] - 3s 15ms/step - loss: 4486.9238 - val_loss: 4596.9712 - lr: 0.0010\n",
      "Epoch 72/1000\n",
      "210/210 [==============================] - 3s 15ms/step - loss: 4478.4814 - val_loss: 4600.7422 - lr: 0.0010\n",
      "Epoch 73/1000\n",
      "210/210 [==============================] - 3s 16ms/step - loss: 4466.9521 - val_loss: 4596.2280 - lr: 0.0010\n",
      "Epoch 74/1000\n",
      "210/210 [==============================] - 3s 15ms/step - loss: 4455.9004 - val_loss: 4601.0986 - lr: 0.0010\n",
      "Epoch 75/1000\n",
      "210/210 [==============================] - 3s 15ms/step - loss: 4438.6787 - val_loss: 4601.0903 - lr: 0.0010\n",
      "Epoch 76/1000\n",
      "210/210 [==============================] - 3s 15ms/step - loss: 4425.0283 - val_loss: 4598.2759 - lr: 0.0010\n",
      "Epoch 77/1000\n",
      "210/210 [==============================] - 3s 15ms/step - loss: 4406.3481 - val_loss: 4597.5200 - lr: 0.0010\n",
      "Epoch 78/1000\n",
      "210/210 [==============================] - 3s 15ms/step - loss: 4379.3164 - val_loss: 4597.2358 - lr: 0.0010\n",
      "Epoch 79/1000\n",
      "210/210 [==============================] - 3s 15ms/step - loss: 4312.6675 - val_loss: 4545.0093 - lr: 0.0010\n",
      "Epoch 80/1000\n",
      "210/210 [==============================] - 3s 15ms/step - loss: 4262.3882 - val_loss: 4491.8779 - lr: 0.0010\n",
      "Epoch 81/1000\n",
      "210/210 [==============================] - 3s 15ms/step - loss: 4223.3682 - val_loss: 4489.6797 - lr: 0.0010\n",
      "Epoch 82/1000\n",
      "210/210 [==============================] - 3s 15ms/step - loss: 4197.2612 - val_loss: 4480.9121 - lr: 0.0010\n",
      "Epoch 83/1000\n",
      "210/210 [==============================] - 3s 15ms/step - loss: 4170.6157 - val_loss: 4479.8457 - lr: 0.0010\n",
      "Epoch 84/1000\n",
      "210/210 [==============================] - 3s 15ms/step - loss: 4147.7739 - val_loss: 4476.2559 - lr: 0.0010\n",
      "Epoch 85/1000\n",
      "210/210 [==============================] - 3s 15ms/step - loss: 4122.2109 - val_loss: 4480.2925 - lr: 0.0010\n",
      "Epoch 86/1000\n",
      "210/210 [==============================] - 3s 15ms/step - loss: 4099.5161 - val_loss: 4483.5811 - lr: 0.0010\n",
      "Epoch 87/1000\n",
      "210/210 [==============================] - 3s 15ms/step - loss: 4077.3127 - val_loss: 4484.9731 - lr: 0.0010\n",
      "Epoch 88/1000\n",
      "210/210 [==============================] - 3s 15ms/step - loss: 4055.4900 - val_loss: 4488.5884 - lr: 0.0010\n",
      "Epoch 89/1000\n",
      "210/210 [==============================] - 3s 15ms/step - loss: 4034.1860 - val_loss: 4488.3267 - lr: 0.0010\n",
      "Epoch 90/1000\n",
      "210/210 [==============================] - 3s 16ms/step - loss: 4010.7209 - val_loss: 4499.2495 - lr: 0.0010\n",
      "Epoch 91/1000\n",
      "210/210 [==============================] - 3s 16ms/step - loss: 3989.4583 - val_loss: 4496.3647 - lr: 0.0010\n",
      "Epoch 92/1000\n",
      "210/210 [==============================] - 3s 16ms/step - loss: 3966.9092 - val_loss: 4511.0669 - lr: 0.0010\n",
      "Epoch 93/1000\n",
      "210/210 [==============================] - 3s 16ms/step - loss: 3942.1980 - val_loss: 4519.7002 - lr: 0.0010\n",
      "Epoch 94/1000\n",
      "210/210 [==============================] - 3s 17ms/step - loss: 3919.1240 - val_loss: 4530.6011 - lr: 0.0010\n",
      "Epoch 95/1000\n",
      "210/210 [==============================] - 3s 17ms/step - loss: 3900.4092 - val_loss: 4530.9380 - lr: 0.0010\n",
      "Epoch 96/1000\n",
      "210/210 [==============================] - 3s 16ms/step - loss: 3882.1296 - val_loss: 4553.4077 - lr: 0.0010\n",
      "Epoch 97/1000\n",
      "210/210 [==============================] - 3s 16ms/step - loss: 3861.6572 - val_loss: 4549.0679 - lr: 0.0010\n",
      "Epoch 98/1000\n",
      "210/210 [==============================] - 3s 16ms/step - loss: 3841.2405 - val_loss: 4564.7158 - lr: 0.0010\n",
      "Epoch 99/1000\n",
      "210/210 [==============================] - 3s 15ms/step - loss: 3826.2231 - val_loss: 4559.8164 - lr: 0.0010\n",
      "Epoch 100/1000\n",
      "210/210 [==============================] - 3s 15ms/step - loss: 3811.7026 - val_loss: 4553.1616 - lr: 0.0010\n",
      "Epoch 101/1000\n",
      "210/210 [==============================] - 3s 15ms/step - loss: 3780.5210 - val_loss: 4545.5688 - lr: 0.0010\n",
      "Epoch 102/1000\n",
      "210/210 [==============================] - 3s 16ms/step - loss: 3734.4082 - val_loss: 4556.4624 - lr: 0.0010\n",
      "Epoch 103/1000\n",
      "210/210 [==============================] - 3s 16ms/step - loss: 3719.8533 - val_loss: 4568.7676 - lr: 0.0010\n",
      "Epoch 104/1000\n",
      "210/210 [==============================] - 3s 15ms/step - loss: 3701.4812 - val_loss: 4550.3579 - lr: 0.0010\n",
      "Epoch 105/1000\n",
      "210/210 [==============================] - 3s 15ms/step - loss: 3683.9883 - val_loss: 4552.7964 - lr: 0.0010\n",
      "Epoch 106/1000\n",
      "210/210 [==============================] - 3s 16ms/step - loss: 3672.6267 - val_loss: 4548.5596 - lr: 0.0010\n",
      "Epoch 107/1000\n",
      "210/210 [==============================] - 3s 15ms/step - loss: 3662.0039 - val_loss: 4563.2441 - lr: 0.0010\n",
      "Epoch 108/1000\n",
      "210/210 [==============================] - 3s 16ms/step - loss: 3652.2705 - val_loss: 4565.5337 - lr: 0.0010\n",
      "Epoch 109/1000\n",
      "210/210 [==============================] - 3s 15ms/step - loss: 3641.5806 - val_loss: 4576.3389 - lr: 0.0010\n",
      "Epoch 110/1000\n",
      "210/210 [==============================] - 3s 15ms/step - loss: 3632.4480 - val_loss: 4568.0938 - lr: 0.0010\n",
      "Epoch 111/1000\n",
      "210/210 [==============================] - 3s 15ms/step - loss: 3622.4185 - val_loss: 4582.6812 - lr: 0.0010\n",
      "Epoch 112/1000\n",
      "202/210 [===========================>..] - ETA: 0s - loss: 3598.8787"
     ]
    }
   ],
   "source": [
    "history = model.fit(x, y, epochs=1000, batch_size=batch_size, validation_split=0.3, shuffle=False, callbacks=[lr_callback])\n"
   ],
   "metadata": {
    "collapsed": false,
    "pycharm": {
     "name": "#%%\n"
    }
   }
  },
  {
   "cell_type": "code",
   "execution_count": null,
   "outputs": [],
   "source": [
    "plt.plot(history.history['loss'])\n",
    "plt.plot(history.history['val_loss'])\n",
    "plt.title('model loss')\n",
    "plt.ylabel('loss')\n",
    "plt.xlabel('epoch')\n",
    "plt.legend(['train', 'val'], loc='upper left')\n",
    "plt.show()"
   ],
   "metadata": {
    "collapsed": false,
    "pycharm": {
     "name": "#%%\n"
    }
   }
  },
  {
   "cell_type": "code",
   "execution_count": null,
   "metadata": {
    "pycharm": {
     "name": "#%%\n"
    }
   },
   "outputs": [],
   "source": [
    "model_path = 'dynamic_model/model.h5'\n",
    "model.save(model_path)"
   ]
  },
  {
   "cell_type": "code",
   "execution_count": null,
   "metadata": {
    "pycharm": {
     "name": "#%%\n"
    }
   },
   "outputs": [],
   "source": [
    "del model"
   ]
  },
  {
   "cell_type": "code",
   "execution_count": null,
   "metadata": {
    "pycharm": {
     "name": "#%%\n"
    }
   },
   "outputs": [],
   "source": [
    "model = keras.models.load_model(model_path)"
   ]
  },
  {
   "cell_type": "code",
   "execution_count": null,
   "metadata": {
    "pycharm": {
     "name": "#%%\n"
    }
   },
   "outputs": [],
   "source": [
    "x[0].shape"
   ]
  },
  {
   "cell_type": "code",
   "execution_count": null,
   "metadata": {
    "pycharm": {
     "name": "#%%\n"
    }
   },
   "outputs": [],
   "source": [
    "model_out = model.predict(np.array( [x[0],]))"
   ]
  },
  {
   "cell_type": "code",
   "execution_count": null,
   "metadata": {
    "pycharm": {
     "name": "#%%\n"
    }
   },
   "outputs": [],
   "source": [
    "model_out"
   ]
  },
  {
   "cell_type": "code",
   "execution_count": null,
   "metadata": {
    "pycharm": {
     "name": "#%%\n"
    }
   },
   "outputs": [],
   "source": [
    "y[0]"
   ]
  },
  {
   "cell_type": "code",
   "execution_count": null,
   "outputs": [],
   "source": [],
   "metadata": {
    "collapsed": false,
    "pycharm": {
     "name": "#%%\n"
    }
   }
  }
 ],
 "metadata": {
  "kernelspec": {
   "display_name": "Python 3 (ipykernel)",
   "language": "python",
   "name": "python3"
  },
  "language_info": {
   "codemirror_mode": {
    "name": "ipython",
    "version": 3
   },
   "file_extension": ".py",
   "mimetype": "text/x-python",
   "name": "python",
   "nbconvert_exporter": "python",
   "pygments_lexer": "ipython3",
   "version": "3.8.10"
  }
 },
 "nbformat": 4,
 "nbformat_minor": 1
}